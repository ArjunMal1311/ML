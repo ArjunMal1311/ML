{
  "nbformat": 4,
  "nbformat_minor": 0,
  "metadata": {
    "colab": {
      "provenance": [],
      "authorship_tag": "ABX9TyMJNpBHBQ0YZfpJPtptwlPX",
      "include_colab_link": true
    },
    "kernelspec": {
      "name": "python3",
      "display_name": "Python 3"
    },
    "language_info": {
      "name": "python"
    }
  },
  "cells": [
    {
      "cell_type": "markdown",
      "metadata": {
        "id": "view-in-github",
        "colab_type": "text"
      },
      "source": [
        "<a href=\"https://colab.research.google.com/github/ArjunMal1311/ML/blob/main/1-Tensorflow/2_Second_Hand_Car.ipynb\" target=\"_parent\"><img src=\"https://colab.research.google.com/assets/colab-badge.svg\" alt=\"Open In Colab\"/></a>"
      ]
    },
    {
      "cell_type": "code",
      "execution_count": 1,
      "metadata": {
        "id": "nh-09X_aA5CX"
      },
      "outputs": [],
      "source": [
        "import tensorflow as tf\n",
        "import pandas as pd\n",
        "import seaborn as sns"
      ]
    },
    {
      "cell_type": "code",
      "source": [
        "df = pd.read_csv(\"train.csv\")\n",
        "df.head()"
      ],
      "metadata": {
        "colab": {
          "base_uri": "https://localhost:8080/",
          "height": 206
        },
        "id": "8SnVrEANBEmw",
        "outputId": "dc60c7cf-bf98-40b3-caaf-56352ad3d434"
      },
      "execution_count": 2,
      "outputs": [
        {
          "output_type": "execute_result",
          "data": {
            "text/plain": [
              "   v.id  on road old  on road now  years      km  rating  condition  economy  \\\n",
              "0     1       535651       798186      3   78945       1          2       14   \n",
              "1     2       591911       861056      6  117220       5          9        9   \n",
              "2     3       686990       770762      2  132538       2          8       15   \n",
              "3     4       573999       722381      4  101065       4          3       11   \n",
              "4     5       691388       811335      6   61559       3          9       12   \n",
              "\n",
              "   top speed  hp  torque  current price  \n",
              "0        177  73     123       351318.0  \n",
              "1        148  74      95       285001.5  \n",
              "2        181  53      97       215386.0  \n",
              "3        197  54     116       244295.5  \n",
              "4        160  53     105       531114.5  "
            ],
            "text/html": [
              "\n",
              "  <div id=\"df-bb208f31-8c50-4dd0-9144-1e741a956219\" class=\"colab-df-container\">\n",
              "    <div>\n",
              "<style scoped>\n",
              "    .dataframe tbody tr th:only-of-type {\n",
              "        vertical-align: middle;\n",
              "    }\n",
              "\n",
              "    .dataframe tbody tr th {\n",
              "        vertical-align: top;\n",
              "    }\n",
              "\n",
              "    .dataframe thead th {\n",
              "        text-align: right;\n",
              "    }\n",
              "</style>\n",
              "<table border=\"1\" class=\"dataframe\">\n",
              "  <thead>\n",
              "    <tr style=\"text-align: right;\">\n",
              "      <th></th>\n",
              "      <th>v.id</th>\n",
              "      <th>on road old</th>\n",
              "      <th>on road now</th>\n",
              "      <th>years</th>\n",
              "      <th>km</th>\n",
              "      <th>rating</th>\n",
              "      <th>condition</th>\n",
              "      <th>economy</th>\n",
              "      <th>top speed</th>\n",
              "      <th>hp</th>\n",
              "      <th>torque</th>\n",
              "      <th>current price</th>\n",
              "    </tr>\n",
              "  </thead>\n",
              "  <tbody>\n",
              "    <tr>\n",
              "      <th>0</th>\n",
              "      <td>1</td>\n",
              "      <td>535651</td>\n",
              "      <td>798186</td>\n",
              "      <td>3</td>\n",
              "      <td>78945</td>\n",
              "      <td>1</td>\n",
              "      <td>2</td>\n",
              "      <td>14</td>\n",
              "      <td>177</td>\n",
              "      <td>73</td>\n",
              "      <td>123</td>\n",
              "      <td>351318.0</td>\n",
              "    </tr>\n",
              "    <tr>\n",
              "      <th>1</th>\n",
              "      <td>2</td>\n",
              "      <td>591911</td>\n",
              "      <td>861056</td>\n",
              "      <td>6</td>\n",
              "      <td>117220</td>\n",
              "      <td>5</td>\n",
              "      <td>9</td>\n",
              "      <td>9</td>\n",
              "      <td>148</td>\n",
              "      <td>74</td>\n",
              "      <td>95</td>\n",
              "      <td>285001.5</td>\n",
              "    </tr>\n",
              "    <tr>\n",
              "      <th>2</th>\n",
              "      <td>3</td>\n",
              "      <td>686990</td>\n",
              "      <td>770762</td>\n",
              "      <td>2</td>\n",
              "      <td>132538</td>\n",
              "      <td>2</td>\n",
              "      <td>8</td>\n",
              "      <td>15</td>\n",
              "      <td>181</td>\n",
              "      <td>53</td>\n",
              "      <td>97</td>\n",
              "      <td>215386.0</td>\n",
              "    </tr>\n",
              "    <tr>\n",
              "      <th>3</th>\n",
              "      <td>4</td>\n",
              "      <td>573999</td>\n",
              "      <td>722381</td>\n",
              "      <td>4</td>\n",
              "      <td>101065</td>\n",
              "      <td>4</td>\n",
              "      <td>3</td>\n",
              "      <td>11</td>\n",
              "      <td>197</td>\n",
              "      <td>54</td>\n",
              "      <td>116</td>\n",
              "      <td>244295.5</td>\n",
              "    </tr>\n",
              "    <tr>\n",
              "      <th>4</th>\n",
              "      <td>5</td>\n",
              "      <td>691388</td>\n",
              "      <td>811335</td>\n",
              "      <td>6</td>\n",
              "      <td>61559</td>\n",
              "      <td>3</td>\n",
              "      <td>9</td>\n",
              "      <td>12</td>\n",
              "      <td>160</td>\n",
              "      <td>53</td>\n",
              "      <td>105</td>\n",
              "      <td>531114.5</td>\n",
              "    </tr>\n",
              "  </tbody>\n",
              "</table>\n",
              "</div>\n",
              "    <div class=\"colab-df-buttons\">\n",
              "\n",
              "  <div class=\"colab-df-container\">\n",
              "    <button class=\"colab-df-convert\" onclick=\"convertToInteractive('df-bb208f31-8c50-4dd0-9144-1e741a956219')\"\n",
              "            title=\"Convert this dataframe to an interactive table.\"\n",
              "            style=\"display:none;\">\n",
              "\n",
              "  <svg xmlns=\"http://www.w3.org/2000/svg\" height=\"24px\" viewBox=\"0 -960 960 960\">\n",
              "    <path d=\"M120-120v-720h720v720H120Zm60-500h600v-160H180v160Zm220 220h160v-160H400v160Zm0 220h160v-160H400v160ZM180-400h160v-160H180v160Zm440 0h160v-160H620v160ZM180-180h160v-160H180v160Zm440 0h160v-160H620v160Z\"/>\n",
              "  </svg>\n",
              "    </button>\n",
              "\n",
              "  <style>\n",
              "    .colab-df-container {\n",
              "      display:flex;\n",
              "      gap: 12px;\n",
              "    }\n",
              "\n",
              "    .colab-df-convert {\n",
              "      background-color: #E8F0FE;\n",
              "      border: none;\n",
              "      border-radius: 50%;\n",
              "      cursor: pointer;\n",
              "      display: none;\n",
              "      fill: #1967D2;\n",
              "      height: 32px;\n",
              "      padding: 0 0 0 0;\n",
              "      width: 32px;\n",
              "    }\n",
              "\n",
              "    .colab-df-convert:hover {\n",
              "      background-color: #E2EBFA;\n",
              "      box-shadow: 0px 1px 2px rgba(60, 64, 67, 0.3), 0px 1px 3px 1px rgba(60, 64, 67, 0.15);\n",
              "      fill: #174EA6;\n",
              "    }\n",
              "\n",
              "    .colab-df-buttons div {\n",
              "      margin-bottom: 4px;\n",
              "    }\n",
              "\n",
              "    [theme=dark] .colab-df-convert {\n",
              "      background-color: #3B4455;\n",
              "      fill: #D2E3FC;\n",
              "    }\n",
              "\n",
              "    [theme=dark] .colab-df-convert:hover {\n",
              "      background-color: #434B5C;\n",
              "      box-shadow: 0px 1px 3px 1px rgba(0, 0, 0, 0.15);\n",
              "      filter: drop-shadow(0px 1px 2px rgba(0, 0, 0, 0.3));\n",
              "      fill: #FFFFFF;\n",
              "    }\n",
              "  </style>\n",
              "\n",
              "    <script>\n",
              "      const buttonEl =\n",
              "        document.querySelector('#df-bb208f31-8c50-4dd0-9144-1e741a956219 button.colab-df-convert');\n",
              "      buttonEl.style.display =\n",
              "        google.colab.kernel.accessAllowed ? 'block' : 'none';\n",
              "\n",
              "      async function convertToInteractive(key) {\n",
              "        const element = document.querySelector('#df-bb208f31-8c50-4dd0-9144-1e741a956219');\n",
              "        const dataTable =\n",
              "          await google.colab.kernel.invokeFunction('convertToInteractive',\n",
              "                                                    [key], {});\n",
              "        if (!dataTable) return;\n",
              "\n",
              "        const docLinkHtml = 'Like what you see? Visit the ' +\n",
              "          '<a target=\"_blank\" href=https://colab.research.google.com/notebooks/data_table.ipynb>data table notebook</a>'\n",
              "          + ' to learn more about interactive tables.';\n",
              "        element.innerHTML = '';\n",
              "        dataTable['output_type'] = 'display_data';\n",
              "        await google.colab.output.renderOutput(dataTable, element);\n",
              "        const docLink = document.createElement('div');\n",
              "        docLink.innerHTML = docLinkHtml;\n",
              "        element.appendChild(docLink);\n",
              "      }\n",
              "    </script>\n",
              "  </div>\n",
              "\n",
              "\n",
              "<div id=\"df-9220a6ac-250a-4eaa-aa7e-21e192358be8\">\n",
              "  <button class=\"colab-df-quickchart\" onclick=\"quickchart('df-9220a6ac-250a-4eaa-aa7e-21e192358be8')\"\n",
              "            title=\"Suggest charts.\"\n",
              "            style=\"display:none;\">\n",
              "\n",
              "<svg xmlns=\"http://www.w3.org/2000/svg\" height=\"24px\"viewBox=\"0 0 24 24\"\n",
              "     width=\"24px\">\n",
              "    <g>\n",
              "        <path d=\"M19 3H5c-1.1 0-2 .9-2 2v14c0 1.1.9 2 2 2h14c1.1 0 2-.9 2-2V5c0-1.1-.9-2-2-2zM9 17H7v-7h2v7zm4 0h-2V7h2v10zm4 0h-2v-4h2v4z\"/>\n",
              "    </g>\n",
              "</svg>\n",
              "  </button>\n",
              "\n",
              "<style>\n",
              "  .colab-df-quickchart {\n",
              "      --bg-color: #E8F0FE;\n",
              "      --fill-color: #1967D2;\n",
              "      --hover-bg-color: #E2EBFA;\n",
              "      --hover-fill-color: #174EA6;\n",
              "      --disabled-fill-color: #AAA;\n",
              "      --disabled-bg-color: #DDD;\n",
              "  }\n",
              "\n",
              "  [theme=dark] .colab-df-quickchart {\n",
              "      --bg-color: #3B4455;\n",
              "      --fill-color: #D2E3FC;\n",
              "      --hover-bg-color: #434B5C;\n",
              "      --hover-fill-color: #FFFFFF;\n",
              "      --disabled-bg-color: #3B4455;\n",
              "      --disabled-fill-color: #666;\n",
              "  }\n",
              "\n",
              "  .colab-df-quickchart {\n",
              "    background-color: var(--bg-color);\n",
              "    border: none;\n",
              "    border-radius: 50%;\n",
              "    cursor: pointer;\n",
              "    display: none;\n",
              "    fill: var(--fill-color);\n",
              "    height: 32px;\n",
              "    padding: 0;\n",
              "    width: 32px;\n",
              "  }\n",
              "\n",
              "  .colab-df-quickchart:hover {\n",
              "    background-color: var(--hover-bg-color);\n",
              "    box-shadow: 0 1px 2px rgba(60, 64, 67, 0.3), 0 1px 3px 1px rgba(60, 64, 67, 0.15);\n",
              "    fill: var(--button-hover-fill-color);\n",
              "  }\n",
              "\n",
              "  .colab-df-quickchart-complete:disabled,\n",
              "  .colab-df-quickchart-complete:disabled:hover {\n",
              "    background-color: var(--disabled-bg-color);\n",
              "    fill: var(--disabled-fill-color);\n",
              "    box-shadow: none;\n",
              "  }\n",
              "\n",
              "  .colab-df-spinner {\n",
              "    border: 2px solid var(--fill-color);\n",
              "    border-color: transparent;\n",
              "    border-bottom-color: var(--fill-color);\n",
              "    animation:\n",
              "      spin 1s steps(1) infinite;\n",
              "  }\n",
              "\n",
              "  @keyframes spin {\n",
              "    0% {\n",
              "      border-color: transparent;\n",
              "      border-bottom-color: var(--fill-color);\n",
              "      border-left-color: var(--fill-color);\n",
              "    }\n",
              "    20% {\n",
              "      border-color: transparent;\n",
              "      border-left-color: var(--fill-color);\n",
              "      border-top-color: var(--fill-color);\n",
              "    }\n",
              "    30% {\n",
              "      border-color: transparent;\n",
              "      border-left-color: var(--fill-color);\n",
              "      border-top-color: var(--fill-color);\n",
              "      border-right-color: var(--fill-color);\n",
              "    }\n",
              "    40% {\n",
              "      border-color: transparent;\n",
              "      border-right-color: var(--fill-color);\n",
              "      border-top-color: var(--fill-color);\n",
              "    }\n",
              "    60% {\n",
              "      border-color: transparent;\n",
              "      border-right-color: var(--fill-color);\n",
              "    }\n",
              "    80% {\n",
              "      border-color: transparent;\n",
              "      border-right-color: var(--fill-color);\n",
              "      border-bottom-color: var(--fill-color);\n",
              "    }\n",
              "    90% {\n",
              "      border-color: transparent;\n",
              "      border-bottom-color: var(--fill-color);\n",
              "    }\n",
              "  }\n",
              "</style>\n",
              "\n",
              "  <script>\n",
              "    async function quickchart(key) {\n",
              "      const quickchartButtonEl =\n",
              "        document.querySelector('#' + key + ' button');\n",
              "      quickchartButtonEl.disabled = true;  // To prevent multiple clicks.\n",
              "      quickchartButtonEl.classList.add('colab-df-spinner');\n",
              "      try {\n",
              "        const charts = await google.colab.kernel.invokeFunction(\n",
              "            'suggestCharts', [key], {});\n",
              "      } catch (error) {\n",
              "        console.error('Error during call to suggestCharts:', error);\n",
              "      }\n",
              "      quickchartButtonEl.classList.remove('colab-df-spinner');\n",
              "      quickchartButtonEl.classList.add('colab-df-quickchart-complete');\n",
              "    }\n",
              "    (() => {\n",
              "      let quickchartButtonEl =\n",
              "        document.querySelector('#df-9220a6ac-250a-4eaa-aa7e-21e192358be8 button');\n",
              "      quickchartButtonEl.style.display =\n",
              "        google.colab.kernel.accessAllowed ? 'block' : 'none';\n",
              "    })();\n",
              "  </script>\n",
              "</div>\n",
              "    </div>\n",
              "  </div>\n"
            ]
          },
          "metadata": {},
          "execution_count": 2
        }
      ]
    },
    {
      "cell_type": "code",
      "source": [
        "df.columns"
      ],
      "metadata": {
        "colab": {
          "base_uri": "https://localhost:8080/"
        },
        "id": "eEHIL78hBZ-1",
        "outputId": "e1e458cb-5a18-4468-9f5f-2dde679f63ac"
      },
      "execution_count": 3,
      "outputs": [
        {
          "output_type": "execute_result",
          "data": {
            "text/plain": [
              "Index(['v.id', 'on road old', 'on road now', 'years', 'km', 'rating',\n",
              "       'condition', 'economy', 'top speed', 'hp', 'torque', 'current price'],\n",
              "      dtype='object')"
            ]
          },
          "metadata": {},
          "execution_count": 3
        }
      ]
    },
    {
      "cell_type": "code",
      "source": [
        "# now we are taking years to torque as inputs so these are independent variables and output would\n",
        "# be price so its depending on the above parameters\n",
        "# [Ignoring id, road old, road now]"
      ],
      "metadata": {
        "id": "7dtc4nOQBb32"
      },
      "execution_count": null,
      "outputs": []
    },
    {
      "cell_type": "code",
      "source": [
        "tensor_data = tf.constant(df)\n",
        "tensor_data = tf.cast(tensor_data, tf.float32)\n",
        "\n",
        "tensor_data"
      ],
      "metadata": {
        "colab": {
          "base_uri": "https://localhost:8080/"
        },
        "id": "MGaR2V7BBuAk",
        "outputId": "85d8951b-e118-4d5b-de60-5b4658c11582"
      },
      "execution_count": 4,
      "outputs": [
        {
          "output_type": "execute_result",
          "data": {
            "text/plain": [
              "<tf.Tensor: shape=(1000, 12), dtype=float32, numpy=\n",
              "array([[1.000000e+00, 5.356510e+05, 7.981860e+05, ..., 7.300000e+01,\n",
              "        1.230000e+02, 3.513180e+05],\n",
              "       [2.000000e+00, 5.919110e+05, 8.610560e+05, ..., 7.400000e+01,\n",
              "        9.500000e+01, 2.850015e+05],\n",
              "       [3.000000e+00, 6.869900e+05, 7.707620e+05, ..., 5.300000e+01,\n",
              "        9.700000e+01, 2.153860e+05],\n",
              "       ...,\n",
              "       [9.980000e+02, 6.463440e+05, 8.427330e+05, ..., 1.130000e+02,\n",
              "        8.900000e+01, 4.058710e+05],\n",
              "       [9.990000e+02, 5.355590e+05, 7.324390e+05, ..., 1.120000e+02,\n",
              "        1.280000e+02, 7.439800e+04],\n",
              "       [1.000000e+03, 5.901050e+05, 7.797430e+05, ..., 9.900000e+01,\n",
              "        9.600000e+01, 4.149385e+05]], dtype=float32)>"
            ]
          },
          "metadata": {},
          "execution_count": 4
        }
      ]
    },
    {
      "cell_type": "code",
      "source": [
        "tensor_data[0:2]"
      ],
      "metadata": {
        "colab": {
          "base_uri": "https://localhost:8080/"
        },
        "id": "wqqKUwx0tjqe",
        "outputId": "158e3d40-dbde-445d-aa81-968091784e9e"
      },
      "execution_count": null,
      "outputs": [
        {
          "output_type": "execute_result",
          "data": {
            "text/plain": [
              "<tf.Tensor: shape=(2, 12), dtype=float64, numpy=\n",
              "array([[1.000000e+00, 5.356510e+05, 7.981860e+05, 3.000000e+00,\n",
              "        7.894500e+04, 1.000000e+00, 2.000000e+00, 1.400000e+01,\n",
              "        1.770000e+02, 7.300000e+01, 1.230000e+02, 3.513180e+05],\n",
              "       [2.000000e+00, 5.919110e+05, 8.610560e+05, 6.000000e+00,\n",
              "        1.172200e+05, 5.000000e+00, 9.000000e+00, 9.000000e+00,\n",
              "        1.480000e+02, 7.400000e+01, 9.500000e+01, 2.850015e+05]])>"
            ]
          },
          "metadata": {},
          "execution_count": 16
        }
      ]
    },
    {
      "cell_type": "code",
      "source": [
        "tensor_data = tf.random.shuffle(tensor_data)\n",
        "tensor_data[:5]"
      ],
      "metadata": {
        "colab": {
          "base_uri": "https://localhost:8080/"
        },
        "id": "E66iTgKuDM2B",
        "outputId": "78a5a775-af98-4228-e3ba-3c83c6b2aa20"
      },
      "execution_count": 5,
      "outputs": [
        {
          "output_type": "execute_result",
          "data": {
            "text/plain": [
              "<tf.Tensor: shape=(5, 12), dtype=float32, numpy=\n",
              "array([[6.130000e+02, 5.725680e+05, 7.735390e+05, 2.000000e+00,\n",
              "        1.145920e+05, 3.000000e+00, 6.000000e+00, 1.000000e+01,\n",
              "        2.000000e+02, 6.000000e+01, 9.800000e+01, 2.189080e+05],\n",
              "       [2.090000e+02, 6.437440e+05, 7.428630e+05, 4.000000e+00,\n",
              "        6.476400e+04, 4.000000e+00, 1.000000e+01, 9.000000e+00,\n",
              "        1.510000e+02, 9.900000e+01, 1.350000e+02, 4.844805e+05],\n",
              "       [4.270000e+02, 6.440520e+05, 7.962320e+05, 2.000000e+00,\n",
              "        8.169500e+04, 2.000000e+00, 5.000000e+00, 1.300000e+01,\n",
              "        1.500000e+02, 7.800000e+01, 1.300000e+02, 3.951880e+05],\n",
              "       [6.980000e+02, 6.031210e+05, 7.905830e+05, 4.000000e+00,\n",
              "        1.067150e+05, 2.000000e+00, 1.000000e+01, 1.400000e+01,\n",
              "        1.380000e+02, 5.900000e+01, 7.100000e+01, 3.197280e+05],\n",
              "       [7.000000e+02, 6.313010e+05, 8.195640e+05, 4.000000e+00,\n",
              "        9.932000e+04, 3.000000e+00, 8.000000e+00, 1.300000e+01,\n",
              "        1.610000e+02, 7.600000e+01, 1.130000e+02, 3.444055e+05]],\n",
              "      dtype=float32)>"
            ]
          },
          "metadata": {},
          "execution_count": 5
        }
      ]
    },
    {
      "cell_type": "code",
      "source": [
        "X = tensor_data[:, 3:-1] # Ignoring first 3 columns and the price column"
      ],
      "metadata": {
        "id": "meLabeXgDUQ5"
      },
      "execution_count": 6,
      "outputs": []
    },
    {
      "cell_type": "code",
      "source": [
        "X.shape"
      ],
      "metadata": {
        "colab": {
          "base_uri": "https://localhost:8080/"
        },
        "id": "EhN7ERpvDujx",
        "outputId": "a9e1da16-4694-422d-862c-c667c3d33c1f"
      },
      "execution_count": null,
      "outputs": [
        {
          "output_type": "execute_result",
          "data": {
            "text/plain": [
              "TensorShape([1000, 8])"
            ]
          },
          "metadata": {},
          "execution_count": 6
        }
      ]
    },
    {
      "cell_type": "code",
      "source": [
        "X[:5]"
      ],
      "metadata": {
        "colab": {
          "base_uri": "https://localhost:8080/"
        },
        "id": "JyDv15ljD4ts",
        "outputId": "1cf49845-0c08-45b6-c469-5a370e795a14"
      },
      "execution_count": null,
      "outputs": [
        {
          "output_type": "execute_result",
          "data": {
            "text/plain": [
              "<tf.Tensor: shape=(5, 8), dtype=float32, numpy=\n",
              "array([[4.00000e+00, 7.74410e+04, 5.00000e+00, 4.00000e+00, 1.00000e+01,\n",
              "        1.73000e+02, 6.70000e+01, 7.90000e+01],\n",
              "       [2.00000e+00, 1.36449e+05, 2.00000e+00, 6.00000e+00, 1.50000e+01,\n",
              "        1.92000e+02, 1.20000e+02, 1.36000e+02],\n",
              "       [3.00000e+00, 5.66980e+04, 4.00000e+00, 1.00000e+00, 9.00000e+00,\n",
              "        1.98000e+02, 9.80000e+01, 1.18000e+02],\n",
              "       [2.00000e+00, 1.32215e+05, 1.00000e+00, 5.00000e+00, 1.50000e+01,\n",
              "        1.41000e+02, 6.00000e+01, 9.00000e+01],\n",
              "       [3.00000e+00, 7.89450e+04, 1.00000e+00, 2.00000e+00, 1.40000e+01,\n",
              "        1.77000e+02, 7.30000e+01, 1.23000e+02]], dtype=float32)>"
            ]
          },
          "metadata": {},
          "execution_count": 7
        }
      ]
    },
    {
      "cell_type": "code",
      "source": [
        "y = tensor_data[:, -1]\n",
        "y.shape"
      ],
      "metadata": {
        "colab": {
          "base_uri": "https://localhost:8080/"
        },
        "id": "0iLd2h76D5c2",
        "outputId": "747c32d8-b544-4139-91d0-4a50f7f1beb6"
      },
      "execution_count": 7,
      "outputs": [
        {
          "output_type": "execute_result",
          "data": {
            "text/plain": [
              "TensorShape([1000])"
            ]
          },
          "metadata": {},
          "execution_count": 7
        }
      ]
    },
    {
      "cell_type": "code",
      "source": [
        "# Adding extra dimension\n",
        "y = tf.expand_dims(y, axis = -1)\n",
        "y[:5]"
      ],
      "metadata": {
        "colab": {
          "base_uri": "https://localhost:8080/"
        },
        "id": "PVfB84UiEwcp",
        "outputId": "7fd99879-8402-4cc1-9d46-751c794fe9dc"
      },
      "execution_count": 8,
      "outputs": [
        {
          "output_type": "execute_result",
          "data": {
            "text/plain": [
              "<tf.Tensor: shape=(5, 1), dtype=float32, numpy=\n",
              "array([[218908. ],\n",
              "       [484480.5],\n",
              "       [395188. ],\n",
              "       [319728. ],\n",
              "       [344405.5]], dtype=float32)>"
            ]
          },
          "metadata": {},
          "execution_count": 8
        }
      ]
    },
    {
      "cell_type": "code",
      "source": [
        "from tensorflow.keras.layers import Normalization, Dense, InputLayer\n",
        "from tensorflow.keras.losses import MeanSquaredError, Huber, MeanAbsoluteError"
      ],
      "metadata": {
        "id": "Ebm4-XgNE5iz"
      },
      "execution_count": 32,
      "outputs": []
    },
    {
      "cell_type": "code",
      "source": [
        "# normalizer = Normalization(mean = 5, variance = 4)\n",
        "# x_normalized = tf.constant([[3, 4, 5, 6, 7]])    # ((x-mu)/sigma)\n",
        "# normalizer(x_normalized)\n",
        "\n",
        "normalizer = Normalization()\n",
        "x_normalized = tf.constant([[3, 5, 5, 6, 7],\n",
        "                            [4, 5, 6, 9, 8]]) # means and SD are gone column wise, mean -> (3+4)/2 --> 3.5 and SD would be 3.5-3 --> 0.5, so overall we get (x-mu)/SD so (4-3.5)/0.5 which is 1\n",
        "\n",
        "normalizer.adapt(x_normalized)\n",
        "normalizer(x_normalized)\n",
        "\n",
        "# Why are we normalizing\n",
        "# In order to train the data faster\n"
      ],
      "metadata": {
        "colab": {
          "base_uri": "https://localhost:8080/"
        },
        "id": "C-OjIr1GFv86",
        "outputId": "ef572c9f-cdc0-4beb-f418-7b51749082da"
      },
      "execution_count": 10,
      "outputs": [
        {
          "output_type": "execute_result",
          "data": {
            "text/plain": [
              "<tf.Tensor: shape=(2, 5), dtype=float32, numpy=\n",
              "array([[-1.,  0., -1., -1., -1.],\n",
              "       [ 1.,  0.,  1.,  1.,  1.]], dtype=float32)>"
            ]
          },
          "metadata": {},
          "execution_count": 10
        }
      ]
    },
    {
      "cell_type": "code",
      "source": [
        "# We will normalize the 8 columns of X\n",
        "\n",
        "normalizer = Normalization()\n",
        "normalizer.adapt(X)\n",
        "normalizer(X)[:5]"
      ],
      "metadata": {
        "colab": {
          "base_uri": "https://localhost:8080/"
        },
        "id": "AX5uJXYUF_59",
        "outputId": "d5a5bf50-a4bf-4f15-d900-b9caa0a25bea"
      },
      "execution_count": 11,
      "outputs": [
        {
          "output_type": "execute_result",
          "data": {
            "text/plain": [
              "<tf.Tensor: shape=(5, 8), dtype=float32, numpy=\n",
              "array([[-1.4904962 ,  0.49140757,  0.00855871,  0.14452504, -0.7288842 ,\n",
              "         1.7172815 , -1.1969745 , -0.2576471 ],\n",
              "       [-0.32650068, -1.218786  ,  0.7217798 ,  1.5614388 , -1.1774286 ,\n",
              "        -0.82437944,  0.70484465,  1.5002241 ],\n",
              "       [-1.4904962 , -0.63768125, -0.7046624 , -0.20970342,  0.6167489 ,\n",
              "        -0.87625   , -0.3192118 ,  1.262674  ],\n",
              "       [-0.32650068,  0.22105367, -0.7046624 ,  1.5614388 ,  1.0652933 ,\n",
              "        -1.4986976 , -1.2457391 , -1.540418  ],\n",
              "       [-0.32650068, -0.03275707,  0.00855871,  0.8529819 ,  0.6167489 ,\n",
              "        -0.30567312, -0.41674098,  0.4550034 ]], dtype=float32)>"
            ]
          },
          "metadata": {},
          "execution_count": 11
        }
      ]
    },
    {
      "cell_type": "code",
      "source": [
        "# LINEAR REGRESSION\n",
        "\n",
        "# the equation y = mx + c takes on a specific meaning and is used to represent the linear relationship between the independent\n",
        "# variable x and the dependent variable y within the framework of linear regression\n",
        "\n",
        "# We need to make the y = mx + c represent mostly of our inputs thus we are expecting a better function\n",
        "# It should represent best of our data\n",
        "\n",
        "\n",
        "\n",
        "# Below code is the sequential API\n",
        "# when layers form a sequence, they are constrcuted in a way one layer is stacked up\n",
        "# 1 - 2 - 3 ..... - N\n",
        "# In the form of sequence\n",
        "\n",
        "# We have a dense layer at the end and we need to ensure that the data that we pass to dense layer is normalized\n",
        "# like we have input horse power we input the horse power (x), multiply it by m and then add c\n",
        "# m is weight and c is bias\n",
        "\n",
        "# output is y (predicted)\n",
        "\n",
        "# Similarly in this modal we have 8 layers, we pass them to dense layer\n",
        "# for each input we have m1, m2 .... m8 weights -> m1x1 + m2x2 + ...... +m8x8 + c, this thing goes to dense layer\n",
        "# so total parameters are 9 so in the below code output you can see trainable params as 9\n",
        "\n",
        "# Non trainable params come from normalization layer (17)\n",
        "\n",
        "# Overview\n",
        "\n",
        "# Data -> Normalized -> Dense Layer -> Output\n",
        "\n",
        "# Dense(1), 1 output we want, if we want to predict 2 prices then Dense(2)"
      ],
      "metadata": {
        "id": "A10ZMsPNzA2N"
      },
      "execution_count": null,
      "outputs": []
    },
    {
      "cell_type": "code",
      "source": [
        "model = tf.keras.Sequential([InputLayer(input_shape = (8)) ,normalizer, Dense(1)]) # We are generally not passing 1000 inputs, we just pass around 32 inputs, not done in this!\n",
        "\n",
        "model.summary()"
      ],
      "metadata": {
        "id": "1MRSxNw0JiRj",
        "colab": {
          "base_uri": "https://localhost:8080/"
        },
        "outputId": "27cef269-20c2-47a7-e7fc-a34a3886ba0d"
      },
      "execution_count": 20,
      "outputs": [
        {
          "output_type": "stream",
          "name": "stdout",
          "text": [
            "Model: \"sequential_3\"\n",
            "_________________________________________________________________\n",
            " Layer (type)                Output Shape              Param #   \n",
            "=================================================================\n",
            " normalization_1 (Normaliza  multiple                  17        \n",
            " tion)                                                           \n",
            "                                                                 \n",
            " dense_3 (Dense)             (None, 1)                 9         \n",
            "                                                                 \n",
            "=================================================================\n",
            "Total params: 26 (108.00 Byte)\n",
            "Trainable params: 9 (36.00 Byte)\n",
            "Non-trainable params: 17 (72.00 Byte)\n",
            "_________________________________________________________________\n"
          ]
        }
      ]
    },
    {
      "cell_type": "code",
      "source": [
        "tf.keras.utils.plot_model(model, to_file = \"model.png\", show_shapes = True)"
      ],
      "metadata": {
        "id": "Af3zIxUTmrGi",
        "colab": {
          "base_uri": "https://localhost:8080/",
          "height": 312
        },
        "outputId": "89cc1fde-8b0a-45d1-8ba6-0b7e2a4e1e1b"
      },
      "execution_count": 21,
      "outputs": [
        {
          "output_type": "execute_result",
          "data": {
            "image/png": "[encoded data removed]",
            "text/plain": [
              "<IPython.core.display.Image object>"
            ]
          },
          "metadata": {},
          "execution_count": 21
        }
      ]
    },
    {
      "cell_type": "code",
      "source": [
        "# We now have build model y = mx + c\n",
        "# now we have line now when we put x we will get y\n",
        "# we need to compare the output which model gives and actual output\n",
        "# we need to minimize the error\n",
        "\n",
        "# so every time error occurs, we sanction the error\n",
        "\n",
        "# (actual output - y predicted)^2, if same then we get 0 then zero sanction\n",
        "# (2-4)^2 -> 4 (we amplify the error)\n",
        "\n",
        "# Overall error Calculation\n",
        "# we use Mean square error function\n",
        "\n",
        "# Refer Image 2-Modal"
      ],
      "metadata": {
        "id": "flH11g_Y1z47"
      },
      "execution_count": 22,
      "outputs": []
    },
    {
      "cell_type": "code",
      "source": [
        "# Usage Reference\n",
        "y_true = [[0.0, 1.0], [0.0, 0.0]]\n",
        "y_pred = [[1.0, 1.0], [1.0, 0.0]]\n",
        "\n",
        "mse = tf.keras.losses.MeanSquaredError()\n",
        "mse(y_true, y_pred).numpy()    # (0-1)^2 -> 1, (1-1)^2 -> 0, (0-1)^2 -> 1, (0-0)^2 -> 0, so overall we get (1+0+1+0)/4, 4 is total elements, and we get 0.5"
      ],
      "metadata": {
        "colab": {
          "base_uri": "https://localhost:8080/"
        },
        "id": "AF3_HCQJ4k4r",
        "outputId": "f707e1e7-58cf-40e9-bb08-4cf099f46388"
      },
      "execution_count": 25,
      "outputs": [
        {
          "output_type": "execute_result",
          "data": {
            "text/plain": [
              "0.5"
            ]
          },
          "metadata": {},
          "execution_count": 25
        }
      ]
    },
    {
      "cell_type": "code",
      "source": [
        "# For regression, we can also use MeanAbsoluteError\n",
        "# loss = abc(y_true - y_pred)\n",
        "\n",
        "# we need to understand when to use either method\n",
        "\n",
        "# in mean absolute error the error mainly comes when we have outlier\n",
        "# the problem is we will get very large error and thus this error can be prevented by using meanabsoluteerror\n",
        "# which uses the absolute value rather than square\n",
        "\n",
        "\n",
        "\n",
        "# Loss function Yuba Loss allows us to use both methods in intelligent manner\n",
        "# loss = 0.5*x^2                    if |y_true - y_pred| <=d\n",
        "# loss = 0.5*d^2 + d*(|x| - d)      if |y_true - y_pred| > d\n",
        "\n",
        "# d is threashold which decides whether the data point is outlier or not"
      ],
      "metadata": {
        "id": "j5vYUNPO57Ve"
      },
      "execution_count": null,
      "outputs": []
    },
    {
      "cell_type": "code",
      "source": [
        "# model.compile(loss = Huber(delta = 1))\n",
        "\n",
        "model.compile(loss = MeanSquaredError())"
      ],
      "metadata": {
        "id": "cFHRilKa5Bp6"
      },
      "execution_count": 34,
      "outputs": []
    },
    {
      "cell_type": "code",
      "source": [
        "# We want to now obtain the value of m and c\n",
        "# Commonly used today is stochastic gradient descent [SGD]\n",
        "\n",
        "# W = Wp - (LR)(dL/dWp)    # Wp - Initialized Weight, LR is Learning Rate, (dL/dWp) -> Rate the loss changes wrt to that weight\n",
        "\n",
        "# y = mx + c\n",
        "# we ll assign weights (m) randomly so m = 0 anc c = 2 (say)\n",
        "\n",
        "# new m = 0 - 0.1*(dL/dm)\n",
        "# new c = 2 - 0.1*(dL/dc)\n",
        "\n",
        "# |Ya - (mx+c)| --> New Error\n"
      ],
      "metadata": {
        "id": "lqTEez1HDR31"
      },
      "execution_count": 35,
      "outputs": []
    },
    {
      "cell_type": "code",
      "source": [
        "model.fit(X, y, epochs = 100, verbose = 1) # epochs is the number of times we gonna update the weights, verbose deals with output of our training set"
      ],
      "metadata": {
        "colab": {
          "base_uri": "https://localhost:8080/"
        },
        "id": "EjlJQ3bJGdH4",
        "outputId": "0fbe5752-4339-4065-fe31-9edea2219539"
      },
      "execution_count": 36,
      "outputs": [
        {
          "output_type": "stream",
          "name": "stdout",
          "text": [
            "Epoch 1/100\n",
            "32/32 [==============================] - 1s 3ms/step - loss: 111063506944.0000\n",
            "Epoch 2/100\n",
            "32/32 [==============================] - 0s 3ms/step - loss: 111063474176.0000\n",
            "Epoch 3/100\n",
            "32/32 [==============================] - 0s 2ms/step - loss: 111063449600.0000\n",
            "Epoch 4/100\n",
            "32/32 [==============================] - 0s 2ms/step - loss: 111063416832.0000\n",
            "Epoch 5/100\n",
            "32/32 [==============================] - 0s 2ms/step - loss: 111063375872.0000\n",
            "Epoch 6/100\n",
            "32/32 [==============================] - 0s 1ms/step - loss: 111063367680.0000\n",
            "Epoch 7/100\n",
            "32/32 [==============================] - 0s 2ms/step - loss: 111063343104.0000\n",
            "Epoch 8/100\n",
            "32/32 [==============================] - 0s 2ms/step - loss: 111063318528.0000\n",
            "Epoch 9/100\n",
            "32/32 [==============================] - 0s 1ms/step - loss: 111063285760.0000\n",
            "Epoch 10/100\n",
            "32/32 [==============================] - 0s 1ms/step - loss: 111063252992.0000\n",
            "Epoch 11/100\n",
            "32/32 [==============================] - 0s 1ms/step - loss: 111063228416.0000\n",
            "Epoch 12/100\n",
            "32/32 [==============================] - 0s 2ms/step - loss: 111063203840.0000\n",
            "Epoch 13/100\n",
            "32/32 [==============================] - 0s 1ms/step - loss: 111063162880.0000\n",
            "Epoch 14/100\n",
            "32/32 [==============================] - 0s 1ms/step - loss: 111063162880.0000\n",
            "Epoch 15/100\n",
            "32/32 [==============================] - 0s 1ms/step - loss: 111063113728.0000\n",
            "Epoch 16/100\n",
            "32/32 [==============================] - 0s 1ms/step - loss: 111063121920.0000\n",
            "Epoch 17/100\n",
            "32/32 [==============================] - 0s 1ms/step - loss: 111063072768.0000\n",
            "Epoch 18/100\n",
            "32/32 [==============================] - 0s 2ms/step - loss: 111063048192.0000\n",
            "Epoch 19/100\n",
            "32/32 [==============================] - 0s 2ms/step - loss: 111063040000.0000\n",
            "Epoch 20/100\n",
            "32/32 [==============================] - 0s 2ms/step - loss: 111062990848.0000\n",
            "Epoch 21/100\n",
            "32/32 [==============================] - 0s 1ms/step - loss: 111062966272.0000\n",
            "Epoch 22/100\n",
            "32/32 [==============================] - 0s 1ms/step - loss: 111062941696.0000\n",
            "Epoch 23/100\n",
            "32/32 [==============================] - 0s 1ms/step - loss: 111062908928.0000\n",
            "Epoch 24/100\n",
            "32/32 [==============================] - 0s 2ms/step - loss: 111062876160.0000\n",
            "Epoch 25/100\n",
            "32/32 [==============================] - 0s 2ms/step - loss: 111062859776.0000\n",
            "Epoch 26/100\n",
            "32/32 [==============================] - 0s 2ms/step - loss: 111062835200.0000\n",
            "Epoch 27/100\n",
            "32/32 [==============================] - 0s 1ms/step - loss: 111062818816.0000\n",
            "Epoch 28/100\n",
            "32/32 [==============================] - 0s 1ms/step - loss: 111062777856.0000\n",
            "Epoch 29/100\n",
            "32/32 [==============================] - 0s 1ms/step - loss: 111062736896.0000\n",
            "Epoch 30/100\n",
            "32/32 [==============================] - 0s 1ms/step - loss: 111062720512.0000\n",
            "Epoch 31/100\n",
            "32/32 [==============================] - 0s 1ms/step - loss: 111062695936.0000\n",
            "Epoch 32/100\n",
            "32/32 [==============================] - 0s 1ms/step - loss: 111062671360.0000\n",
            "Epoch 33/100\n",
            "32/32 [==============================] - 0s 2ms/step - loss: 111062654976.0000\n",
            "Epoch 34/100\n",
            "32/32 [==============================] - 0s 1ms/step - loss: 111062638592.0000\n",
            "Epoch 35/100\n",
            "32/32 [==============================] - 0s 1ms/step - loss: 111062581248.0000\n",
            "Epoch 36/100\n",
            "32/32 [==============================] - 0s 2ms/step - loss: 111062573056.0000\n",
            "Epoch 37/100\n",
            "32/32 [==============================] - 0s 2ms/step - loss: 111062540288.0000\n",
            "Epoch 38/100\n",
            "32/32 [==============================] - 0s 1ms/step - loss: 111062482944.0000\n",
            "Epoch 39/100\n",
            "32/32 [==============================] - 0s 1ms/step - loss: 111062482944.0000\n",
            "Epoch 40/100\n",
            "32/32 [==============================] - 0s 1ms/step - loss: 111062450176.0000\n",
            "Epoch 41/100\n",
            "32/32 [==============================] - 0s 2ms/step - loss: 111062425600.0000\n",
            "Epoch 42/100\n",
            "32/32 [==============================] - 0s 1ms/step - loss: 111062409216.0000\n",
            "Epoch 43/100\n",
            "32/32 [==============================] - 0s 1ms/step - loss: 111062368256.0000\n",
            "Epoch 44/100\n",
            "32/32 [==============================] - 0s 1ms/step - loss: 111062376448.0000\n",
            "Epoch 45/100\n",
            "32/32 [==============================] - 0s 1ms/step - loss: 111062327296.0000\n",
            "Epoch 46/100\n",
            "32/32 [==============================] - 0s 1ms/step - loss: 111062302720.0000\n",
            "Epoch 47/100\n",
            "32/32 [==============================] - 0s 1ms/step - loss: 111062286336.0000\n",
            "Epoch 48/100\n",
            "32/32 [==============================] - 0s 1ms/step - loss: 111062237184.0000\n",
            "Epoch 49/100\n",
            "32/32 [==============================] - 0s 2ms/step - loss: 111062212608.0000\n",
            "Epoch 50/100\n",
            "32/32 [==============================] - 0s 1ms/step - loss: 111062171648.0000\n",
            "Epoch 51/100\n",
            "32/32 [==============================] - 0s 1ms/step - loss: 111062155264.0000\n",
            "Epoch 52/100\n",
            "32/32 [==============================] - 0s 1ms/step - loss: 111062130688.0000\n",
            "Epoch 53/100\n",
            "32/32 [==============================] - 0s 1ms/step - loss: 111062130688.0000\n",
            "Epoch 54/100\n",
            "32/32 [==============================] - 0s 2ms/step - loss: 111062073344.0000\n",
            "Epoch 55/100\n",
            "32/32 [==============================] - 0s 1ms/step - loss: 111062056960.0000\n",
            "Epoch 56/100\n",
            "32/32 [==============================] - 0s 1ms/step - loss: 111062032384.0000\n",
            "Epoch 57/100\n",
            "32/32 [==============================] - 0s 2ms/step - loss: 111062007808.0000\n",
            "Epoch 58/100\n",
            "32/32 [==============================] - 0s 1ms/step - loss: 111061975040.0000\n",
            "Epoch 59/100\n",
            "32/32 [==============================] - 0s 1ms/step - loss: 111061950464.0000\n",
            "Epoch 60/100\n",
            "32/32 [==============================] - 0s 1ms/step - loss: 111061934080.0000\n",
            "Epoch 61/100\n",
            "32/32 [==============================] - 0s 2ms/step - loss: 111061893120.0000\n",
            "Epoch 62/100\n",
            "32/32 [==============================] - 0s 2ms/step - loss: 111061876736.0000\n",
            "Epoch 63/100\n",
            "32/32 [==============================] - 0s 1ms/step - loss: 111061827584.0000\n",
            "Epoch 64/100\n",
            "32/32 [==============================] - 0s 1ms/step - loss: 111061827584.0000\n",
            "Epoch 65/100\n",
            "32/32 [==============================] - 0s 1ms/step - loss: 111061786624.0000\n",
            "Epoch 66/100\n",
            "32/32 [==============================] - 0s 2ms/step - loss: 111061770240.0000\n",
            "Epoch 67/100\n",
            "32/32 [==============================] - 0s 2ms/step - loss: 111061712896.0000\n",
            "Epoch 68/100\n",
            "32/32 [==============================] - 0s 1ms/step - loss: 111061704704.0000\n",
            "Epoch 69/100\n",
            "32/32 [==============================] - 0s 1ms/step - loss: 111061688320.0000\n",
            "Epoch 70/100\n",
            "32/32 [==============================] - 0s 1ms/step - loss: 111061655552.0000\n",
            "Epoch 71/100\n",
            "32/32 [==============================] - 0s 1ms/step - loss: 111061622784.0000\n",
            "Epoch 72/100\n",
            "32/32 [==============================] - 0s 2ms/step - loss: 111061606400.0000\n",
            "Epoch 73/100\n",
            "32/32 [==============================] - 0s 1ms/step - loss: 111061590016.0000\n",
            "Epoch 74/100\n",
            "32/32 [==============================] - 0s 2ms/step - loss: 111061549056.0000\n",
            "Epoch 75/100\n",
            "32/32 [==============================] - 0s 1ms/step - loss: 111061524480.0000\n",
            "Epoch 76/100\n",
            "32/32 [==============================] - 0s 2ms/step - loss: 111061491712.0000\n",
            "Epoch 77/100\n",
            "32/32 [==============================] - 0s 1ms/step - loss: 111061458944.0000\n",
            "Epoch 78/100\n",
            "32/32 [==============================] - 0s 1ms/step - loss: 111061434368.0000\n",
            "Epoch 79/100\n",
            "32/32 [==============================] - 0s 2ms/step - loss: 111061409792.0000\n",
            "Epoch 80/100\n",
            "32/32 [==============================] - 0s 1ms/step - loss: 111061377024.0000\n",
            "Epoch 81/100\n",
            "32/32 [==============================] - 0s 1ms/step - loss: 111061352448.0000\n",
            "Epoch 82/100\n",
            "32/32 [==============================] - 0s 2ms/step - loss: 111061327872.0000\n",
            "Epoch 83/100\n",
            "32/32 [==============================] - 0s 2ms/step - loss: 111061311488.0000\n",
            "Epoch 84/100\n",
            "32/32 [==============================] - 0s 1ms/step - loss: 111061278720.0000\n",
            "Epoch 85/100\n",
            "32/32 [==============================] - 0s 2ms/step - loss: 111061254144.0000\n",
            "Epoch 86/100\n",
            "32/32 [==============================] - 0s 2ms/step - loss: 111061245952.0000\n",
            "Epoch 87/100\n",
            "32/32 [==============================] - 0s 1ms/step - loss: 111061204992.0000\n",
            "Epoch 88/100\n",
            "32/32 [==============================] - 0s 1ms/step - loss: 111061188608.0000\n",
            "Epoch 89/100\n",
            "32/32 [==============================] - 0s 1ms/step - loss: 111061164032.0000\n",
            "Epoch 90/100\n",
            "32/32 [==============================] - 0s 2ms/step - loss: 111061131264.0000\n",
            "Epoch 91/100\n",
            "32/32 [==============================] - 0s 2ms/step - loss: 111061090304.0000\n",
            "Epoch 92/100\n",
            "32/32 [==============================] - 0s 2ms/step - loss: 111061057536.0000\n",
            "Epoch 93/100\n",
            "32/32 [==============================] - 0s 1ms/step - loss: 111061049344.0000\n",
            "Epoch 94/100\n",
            "32/32 [==============================] - 0s 2ms/step - loss: 111061024768.0000\n",
            "Epoch 95/100\n",
            "32/32 [==============================] - 0s 1ms/step - loss: 111060983808.0000\n",
            "Epoch 96/100\n",
            "32/32 [==============================] - 0s 2ms/step - loss: 111060959232.0000\n",
            "Epoch 97/100\n",
            "32/32 [==============================] - 0s 2ms/step - loss: 111060934656.0000\n",
            "Epoch 98/100\n",
            "32/32 [==============================] - 0s 1ms/step - loss: 111060918272.0000\n",
            "Epoch 99/100\n",
            "32/32 [==============================] - 0s 1ms/step - loss: 111060901888.0000\n",
            "Epoch 100/100\n",
            "32/32 [==============================] - 0s 1ms/step - loss: 111060869120.0000\n"
          ]
        },
        {
          "output_type": "execute_result",
          "data": {
            "text/plain": [
              "<keras.src.callbacks.History at 0x7c6567349210>"
            ]
          },
          "metadata": {},
          "execution_count": 36
        }
      ]
    },
    {
      "cell_type": "code",
      "source": [],
      "metadata": {
        "id": "LFdmvjqNGn9J"
      },
      "execution_count": null,
      "outputs": []
    }
  ]
}