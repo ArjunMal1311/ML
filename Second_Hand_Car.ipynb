{
  "nbformat": 4,
  "nbformat_minor": 0,
  "metadata": {
    "colab": {
      "provenance": [],
      "authorship_tag": "ABX9TyNWRqgWpVVpSv0bRDk3pOz6",
      "include_colab_link": true
    },
    "kernelspec": {
      "name": "python3",
      "display_name": "Python 3"
    },
    "language_info": {
      "name": "python"
    }
  },
  "cells": [
    {
      "cell_type": "markdown",
      "metadata": {
        "id": "view-in-github",
        "colab_type": "text"
      },
      "source": [
        "<a href=\"https://colab.research.google.com/github/ArjunMal1311/ML/blob/main/Second_Hand_Car.ipynb\" target=\"_parent\"><img src=\"https://colab.research.google.com/assets/colab-badge.svg\" alt=\"Open In Colab\"/></a>"
      ]
    },
    {
      "cell_type": "code",
      "execution_count": null,
      "metadata": {
        "id": "nh-09X_aA5CX"
      },
      "outputs": [],
      "source": [
        "import tensorflow as tf\n",
        "import pandas as pd\n",
        "import seaborn as sns\n",
        "import matplotlib.pyplot as plt"
      ]
    },
    {
      "cell_type": "code",
      "source": [
        "df = pd.read_csv(\"train.csv\")\n",
        "df.head()"
      ],
      "metadata": {
        "colab": {
          "base_uri": "https://localhost:8080/",
          "height": 206
        },
        "id": "8SnVrEANBEmw",
        "outputId": "2dd3c448-97b5-4fb3-a454-2aabcd16dc8e"
      },
      "execution_count": null,
      "outputs": [
        {
          "output_type": "execute_result",
          "data": {
            "text/plain": [
              "   v.id  on road old  on road now  years      km  rating  condition  economy  \\\n",
              "0     1       535651       798186      3   78945       1          2       14   \n",
              "1     2       591911       861056      6  117220       5          9        9   \n",
              "2     3       686990       770762      2  132538       2          8       15   \n",
              "3     4       573999       722381      4  101065       4          3       11   \n",
              "4     5       691388       811335      6   61559       3          9       12   \n",
              "\n",
              "   top speed  hp  torque  current price  \n",
              "0        177  73     123       351318.0  \n",
              "1        148  74      95       285001.5  \n",
              "2        181  53      97       215386.0  \n",
              "3        197  54     116       244295.5  \n",
              "4        160  53     105       531114.5  "
            ],
            "text/html": [
              "\n",
              "  <div id=\"df-e01a8ec9-3af4-4227-84c3-b5341a227b2d\" class=\"colab-df-container\">\n",
              "    <div>\n",
              "<style scoped>\n",
              "    .dataframe tbody tr th:only-of-type {\n",
              "        vertical-align: middle;\n",
              "    }\n",
              "\n",
              "    .dataframe tbody tr th {\n",
              "        vertical-align: top;\n",
              "    }\n",
              "\n",
              "    .dataframe thead th {\n",
              "        text-align: right;\n",
              "    }\n",
              "</style>\n",
              "<table border=\"1\" class=\"dataframe\">\n",
              "  <thead>\n",
              "    <tr style=\"text-align: right;\">\n",
              "      <th></th>\n",
              "      <th>v.id</th>\n",
              "      <th>on road old</th>\n",
              "      <th>on road now</th>\n",
              "      <th>years</th>\n",
              "      <th>km</th>\n",
              "      <th>rating</th>\n",
              "      <th>condition</th>\n",
              "      <th>economy</th>\n",
              "      <th>top speed</th>\n",
              "      <th>hp</th>\n",
              "      <th>torque</th>\n",
              "      <th>current price</th>\n",
              "    </tr>\n",
              "  </thead>\n",
              "  <tbody>\n",
              "    <tr>\n",
              "      <th>0</th>\n",
              "      <td>1</td>\n",
              "      <td>535651</td>\n",
              "      <td>798186</td>\n",
              "      <td>3</td>\n",
              "      <td>78945</td>\n",
              "      <td>1</td>\n",
              "      <td>2</td>\n",
              "      <td>14</td>\n",
              "      <td>177</td>\n",
              "      <td>73</td>\n",
              "      <td>123</td>\n",
              "      <td>351318.0</td>\n",
              "    </tr>\n",
              "    <tr>\n",
              "      <th>1</th>\n",
              "      <td>2</td>\n",
              "      <td>591911</td>\n",
              "      <td>861056</td>\n",
              "      <td>6</td>\n",
              "      <td>117220</td>\n",
              "      <td>5</td>\n",
              "      <td>9</td>\n",
              "      <td>9</td>\n",
              "      <td>148</td>\n",
              "      <td>74</td>\n",
              "      <td>95</td>\n",
              "      <td>285001.5</td>\n",
              "    </tr>\n",
              "    <tr>\n",
              "      <th>2</th>\n",
              "      <td>3</td>\n",
              "      <td>686990</td>\n",
              "      <td>770762</td>\n",
              "      <td>2</td>\n",
              "      <td>132538</td>\n",
              "      <td>2</td>\n",
              "      <td>8</td>\n",
              "      <td>15</td>\n",
              "      <td>181</td>\n",
              "      <td>53</td>\n",
              "      <td>97</td>\n",
              "      <td>215386.0</td>\n",
              "    </tr>\n",
              "    <tr>\n",
              "      <th>3</th>\n",
              "      <td>4</td>\n",
              "      <td>573999</td>\n",
              "      <td>722381</td>\n",
              "      <td>4</td>\n",
              "      <td>101065</td>\n",
              "      <td>4</td>\n",
              "      <td>3</td>\n",
              "      <td>11</td>\n",
              "      <td>197</td>\n",
              "      <td>54</td>\n",
              "      <td>116</td>\n",
              "      <td>244295.5</td>\n",
              "    </tr>\n",
              "    <tr>\n",
              "      <th>4</th>\n",
              "      <td>5</td>\n",
              "      <td>691388</td>\n",
              "      <td>811335</td>\n",
              "      <td>6</td>\n",
              "      <td>61559</td>\n",
              "      <td>3</td>\n",
              "      <td>9</td>\n",
              "      <td>12</td>\n",
              "      <td>160</td>\n",
              "      <td>53</td>\n",
              "      <td>105</td>\n",
              "      <td>531114.5</td>\n",
              "    </tr>\n",
              "  </tbody>\n",
              "</table>\n",
              "</div>\n",
              "    <div class=\"colab-df-buttons\">\n",
              "\n",
              "  <div class=\"colab-df-container\">\n",
              "    <button class=\"colab-df-convert\" onclick=\"convertToInteractive('df-e01a8ec9-3af4-4227-84c3-b5341a227b2d')\"\n",
              "            title=\"Convert this dataframe to an interactive table.\"\n",
              "            style=\"display:none;\">\n",
              "\n",
              "  <svg xmlns=\"http://www.w3.org/2000/svg\" height=\"24px\" viewBox=\"0 -960 960 960\">\n",
              "    <path d=\"M120-120v-720h720v720H120Zm60-500h600v-160H180v160Zm220 220h160v-160H400v160Zm0 220h160v-160H400v160ZM180-400h160v-160H180v160Zm440 0h160v-160H620v160ZM180-180h160v-160H180v160Zm440 0h160v-160H620v160Z\"/>\n",
              "  </svg>\n",
              "    </button>\n",
              "\n",
              "  <style>\n",
              "    .colab-df-container {\n",
              "      display:flex;\n",
              "      gap: 12px;\n",
              "    }\n",
              "\n",
              "    .colab-df-convert {\n",
              "      background-color: #E8F0FE;\n",
              "      border: none;\n",
              "      border-radius: 50%;\n",
              "      cursor: pointer;\n",
              "      display: none;\n",
              "      fill: #1967D2;\n",
              "      height: 32px;\n",
              "      padding: 0 0 0 0;\n",
              "      width: 32px;\n",
              "    }\n",
              "\n",
              "    .colab-df-convert:hover {\n",
              "      background-color: #E2EBFA;\n",
              "      box-shadow: 0px 1px 2px rgba(60, 64, 67, 0.3), 0px 1px 3px 1px rgba(60, 64, 67, 0.15);\n",
              "      fill: #174EA6;\n",
              "    }\n",
              "\n",
              "    .colab-df-buttons div {\n",
              "      margin-bottom: 4px;\n",
              "    }\n",
              "\n",
              "    [theme=dark] .colab-df-convert {\n",
              "      background-color: #3B4455;\n",
              "      fill: #D2E3FC;\n",
              "    }\n",
              "\n",
              "    [theme=dark] .colab-df-convert:hover {\n",
              "      background-color: #434B5C;\n",
              "      box-shadow: 0px 1px 3px 1px rgba(0, 0, 0, 0.15);\n",
              "      filter: drop-shadow(0px 1px 2px rgba(0, 0, 0, 0.3));\n",
              "      fill: #FFFFFF;\n",
              "    }\n",
              "  </style>\n",
              "\n",
              "    <script>\n",
              "      const buttonEl =\n",
              "        document.querySelector('#df-e01a8ec9-3af4-4227-84c3-b5341a227b2d button.colab-df-convert');\n",
              "      buttonEl.style.display =\n",
              "        google.colab.kernel.accessAllowed ? 'block' : 'none';\n",
              "\n",
              "      async function convertToInteractive(key) {\n",
              "        const element = document.querySelector('#df-e01a8ec9-3af4-4227-84c3-b5341a227b2d');\n",
              "        const dataTable =\n",
              "          await google.colab.kernel.invokeFunction('convertToInteractive',\n",
              "                                                    [key], {});\n",
              "        if (!dataTable) return;\n",
              "\n",
              "        const docLinkHtml = 'Like what you see? Visit the ' +\n",
              "          '<a target=\"_blank\" href=https://colab.research.google.com/notebooks/data_table.ipynb>data table notebook</a>'\n",
              "          + ' to learn more about interactive tables.';\n",
              "        element.innerHTML = '';\n",
              "        dataTable['output_type'] = 'display_data';\n",
              "        await google.colab.output.renderOutput(dataTable, element);\n",
              "        const docLink = document.createElement('div');\n",
              "        docLink.innerHTML = docLinkHtml;\n",
              "        element.appendChild(docLink);\n",
              "      }\n",
              "    </script>\n",
              "  </div>\n",
              "\n",
              "\n",
              "<div id=\"df-b740440f-d6da-48c8-8e3e-e25f6d7b3ff3\">\n",
              "  <button class=\"colab-df-quickchart\" onclick=\"quickchart('df-b740440f-d6da-48c8-8e3e-e25f6d7b3ff3')\"\n",
              "            title=\"Suggest charts.\"\n",
              "            style=\"display:none;\">\n",
              "\n",
              "<svg xmlns=\"http://www.w3.org/2000/svg\" height=\"24px\"viewBox=\"0 0 24 24\"\n",
              "     width=\"24px\">\n",
              "    <g>\n",
              "        <path d=\"M19 3H5c-1.1 0-2 .9-2 2v14c0 1.1.9 2 2 2h14c1.1 0 2-.9 2-2V5c0-1.1-.9-2-2-2zM9 17H7v-7h2v7zm4 0h-2V7h2v10zm4 0h-2v-4h2v4z\"/>\n",
              "    </g>\n",
              "</svg>\n",
              "  </button>\n",
              "\n",
              "<style>\n",
              "  .colab-df-quickchart {\n",
              "      --bg-color: #E8F0FE;\n",
              "      --fill-color: #1967D2;\n",
              "      --hover-bg-color: #E2EBFA;\n",
              "      --hover-fill-color: #174EA6;\n",
              "      --disabled-fill-color: #AAA;\n",
              "      --disabled-bg-color: #DDD;\n",
              "  }\n",
              "\n",
              "  [theme=dark] .colab-df-quickchart {\n",
              "      --bg-color: #3B4455;\n",
              "      --fill-color: #D2E3FC;\n",
              "      --hover-bg-color: #434B5C;\n",
              "      --hover-fill-color: #FFFFFF;\n",
              "      --disabled-bg-color: #3B4455;\n",
              "      --disabled-fill-color: #666;\n",
              "  }\n",
              "\n",
              "  .colab-df-quickchart {\n",
              "    background-color: var(--bg-color);\n",
              "    border: none;\n",
              "    border-radius: 50%;\n",
              "    cursor: pointer;\n",
              "    display: none;\n",
              "    fill: var(--fill-color);\n",
              "    height: 32px;\n",
              "    padding: 0;\n",
              "    width: 32px;\n",
              "  }\n",
              "\n",
              "  .colab-df-quickchart:hover {\n",
              "    background-color: var(--hover-bg-color);\n",
              "    box-shadow: 0 1px 2px rgba(60, 64, 67, 0.3), 0 1px 3px 1px rgba(60, 64, 67, 0.15);\n",
              "    fill: var(--button-hover-fill-color);\n",
              "  }\n",
              "\n",
              "  .colab-df-quickchart-complete:disabled,\n",
              "  .colab-df-quickchart-complete:disabled:hover {\n",
              "    background-color: var(--disabled-bg-color);\n",
              "    fill: var(--disabled-fill-color);\n",
              "    box-shadow: none;\n",
              "  }\n",
              "\n",
              "  .colab-df-spinner {\n",
              "    border: 2px solid var(--fill-color);\n",
              "    border-color: transparent;\n",
              "    border-bottom-color: var(--fill-color);\n",
              "    animation:\n",
              "      spin 1s steps(1) infinite;\n",
              "  }\n",
              "\n",
              "  @keyframes spin {\n",
              "    0% {\n",
              "      border-color: transparent;\n",
              "      border-bottom-color: var(--fill-color);\n",
              "      border-left-color: var(--fill-color);\n",
              "    }\n",
              "    20% {\n",
              "      border-color: transparent;\n",
              "      border-left-color: var(--fill-color);\n",
              "      border-top-color: var(--fill-color);\n",
              "    }\n",
              "    30% {\n",
              "      border-color: transparent;\n",
              "      border-left-color: var(--fill-color);\n",
              "      border-top-color: var(--fill-color);\n",
              "      border-right-color: var(--fill-color);\n",
              "    }\n",
              "    40% {\n",
              "      border-color: transparent;\n",
              "      border-right-color: var(--fill-color);\n",
              "      border-top-color: var(--fill-color);\n",
              "    }\n",
              "    60% {\n",
              "      border-color: transparent;\n",
              "      border-right-color: var(--fill-color);\n",
              "    }\n",
              "    80% {\n",
              "      border-color: transparent;\n",
              "      border-right-color: var(--fill-color);\n",
              "      border-bottom-color: var(--fill-color);\n",
              "    }\n",
              "    90% {\n",
              "      border-color: transparent;\n",
              "      border-bottom-color: var(--fill-color);\n",
              "    }\n",
              "  }\n",
              "</style>\n",
              "\n",
              "  <script>\n",
              "    async function quickchart(key) {\n",
              "      const quickchartButtonEl =\n",
              "        document.querySelector('#' + key + ' button');\n",
              "      quickchartButtonEl.disabled = true;  // To prevent multiple clicks.\n",
              "      quickchartButtonEl.classList.add('colab-df-spinner');\n",
              "      try {\n",
              "        const charts = await google.colab.kernel.invokeFunction(\n",
              "            'suggestCharts', [key], {});\n",
              "      } catch (error) {\n",
              "        console.error('Error during call to suggestCharts:', error);\n",
              "      }\n",
              "      quickchartButtonEl.classList.remove('colab-df-spinner');\n",
              "      quickchartButtonEl.classList.add('colab-df-quickchart-complete');\n",
              "    }\n",
              "    (() => {\n",
              "      let quickchartButtonEl =\n",
              "        document.querySelector('#df-b740440f-d6da-48c8-8e3e-e25f6d7b3ff3 button');\n",
              "      quickchartButtonEl.style.display =\n",
              "        google.colab.kernel.accessAllowed ? 'block' : 'none';\n",
              "    })();\n",
              "  </script>\n",
              "</div>\n",
              "    </div>\n",
              "  </div>\n"
            ]
          },
          "metadata": {},
          "execution_count": 106
        }
      ]
    },
    {
      "cell_type": "code",
      "source": [
        "df.columns"
      ],
      "metadata": {
        "colab": {
          "base_uri": "https://localhost:8080/"
        },
        "id": "eEHIL78hBZ-1",
        "outputId": "d9c5cb70-67f1-4ded-fc70-ef15624ef56b"
      },
      "execution_count": null,
      "outputs": [
        {
          "output_type": "execute_result",
          "data": {
            "text/plain": [
              "Index(['v.id', 'on road old', 'on road now', 'years', 'km', 'rating',\n",
              "       'condition', 'economy', 'top speed', 'hp', 'torque', 'current price'],\n",
              "      dtype='object')"
            ]
          },
          "metadata": {},
          "execution_count": 107
        }
      ]
    },
    {
      "cell_type": "code",
      "source": [
        "# now we are taking years to torque as inputs so these are independent variables and output would\n",
        "# be price so its depending on the above parameters\n",
        "# [Ignoring id, road old, road now]"
      ],
      "metadata": {
        "id": "7dtc4nOQBb32"
      },
      "execution_count": null,
      "outputs": []
    },
    {
      "cell_type": "code",
      "source": [
        "tensor_data = tf.constant(df)\n",
        "tensor_data = tf.cast(tensor_data, tf.float32)\n",
        "\n",
        "tensor_data"
      ],
      "metadata": {
        "colab": {
          "base_uri": "https://localhost:8080/"
        },
        "id": "MGaR2V7BBuAk",
        "outputId": "0d414c12-1db1-4207-ba3e-db5a69be19db"
      },
      "execution_count": null,
      "outputs": [
        {
          "output_type": "execute_result",
          "data": {
            "text/plain": [
              "<tf.Tensor: shape=(1000, 12), dtype=float32, numpy=\n",
              "array([[1.000000e+00, 5.356510e+05, 7.981860e+05, ..., 7.300000e+01,\n",
              "        1.230000e+02, 3.513180e+05],\n",
              "       [2.000000e+00, 5.919110e+05, 8.610560e+05, ..., 7.400000e+01,\n",
              "        9.500000e+01, 2.850015e+05],\n",
              "       [3.000000e+00, 6.869900e+05, 7.707620e+05, ..., 5.300000e+01,\n",
              "        9.700000e+01, 2.153860e+05],\n",
              "       ...,\n",
              "       [9.980000e+02, 6.463440e+05, 8.427330e+05, ..., 1.130000e+02,\n",
              "        8.900000e+01, 4.058710e+05],\n",
              "       [9.990000e+02, 5.355590e+05, 7.324390e+05, ..., 1.120000e+02,\n",
              "        1.280000e+02, 7.439800e+04],\n",
              "       [1.000000e+03, 5.901050e+05, 7.797430e+05, ..., 9.900000e+01,\n",
              "        9.600000e+01, 4.149385e+05]], dtype=float32)>"
            ]
          },
          "metadata": {},
          "execution_count": 109
        }
      ]
    },
    {
      "cell_type": "code",
      "source": [
        "tensor_data[0:2]"
      ],
      "metadata": {
        "colab": {
          "base_uri": "https://localhost:8080/"
        },
        "id": "wqqKUwx0tjqe",
        "outputId": "d8ae28ff-3572-4b30-9f25-4c2a7f208d47"
      },
      "execution_count": null,
      "outputs": [
        {
          "output_type": "execute_result",
          "data": {
            "text/plain": [
              "<tf.Tensor: shape=(2, 12), dtype=float32, numpy=\n",
              "array([[1.000000e+00, 5.356510e+05, 7.981860e+05, 3.000000e+00,\n",
              "        7.894500e+04, 1.000000e+00, 2.000000e+00, 1.400000e+01,\n",
              "        1.770000e+02, 7.300000e+01, 1.230000e+02, 3.513180e+05],\n",
              "       [2.000000e+00, 5.919110e+05, 8.610560e+05, 6.000000e+00,\n",
              "        1.172200e+05, 5.000000e+00, 9.000000e+00, 9.000000e+00,\n",
              "        1.480000e+02, 7.400000e+01, 9.500000e+01, 2.850015e+05]],\n",
              "      dtype=float32)>"
            ]
          },
          "metadata": {},
          "execution_count": 110
        }
      ]
    },
    {
      "cell_type": "code",
      "source": [
        "tensor_data = tf.random.shuffle(tensor_data)\n",
        "tensor_data[:5]"
      ],
      "metadata": {
        "colab": {
          "base_uri": "https://localhost:8080/"
        },
        "id": "E66iTgKuDM2B",
        "outputId": "574a2d64-1327-4e0e-c11c-e4f090a1425c"
      },
      "execution_count": null,
      "outputs": [
        {
          "output_type": "execute_result",
          "data": {
            "text/plain": [
              "<tf.Tensor: shape=(5, 12), dtype=float32, numpy=\n",
              "array([[6.700000e+01, 6.749070e+05, 7.685490e+05, 4.000000e+00,\n",
              "        9.920700e+04, 4.000000e+00, 2.000000e+00, 1.400000e+01,\n",
              "        1.600000e+02, 6.400000e+01, 1.000000e+02, 3.251760e+05],\n",
              "       [3.500000e+02, 6.533700e+05, 8.953140e+05, 7.000000e+00,\n",
              "        6.791200e+04, 1.000000e+00, 1.000000e+00, 1.200000e+01,\n",
              "        1.360000e+02, 1.200000e+02, 1.010000e+02, 4.945420e+05],\n",
              "       [5.280000e+02, 6.168580e+05, 7.771970e+05, 7.000000e+00,\n",
              "        9.524600e+04, 4.000000e+00, 2.000000e+00, 8.000000e+00,\n",
              "        1.930000e+02, 7.500000e+01, 8.500000e+01, 3.083765e+05],\n",
              "       [3.770000e+02, 6.154630e+05, 7.129080e+05, 4.000000e+00,\n",
              "        5.155400e+04, 5.000000e+00, 5.000000e+00, 9.000000e+00,\n",
              "        1.480000e+02, 9.600000e+01, 7.000000e+01, 4.607800e+05],\n",
              "       [2.140000e+02, 6.552670e+05, 8.102660e+05, 6.000000e+00,\n",
              "        5.890100e+04, 1.000000e+00, 4.000000e+00, 8.000000e+00,\n",
              "        1.870000e+02, 7.900000e+01, 8.400000e+01, 4.939940e+05]],\n",
              "      dtype=float32)>"
            ]
          },
          "metadata": {},
          "execution_count": 111
        }
      ]
    },
    {
      "cell_type": "code",
      "source": [
        "X = tensor_data[:, 3:-1] # Ignoring first 3 columns and the price column"
      ],
      "metadata": {
        "id": "meLabeXgDUQ5"
      },
      "execution_count": null,
      "outputs": []
    },
    {
      "cell_type": "code",
      "source": [
        "X.shape"
      ],
      "metadata": {
        "colab": {
          "base_uri": "https://localhost:8080/"
        },
        "id": "EhN7ERpvDujx",
        "outputId": "4c579b50-bf5a-41a0-d436-76299778cf90"
      },
      "execution_count": null,
      "outputs": [
        {
          "output_type": "execute_result",
          "data": {
            "text/plain": [
              "TensorShape([1000, 8])"
            ]
          },
          "metadata": {},
          "execution_count": 113
        }
      ]
    },
    {
      "cell_type": "code",
      "source": [
        "X[:5]"
      ],
      "metadata": {
        "colab": {
          "base_uri": "https://localhost:8080/"
        },
        "id": "JyDv15ljD4ts",
        "outputId": "9caa3f31-d7d4-4f29-bc43-06f7ba1a8e3e"
      },
      "execution_count": null,
      "outputs": [
        {
          "output_type": "execute_result",
          "data": {
            "text/plain": [
              "<tf.Tensor: shape=(5, 8), dtype=float32, numpy=\n",
              "array([[4.0000e+00, 9.9207e+04, 4.0000e+00, 2.0000e+00, 1.4000e+01,\n",
              "        1.6000e+02, 6.4000e+01, 1.0000e+02],\n",
              "       [7.0000e+00, 6.7912e+04, 1.0000e+00, 1.0000e+00, 1.2000e+01,\n",
              "        1.3600e+02, 1.2000e+02, 1.0100e+02],\n",
              "       [7.0000e+00, 9.5246e+04, 4.0000e+00, 2.0000e+00, 8.0000e+00,\n",
              "        1.9300e+02, 7.5000e+01, 8.5000e+01],\n",
              "       [4.0000e+00, 5.1554e+04, 5.0000e+00, 5.0000e+00, 9.0000e+00,\n",
              "        1.4800e+02, 9.6000e+01, 7.0000e+01],\n",
              "       [6.0000e+00, 5.8901e+04, 1.0000e+00, 4.0000e+00, 8.0000e+00,\n",
              "        1.8700e+02, 7.9000e+01, 8.4000e+01]], dtype=float32)>"
            ]
          },
          "metadata": {},
          "execution_count": 114
        }
      ]
    },
    {
      "cell_type": "code",
      "source": [
        "y = tensor_data[:, -1]\n",
        "y.shape"
      ],
      "metadata": {
        "colab": {
          "base_uri": "https://localhost:8080/"
        },
        "id": "0iLd2h76D5c2",
        "outputId": "2fb6f0a3-aa3b-463e-a910-ca2b131dca3e"
      },
      "execution_count": null,
      "outputs": [
        {
          "output_type": "execute_result",
          "data": {
            "text/plain": [
              "TensorShape([1000])"
            ]
          },
          "metadata": {},
          "execution_count": 115
        }
      ]
    },
    {
      "cell_type": "code",
      "source": [
        "# Adding extra dimension\n",
        "y = tf.expand_dims(y, axis = -1)\n",
        "y[:5]"
      ],
      "metadata": {
        "colab": {
          "base_uri": "https://localhost:8080/"
        },
        "id": "PVfB84UiEwcp",
        "outputId": "d93f1095-b040-4fdd-ee91-e19af0067314"
      },
      "execution_count": null,
      "outputs": [
        {
          "output_type": "execute_result",
          "data": {
            "text/plain": [
              "<tf.Tensor: shape=(5, 1), dtype=float32, numpy=\n",
              "array([[325176. ],\n",
              "       [494542. ],\n",
              "       [308376.5],\n",
              "       [460780. ],\n",
              "       [493994. ]], dtype=float32)>"
            ]
          },
          "metadata": {},
          "execution_count": 116
        }
      ]
    },
    {
      "cell_type": "code",
      "source": [
        "from tensorflow.keras.layers import Normalization, Dense, InputLayer\n",
        "from tensorflow.keras.losses import MeanSquaredError, Huber, MeanAbsoluteError\n",
        "from tensorflow.keras.optimizers import Adam\n",
        "from tensorflow.keras.metrics import RootMeanSquaredError"
      ],
      "metadata": {
        "id": "Ebm4-XgNE5iz"
      },
      "execution_count": null,
      "outputs": []
    },
    {
      "cell_type": "code",
      "source": [
        "# normalizer = Normalization(mean = 5, variance = 4)\n",
        "# x_normalized = tf.constant([[3, 4, 5, 6, 7]])    # ((x-mu)/sigma)\n",
        "# normalizer(x_normalized)\n",
        "\n",
        "normalizer = Normalization()\n",
        "x_normalized = tf.constant([[3, 5, 5, 6, 7],\n",
        "                            [4, 5, 6, 9, 8]]) # means and SD are gone column wise, mean -> (3+4)/2 --> 3.5 and SD would be 3.5-3 --> 0.5, so overall we get (x-mu)/SD so (4-3.5)/0.5 which is 1\n",
        "\n",
        "normalizer.adapt(x_normalized)\n",
        "normalizer(x_normalized)\n",
        "\n",
        "# Why are we normalizing\n",
        "# In order to train the data faster\n"
      ],
      "metadata": {
        "colab": {
          "base_uri": "https://localhost:8080/"
        },
        "id": "C-OjIr1GFv86",
        "outputId": "0ba28006-bb1f-496c-8839-ba389c0fbb95"
      },
      "execution_count": null,
      "outputs": [
        {
          "output_type": "execute_result",
          "data": {
            "text/plain": [
              "<tf.Tensor: shape=(2, 5), dtype=float32, numpy=\n",
              "array([[-1.,  0., -1., -1., -1.],\n",
              "       [ 1.,  0.,  1.,  1.,  1.]], dtype=float32)>"
            ]
          },
          "metadata": {},
          "execution_count": 118
        }
      ]
    },
    {
      "cell_type": "code",
      "source": [
        "# We will normalize the 8 columns of X\n",
        "\n",
        "normalizer = Normalization()\n",
        "normalizer.adapt(X)\n",
        "normalizer(X)[:5]"
      ],
      "metadata": {
        "colab": {
          "base_uri": "https://localhost:8080/"
        },
        "id": "AX5uJXYUF_59",
        "outputId": "dd4aa9cb-dcfd-4675-eb26-1dd36943d1fb"
      },
      "execution_count": null,
      "outputs": [
        {
          "output_type": "execute_result",
          "data": {
            "text/plain": [
              "<tf.Tensor: shape=(5, 8), dtype=float32, numpy=\n",
              "array([[-0.32650122, -0.03663571,  0.7217797 , -1.2723889 ,  1.0652933 ,\n",
              "        -0.35754454, -1.0019177 , -0.16262706],\n",
              "       [ 1.419492  , -1.1107405 , -1.4178833 , -1.6266173 ,  0.16820458,\n",
              "        -1.6024396 ,  1.7288998 , -0.11511702],\n",
              "       [ 1.419492  , -0.17258489,  0.7217797 , -1.2723889 , -1.625973  ,\n",
              "         1.3541863 , -0.46550712, -0.87527764],\n",
              "       [-0.32650122, -1.6721787 ,  1.4350007 , -0.20970343, -1.1774286 ,\n",
              "        -0.9799921 ,  0.55854946, -1.5879282 ],\n",
              "       [ 0.83749425, -1.4200156 , -1.4178833 , -0.56393194, -1.625973  ,\n",
              "         1.0429624 , -0.2704487 , -0.92278767]], dtype=float32)>"
            ]
          },
          "metadata": {},
          "execution_count": 119
        }
      ]
    },
    {
      "cell_type": "code",
      "source": [
        "# LINEAR REGRESSION\n",
        "\n",
        "# the equation y = mx + c takes on a specific meaning and is used to represent the linear relationship between the independent\n",
        "# variable x and the dependent variable y within the framework of linear regression\n",
        "\n",
        "# We need to make the y = mx + c represent mostly of our inputs thus we are expecting a better function\n",
        "# It should represent best of our data\n",
        "\n",
        "\n",
        "\n",
        "# Below code is the sequential API\n",
        "# when layers form a sequence, they are constrcuted in a way one layer is stacked up\n",
        "# 1 - 2 - 3 ..... - N\n",
        "# In the form of sequence\n",
        "\n",
        "# We have a dense layer at the end and we need to ensure that the data that we pass to dense layer is normalized\n",
        "# like we have input horse power we input the horse power (x), multiply it by m and then add c\n",
        "# m is weight and c is bias\n",
        "\n",
        "# output is y (predicted)\n",
        "\n",
        "# Similarly in this modal we have 8 layers, we pass them to dense layer\n",
        "# for each input we have m1, m2 .... m8 weights -> m1x1 + m2x2 + ...... +m8x8 + c, this thing goes to dense layer\n",
        "# so total parameters are 9 so in the below code output you can see trainable params as 9\n",
        "\n",
        "# Non trainable params come from normalization layer (17)\n",
        "\n",
        "# Overview\n",
        "\n",
        "# Data -> Normalized -> Dense Layer -> Output\n",
        "\n",
        "# Dense(1), 1 output we want, if we want to predict 2 prices then Dense(2)"
      ],
      "metadata": {
        "id": "A10ZMsPNzA2N"
      },
      "execution_count": null,
      "outputs": []
    },
    {
      "cell_type": "code",
      "source": [
        "model = tf.keras.Sequential([InputLayer(input_shape = (8)) ,normalizer,\n",
        "\n",
        "                             Dense(32, activation = \"relu\"), # Hidden layer (read below)\n",
        "                             Dense(32, activation = \"relu\"), # Hidden layer (read below)\n",
        "                             Dense(32, activation = \"relu\"), # Hidden layer (read below)\n",
        "\n",
        "                             Dense(1)]) # output having one neuron             # We are generally not passing 1000 inputs, we just pass around 32 inputs, not done in this!\n",
        "\n",
        "model.summary()"
      ],
      "metadata": {
        "id": "1MRSxNw0JiRj",
        "colab": {
          "base_uri": "https://localhost:8080/"
        },
        "outputId": "ffbe5df4-abdf-474d-ec23-606a1d143b07"
      },
      "execution_count": null,
      "outputs": [
        {
          "output_type": "stream",
          "name": "stdout",
          "text": [
            "Model: \"sequential_3\"\n",
            "_________________________________________________________________\n",
            " Layer (type)                Output Shape              Param #   \n",
            "=================================================================\n",
            " normalization_7 (Normaliza  (None, 8)                 17        \n",
            " tion)                                                           \n",
            "                                                                 \n",
            " dense_9 (Dense)             (None, 32)                288       \n",
            "                                                                 \n",
            " dense_10 (Dense)            (None, 32)                1056      \n",
            "                                                                 \n",
            " dense_11 (Dense)            (None, 32)                1056      \n",
            "                                                                 \n",
            " dense_12 (Dense)            (None, 1)                 33        \n",
            "                                                                 \n",
            "=================================================================\n",
            "Total params: 2450 (9.57 KB)\n",
            "Trainable params: 2433 (9.50 KB)\n",
            "Non-trainable params: 17 (72.00 Byte)\n",
            "_________________________________________________________________\n"
          ]
        }
      ]
    },
    {
      "cell_type": "code",
      "source": [
        "tf.keras.utils.plot_model(model, to_file = \"model.png\", show_shapes = True)"
      ],
      "metadata": {
        "id": "Af3zIxUTmrGi",
        "colab": {
          "base_uri": "https://localhost:8080/",
          "height": 644
        },
        "outputId": "6875d7ea-0c39-443f-aba2-c91fc54910b6"
      },
      "execution_count": null,
      "outputs": [
        {
          "output_type": "execute_result",
          "data": {
            "image/png": "[encoded data removed]",
            "text/plain": [
              "<IPython.core.display.Image object>"
            ]
          },
          "metadata": {},
          "execution_count": 122
        }
      ]
    },
    {
      "cell_type": "code",
      "source": [
        "# We now have build model y = mx + c\n",
        "# now we have line now when we put x we will get y\n",
        "# we need to compare the output which model gives and actual output\n",
        "# we need to minimize the error\n",
        "\n",
        "# so every time error occurs, we sanction the error\n",
        "\n",
        "# (actual output - y predicted)^2, if same then we get 0 then zero sanction\n",
        "# (2-4)^2 -> 4 (we amplify the error)\n",
        "\n",
        "# Overall error Calculation\n",
        "# we use Mean square error function\n",
        "\n",
        "# Refer Image 2-Modal"
      ],
      "metadata": {
        "id": "flH11g_Y1z47"
      },
      "execution_count": null,
      "outputs": []
    },
    {
      "cell_type": "code",
      "source": [
        "# Usage Reference\n",
        "y_true = [[0.0, 1.0], [0.0, 0.0]]\n",
        "y_pred = [[1.0, 1.0], [1.0, 0.0]]\n",
        "\n",
        "mse = tf.keras.losses.MeanSquaredError()\n",
        "mse(y_true, y_pred).numpy()    # (0-1)^2 -> 1, (1-1)^2 -> 0, (0-1)^2 -> 1, (0-0)^2 -> 0, so overall we get (1+0+1+0)/4, 4 is total elements, and we get 0.5"
      ],
      "metadata": {
        "colab": {
          "base_uri": "https://localhost:8080/"
        },
        "id": "AF3_HCQJ4k4r",
        "outputId": "f460a277-1f58-44b8-e5bf-2a60cb9e5565"
      },
      "execution_count": null,
      "outputs": [
        {
          "output_type": "execute_result",
          "data": {
            "text/plain": [
              "0.5"
            ]
          },
          "metadata": {},
          "execution_count": 124
        }
      ]
    },
    {
      "cell_type": "code",
      "source": [
        "# For regression, we can also use MeanAbsoluteError\n",
        "# loss = abc(y_true - y_pred)\n",
        "\n",
        "# we need to understand when to use either method\n",
        "\n",
        "# in mean absolute error the error mainly comes when we have outlier\n",
        "# the problem is we will get very large error and thus this error can be prevented by using meanabsoluteerror\n",
        "# which uses the absolute value rather than square\n",
        "\n",
        "\n",
        "\n",
        "# Loss function Yuba Loss allows us to use both methods in intelligent manner\n",
        "# loss = 0.5*x^2                    if |y_true - y_pred| <=d\n",
        "# loss = 0.5*d^2 + d*(|x| - d)      if |y_true - y_pred| > d\n",
        "\n",
        "# d is threashold which decides whether the data point is outlier or not"
      ],
      "metadata": {
        "id": "j5vYUNPO57Ve"
      },
      "execution_count": null,
      "outputs": []
    },
    {
      "cell_type": "code",
      "source": [
        "# model.compile(loss = Huber(delta = 1))\n",
        "\n",
        "model.compile(loss = MeanSquaredError())"
      ],
      "metadata": {
        "id": "cFHRilKa5Bp6"
      },
      "execution_count": null,
      "outputs": []
    },
    {
      "cell_type": "code",
      "source": [
        "# We want to now obtain the value of m and c\n",
        "# Commonly used today is stochastic gradient descent [SGD]\n",
        "\n",
        "# W = Wp - (LR)(dL/dWp)    # Wp - Initialized Weight, LR is Learning Rate, (dL/dWp) -> Rate the loss changes wrt to that weight\n",
        "\n",
        "# y = mx + c\n",
        "# we ll assign weights (m) randomly so m = 0 anc c = 2 (say)\n",
        "\n",
        "# new m = 0 - 0.1*(dL/dm)\n",
        "# new c = 2 - 0.1*(dL/dc)\n",
        "\n",
        "# |Ya - (mx+c)| --> New Error\n"
      ],
      "metadata": {
        "id": "lqTEez1HDR31"
      },
      "execution_count": null,
      "outputs": []
    },
    {
      "cell_type": "code",
      "source": [
        "model.fit(X, y, epochs = 100, verbose = 1) # epochs is the number of times we gonna update the weights, verbose deals with output of our training set"
      ],
      "metadata": {
        "colab": {
          "base_uri": "https://localhost:8080/"
        },
        "id": "EjlJQ3bJGdH4",
        "outputId": "2520b066-decf-45ae-ab5d-a71d5ec47d41"
      },
      "execution_count": null,
      "outputs": [
        {
          "output_type": "stream",
          "name": "stdout",
          "text": [
            "Epoch 1/100\n",
            "32/32 [==============================] - 1s 2ms/step - loss: 111062441984.0000\n",
            "Epoch 2/100\n",
            "32/32 [==============================] - 0s 2ms/step - loss: 111059787776.0000\n",
            "Epoch 3/100\n",
            "32/32 [==============================] - 0s 2ms/step - loss: 111054209024.0000\n",
            "Epoch 4/100\n",
            "32/32 [==============================] - 0s 2ms/step - loss: 111043960832.0000\n",
            "Epoch 5/100\n",
            "32/32 [==============================] - 0s 2ms/step - loss: 111027290112.0000\n",
            "Epoch 6/100\n",
            "32/32 [==============================] - 0s 2ms/step - loss: 111002009600.0000\n",
            "Epoch 7/100\n",
            "32/32 [==============================] - 0s 2ms/step - loss: 110965678080.0000\n",
            "Epoch 8/100\n",
            "32/32 [==============================] - 0s 2ms/step - loss: 110914338816.0000\n",
            "Epoch 9/100\n",
            "32/32 [==============================] - 0s 2ms/step - loss: 110846812160.0000\n",
            "Epoch 10/100\n",
            "32/32 [==============================] - 0s 2ms/step - loss: 110757527552.0000\n",
            "Epoch 11/100\n",
            "32/32 [==============================] - 0s 2ms/step - loss: 110644707328.0000\n",
            "Epoch 12/100\n",
            "32/32 [==============================] - 0s 2ms/step - loss: 110502641664.0000\n",
            "Epoch 13/100\n",
            "32/32 [==============================] - 0s 2ms/step - loss: 110326996992.0000\n",
            "Epoch 14/100\n",
            "32/32 [==============================] - 0s 2ms/step - loss: 110115856384.0000\n",
            "Epoch 15/100\n",
            "32/32 [==============================] - 0s 2ms/step - loss: 109861093376.0000\n",
            "Epoch 16/100\n",
            "32/32 [==============================] - 0s 2ms/step - loss: 109565599744.0000\n",
            "Epoch 17/100\n",
            "32/32 [==============================] - 0s 2ms/step - loss: 109214253056.0000\n",
            "Epoch 18/100\n",
            "32/32 [==============================] - 0s 2ms/step - loss: 108801785856.0000\n",
            "Epoch 19/100\n",
            "32/32 [==============================] - 0s 2ms/step - loss: 108328878080.0000\n",
            "Epoch 20/100\n",
            "32/32 [==============================] - 0s 2ms/step - loss: 107793801216.0000\n",
            "Epoch 21/100\n",
            "32/32 [==============================] - 0s 2ms/step - loss: 107176321024.0000\n",
            "Epoch 22/100\n",
            "32/32 [==============================] - 0s 2ms/step - loss: 106484736000.0000\n",
            "Epoch 23/100\n",
            "32/32 [==============================] - 0s 2ms/step - loss: 105709617152.0000\n",
            "Epoch 24/100\n",
            "32/32 [==============================] - 0s 2ms/step - loss: 104825470976.0000\n",
            "Epoch 25/100\n",
            "32/32 [==============================] - 0s 2ms/step - loss: 103874166784.0000\n",
            "Epoch 26/100\n",
            "32/32 [==============================] - 0s 2ms/step - loss: 102803374080.0000\n",
            "Epoch 27/100\n",
            "32/32 [==============================] - 0s 2ms/step - loss: 101629902848.0000\n",
            "Epoch 28/100\n",
            "32/32 [==============================] - 0s 2ms/step - loss: 100340826112.0000\n",
            "Epoch 29/100\n",
            "32/32 [==============================] - 0s 2ms/step - loss: 98912198656.0000\n",
            "Epoch 30/100\n",
            "32/32 [==============================] - 0s 2ms/step - loss: 97360838656.0000\n",
            "Epoch 31/100\n",
            "32/32 [==============================] - 0s 2ms/step - loss: 95687516160.0000\n",
            "Epoch 32/100\n",
            "32/32 [==============================] - 0s 2ms/step - loss: 93895270400.0000\n",
            "Epoch 33/100\n",
            "32/32 [==============================] - 0s 2ms/step - loss: 91932901376.0000\n",
            "Epoch 34/100\n",
            "32/32 [==============================] - 0s 2ms/step - loss: 89839067136.0000\n",
            "Epoch 35/100\n",
            "32/32 [==============================] - 0s 2ms/step - loss: 87596998656.0000\n",
            "Epoch 36/100\n",
            "32/32 [==============================] - 0s 2ms/step - loss: 85215420416.0000\n",
            "Epoch 37/100\n",
            "32/32 [==============================] - 0s 2ms/step - loss: 82695577600.0000\n",
            "Epoch 38/100\n",
            "32/32 [==============================] - 0s 2ms/step - loss: 80037920768.0000\n",
            "Epoch 39/100\n",
            "32/32 [==============================] - 0s 2ms/step - loss: 77217161216.0000\n",
            "Epoch 40/100\n",
            "32/32 [==============================] - 0s 2ms/step - loss: 74260111360.0000\n",
            "Epoch 41/100\n",
            "32/32 [==============================] - 0s 2ms/step - loss: 71162781696.0000\n",
            "Epoch 42/100\n",
            "32/32 [==============================] - 0s 2ms/step - loss: 67940720640.0000\n",
            "Epoch 43/100\n",
            "32/32 [==============================] - 0s 2ms/step - loss: 64560304128.0000\n",
            "Epoch 44/100\n",
            "32/32 [==============================] - 0s 1ms/step - loss: 61146210304.0000\n",
            "Epoch 45/100\n",
            "32/32 [==============================] - 0s 2ms/step - loss: 57540677632.0000\n",
            "Epoch 46/100\n",
            "32/32 [==============================] - 0s 2ms/step - loss: 53866184704.0000\n",
            "Epoch 47/100\n",
            "32/32 [==============================] - 0s 2ms/step - loss: 50075848704.0000\n",
            "Epoch 48/100\n",
            "32/32 [==============================] - 0s 3ms/step - loss: 46286065664.0000\n",
            "Epoch 49/100\n",
            "32/32 [==============================] - 0s 2ms/step - loss: 42414866432.0000\n",
            "Epoch 50/100\n",
            "32/32 [==============================] - 0s 2ms/step - loss: 38539415552.0000\n",
            "Epoch 51/100\n",
            "32/32 [==============================] - 0s 2ms/step - loss: 34707730432.0000\n",
            "Epoch 52/100\n",
            "32/32 [==============================] - 0s 3ms/step - loss: 30849634304.0000\n",
            "Epoch 53/100\n",
            "32/32 [==============================] - 0s 2ms/step - loss: 27122538496.0000\n",
            "Epoch 54/100\n",
            "32/32 [==============================] - 0s 2ms/step - loss: 23527297024.0000\n",
            "Epoch 55/100\n",
            "32/32 [==============================] - 0s 3ms/step - loss: 20076697600.0000\n",
            "Epoch 56/100\n",
            "32/32 [==============================] - 0s 3ms/step - loss: 16798633984.0000\n",
            "Epoch 57/100\n",
            "32/32 [==============================] - 0s 3ms/step - loss: 13803402240.0000\n",
            "Epoch 58/100\n",
            "32/32 [==============================] - 0s 3ms/step - loss: 11109154816.0000\n",
            "Epoch 59/100\n",
            "32/32 [==============================] - 0s 3ms/step - loss: 8763134976.0000\n",
            "Epoch 60/100\n",
            "32/32 [==============================] - 0s 3ms/step - loss: 6863259136.0000\n",
            "Epoch 61/100\n",
            "32/32 [==============================] - 0s 3ms/step - loss: 5381609984.0000\n",
            "Epoch 62/100\n",
            "32/32 [==============================] - 0s 3ms/step - loss: 4377276416.0000\n",
            "Epoch 63/100\n",
            "32/32 [==============================] - 0s 4ms/step - loss: 3734287360.0000\n",
            "Epoch 64/100\n",
            "32/32 [==============================] - 0s 2ms/step - loss: 3367401472.0000\n",
            "Epoch 65/100\n",
            "32/32 [==============================] - 0s 3ms/step - loss: 3134419712.0000\n",
            "Epoch 66/100\n",
            "32/32 [==============================] - 0s 3ms/step - loss: 2961399040.0000\n",
            "Epoch 67/100\n",
            "32/32 [==============================] - 0s 2ms/step - loss: 2816258816.0000\n",
            "Epoch 68/100\n",
            "32/32 [==============================] - 0s 3ms/step - loss: 2702213376.0000\n",
            "Epoch 69/100\n",
            "32/32 [==============================] - 0s 3ms/step - loss: 2608290560.0000\n",
            "Epoch 70/100\n",
            "32/32 [==============================] - 0s 3ms/step - loss: 2533089792.0000\n",
            "Epoch 71/100\n",
            "32/32 [==============================] - 0s 3ms/step - loss: 2473423104.0000\n",
            "Epoch 72/100\n",
            "32/32 [==============================] - 0s 3ms/step - loss: 2427205632.0000\n",
            "Epoch 73/100\n",
            "32/32 [==============================] - 0s 3ms/step - loss: 2389979136.0000\n",
            "Epoch 74/100\n",
            "32/32 [==============================] - 0s 3ms/step - loss: 2360805888.0000\n",
            "Epoch 75/100\n",
            "32/32 [==============================] - 0s 3ms/step - loss: 2338243328.0000\n",
            "Epoch 76/100\n",
            "32/32 [==============================] - 0s 3ms/step - loss: 2318341120.0000\n",
            "Epoch 77/100\n",
            "32/32 [==============================] - 0s 3ms/step - loss: 2299696896.0000\n",
            "Epoch 78/100\n",
            "32/32 [==============================] - 0s 3ms/step - loss: 2285765888.0000\n",
            "Epoch 79/100\n",
            "32/32 [==============================] - 0s 2ms/step - loss: 2271530752.0000\n",
            "Epoch 80/100\n",
            "32/32 [==============================] - 0s 2ms/step - loss: 2258458368.0000\n",
            "Epoch 81/100\n",
            "32/32 [==============================] - 0s 2ms/step - loss: 2244136448.0000\n",
            "Epoch 82/100\n",
            "32/32 [==============================] - 0s 2ms/step - loss: 2233715712.0000\n",
            "Epoch 83/100\n",
            "32/32 [==============================] - 0s 2ms/step - loss: 2224186624.0000\n",
            "Epoch 84/100\n",
            "32/32 [==============================] - 0s 2ms/step - loss: 2212999168.0000\n",
            "Epoch 85/100\n",
            "32/32 [==============================] - 0s 2ms/step - loss: 2203726080.0000\n",
            "Epoch 86/100\n",
            "32/32 [==============================] - 0s 2ms/step - loss: 2194596352.0000\n",
            "Epoch 87/100\n",
            "32/32 [==============================] - 0s 2ms/step - loss: 2185494016.0000\n",
            "Epoch 88/100\n",
            "32/32 [==============================] - 0s 2ms/step - loss: 2175109120.0000\n",
            "Epoch 89/100\n",
            "32/32 [==============================] - 0s 2ms/step - loss: 2167722752.0000\n",
            "Epoch 90/100\n",
            "32/32 [==============================] - 0s 2ms/step - loss: 2159334144.0000\n",
            "Epoch 91/100\n",
            "32/32 [==============================] - 0s 2ms/step - loss: 2149198080.0000\n",
            "Epoch 92/100\n",
            "32/32 [==============================] - 0s 2ms/step - loss: 2140487552.0000\n",
            "Epoch 93/100\n",
            "32/32 [==============================] - 0s 2ms/step - loss: 2133968256.0000\n",
            "Epoch 94/100\n",
            "32/32 [==============================] - 0s 2ms/step - loss: 2125278976.0000\n",
            "Epoch 95/100\n",
            "32/32 [==============================] - 0s 2ms/step - loss: 2118352512.0000\n",
            "Epoch 96/100\n",
            "32/32 [==============================] - 0s 2ms/step - loss: 2109618560.0000\n",
            "Epoch 97/100\n",
            "32/32 [==============================] - 0s 2ms/step - loss: 2101424256.0000\n",
            "Epoch 98/100\n",
            "32/32 [==============================] - 0s 2ms/step - loss: 2093165696.0000\n",
            "Epoch 99/100\n",
            "32/32 [==============================] - 0s 2ms/step - loss: 2088687872.0000\n",
            "Epoch 100/100\n",
            "32/32 [==============================] - 0s 2ms/step - loss: 2081443712.0000\n"
          ]
        },
        {
          "output_type": "execute_result",
          "data": {
            "text/plain": [
              "<keras.src.callbacks.History at 0x7ee92e40d030>"
            ]
          },
          "metadata": {},
          "execution_count": 128
        }
      ]
    },
    {
      "cell_type": "code",
      "source": [
        "model.compile(optimizer = Adam(learning_rate = 1), loss = MeanAbsoluteError(), metrics = RootMeanSquaredError())  # metrics used for performance measure"
      ],
      "metadata": {
        "id": "LFdmvjqNGn9J"
      },
      "execution_count": null,
      "outputs": []
    },
    {
      "cell_type": "code",
      "source": [
        "history = model.fit(X_train, y_train,validation_data = (X_val, y_val), epochs = 100, verbose = 1)"
      ],
      "metadata": {
        "id": "wdPQBpJvrZ7Y",
        "outputId": "da06b56a-62b6-4699-9a6f-f9da25f21ed5",
        "colab": {
          "base_uri": "https://localhost:8080/"
        }
      },
      "execution_count": null,
      "outputs": [
        {
          "output_type": "stream",
          "name": "stdout",
          "text": [
            "Epoch 1/100\n",
            "25/25 [==============================] - 1s 9ms/step - loss: 100380.1562 - root_mean_squared_error: 132196.1719 - val_loss: 88716.8906 - val_root_mean_squared_error: 102012.1172\n",
            "Epoch 2/100\n",
            "25/25 [==============================] - 0s 3ms/step - loss: 73648.4766 - root_mean_squared_error: 90614.8047 - val_loss: 49143.8789 - val_root_mean_squared_error: 60809.4883\n",
            "Epoch 3/100\n",
            "25/25 [==============================] - 0s 4ms/step - loss: 55049.4102 - root_mean_squared_error: 69004.5703 - val_loss: 50196.5664 - val_root_mean_squared_error: 62686.1328\n",
            "Epoch 4/100\n",
            "25/25 [==============================] - 0s 3ms/step - loss: 49073.5586 - root_mean_squared_error: 60389.4258 - val_loss: 56080.1094 - val_root_mean_squared_error: 71681.9141\n",
            "Epoch 5/100\n",
            "25/25 [==============================] - 0s 4ms/step - loss: 45029.3945 - root_mean_squared_error: 55174.4180 - val_loss: 43478.0000 - val_root_mean_squared_error: 51297.5898\n",
            "Epoch 6/100\n",
            "25/25 [==============================] - 0s 4ms/step - loss: 42924.8984 - root_mean_squared_error: 53724.7344 - val_loss: 43229.5938 - val_root_mean_squared_error: 52973.4141\n",
            "Epoch 7/100\n",
            "25/25 [==============================] - 0s 4ms/step - loss: 44806.4414 - root_mean_squared_error: 55849.9531 - val_loss: 43167.8555 - val_root_mean_squared_error: 52697.1914\n",
            "Epoch 8/100\n",
            "25/25 [==============================] - 0s 3ms/step - loss: 50627.8047 - root_mean_squared_error: 62806.4102 - val_loss: 107133.3984 - val_root_mean_squared_error: 128712.2656\n",
            "Epoch 9/100\n",
            "25/25 [==============================] - 0s 4ms/step - loss: 57780.6055 - root_mean_squared_error: 71729.9766 - val_loss: 53120.7852 - val_root_mean_squared_error: 63873.6562\n",
            "Epoch 10/100\n",
            "25/25 [==============================] - 0s 3ms/step - loss: 41145.9570 - root_mean_squared_error: 51282.8242 - val_loss: 44257.3789 - val_root_mean_squared_error: 54652.1094\n",
            "Epoch 11/100\n",
            "25/25 [==============================] - 0s 4ms/step - loss: 43392.4297 - root_mean_squared_error: 54273.7656 - val_loss: 51005.6289 - val_root_mean_squared_error: 64241.9883\n",
            "Epoch 12/100\n",
            "25/25 [==============================] - 0s 4ms/step - loss: 40448.4883 - root_mean_squared_error: 50192.0195 - val_loss: 48176.3438 - val_root_mean_squared_error: 56778.5039\n",
            "Epoch 13/100\n",
            "25/25 [==============================] - 0s 4ms/step - loss: 43304.2891 - root_mean_squared_error: 53974.3086 - val_loss: 78790.3516 - val_root_mean_squared_error: 96269.5938\n",
            "Epoch 14/100\n",
            "25/25 [==============================] - 0s 3ms/step - loss: 53220.7812 - root_mean_squared_error: 65679.8125 - val_loss: 56704.0938 - val_root_mean_squared_error: 68528.2422\n",
            "Epoch 15/100\n",
            "25/25 [==============================] - 0s 3ms/step - loss: 53578.1211 - root_mean_squared_error: 67342.5859 - val_loss: 96874.3828 - val_root_mean_squared_error: 112060.0625\n",
            "Epoch 16/100\n",
            "25/25 [==============================] - 0s 3ms/step - loss: 51596.5586 - root_mean_squared_error: 64672.6562 - val_loss: 51418.8438 - val_root_mean_squared_error: 62972.0234\n",
            "Epoch 17/100\n",
            "25/25 [==============================] - 0s 4ms/step - loss: 40577.0820 - root_mean_squared_error: 50240.6250 - val_loss: 45713.3359 - val_root_mean_squared_error: 55661.2461\n",
            "Epoch 18/100\n",
            "25/25 [==============================] - 0s 4ms/step - loss: 44381.4688 - root_mean_squared_error: 55318.9648 - val_loss: 51347.1836 - val_root_mean_squared_error: 62199.2031\n",
            "Epoch 19/100\n",
            "25/25 [==============================] - 0s 4ms/step - loss: 44661.3047 - root_mean_squared_error: 56331.8477 - val_loss: 45855.1953 - val_root_mean_squared_error: 55375.9688\n",
            "Epoch 20/100\n",
            "25/25 [==============================] - 0s 4ms/step - loss: 41196.1445 - root_mean_squared_error: 51508.1094 - val_loss: 48476.3398 - val_root_mean_squared_error: 59471.0859\n",
            "Epoch 21/100\n",
            "25/25 [==============================] - 0s 3ms/step - loss: 41054.4922 - root_mean_squared_error: 50816.6719 - val_loss: 67370.8125 - val_root_mean_squared_error: 82331.6562\n",
            "Epoch 22/100\n",
            "25/25 [==============================] - 0s 3ms/step - loss: 45552.2852 - root_mean_squared_error: 57433.2070 - val_loss: 48334.6133 - val_root_mean_squared_error: 60502.3125\n",
            "Epoch 23/100\n",
            "25/25 [==============================] - 0s 3ms/step - loss: 45066.1055 - root_mean_squared_error: 56326.0117 - val_loss: 74109.2500 - val_root_mean_squared_error: 92547.6484\n",
            "Epoch 24/100\n",
            "25/25 [==============================] - 0s 3ms/step - loss: 41459.9336 - root_mean_squared_error: 52156.6797 - val_loss: 41820.5430 - val_root_mean_squared_error: 50510.7656\n",
            "Epoch 25/100\n",
            "25/25 [==============================] - 0s 3ms/step - loss: 41125.8164 - root_mean_squared_error: 50776.8398 - val_loss: 52129.5664 - val_root_mean_squared_error: 64809.7617\n",
            "Epoch 26/100\n",
            "25/25 [==============================] - 0s 3ms/step - loss: 43756.8516 - root_mean_squared_error: 54011.2773 - val_loss: 74452.9688 - val_root_mean_squared_error: 89446.2969\n",
            "Epoch 27/100\n",
            "25/25 [==============================] - 0s 4ms/step - loss: 49342.1797 - root_mean_squared_error: 62804.3398 - val_loss: 42605.2461 - val_root_mean_squared_error: 52399.5703\n",
            "Epoch 28/100\n",
            "25/25 [==============================] - 0s 3ms/step - loss: 39714.5000 - root_mean_squared_error: 49239.5312 - val_loss: 42559.2812 - val_root_mean_squared_error: 51241.8320\n",
            "Epoch 29/100\n",
            "25/25 [==============================] - 0s 3ms/step - loss: 37006.7070 - root_mean_squared_error: 46299.8555 - val_loss: 39552.1367 - val_root_mean_squared_error: 48156.3086\n",
            "Epoch 30/100\n",
            "25/25 [==============================] - 0s 4ms/step - loss: 40151.4062 - root_mean_squared_error: 50383.7930 - val_loss: 42678.9883 - val_root_mean_squared_error: 51323.8711\n",
            "Epoch 31/100\n",
            "25/25 [==============================] - 0s 3ms/step - loss: 39672.8750 - root_mean_squared_error: 48686.2617 - val_loss: 42290.7617 - val_root_mean_squared_error: 52332.8750\n",
            "Epoch 32/100\n",
            "25/25 [==============================] - 0s 4ms/step - loss: 36178.7148 - root_mean_squared_error: 45286.4023 - val_loss: 42029.5312 - val_root_mean_squared_error: 50730.7852\n",
            "Epoch 33/100\n",
            "25/25 [==============================] - 0s 4ms/step - loss: 36983.7656 - root_mean_squared_error: 45514.5273 - val_loss: 42862.3594 - val_root_mean_squared_error: 51509.0195\n",
            "Epoch 34/100\n",
            "25/25 [==============================] - 0s 3ms/step - loss: 38766.0273 - root_mean_squared_error: 48431.3242 - val_loss: 40723.9180 - val_root_mean_squared_error: 50102.2500\n",
            "Epoch 35/100\n",
            "25/25 [==============================] - 0s 3ms/step - loss: 38014.9531 - root_mean_squared_error: 47527.3984 - val_loss: 41187.2812 - val_root_mean_squared_error: 50232.2266\n",
            "Epoch 36/100\n",
            "25/25 [==============================] - 0s 3ms/step - loss: 38381.2930 - root_mean_squared_error: 47247.7773 - val_loss: 41601.5547 - val_root_mean_squared_error: 50293.6094\n",
            "Epoch 37/100\n",
            "25/25 [==============================] - 0s 3ms/step - loss: 35949.8008 - root_mean_squared_error: 44740.1133 - val_loss: 40044.8984 - val_root_mean_squared_error: 48879.4531\n",
            "Epoch 38/100\n",
            "25/25 [==============================] - 0s 3ms/step - loss: 39015.2500 - root_mean_squared_error: 48509.2383 - val_loss: 47149.9141 - val_root_mean_squared_error: 56659.5781\n",
            "Epoch 39/100\n",
            "25/25 [==============================] - 0s 4ms/step - loss: 38794.1133 - root_mean_squared_error: 48647.6445 - val_loss: 48233.6758 - val_root_mean_squared_error: 58350.8867\n",
            "Epoch 40/100\n",
            "25/25 [==============================] - 0s 3ms/step - loss: 36507.2656 - root_mean_squared_error: 45475.1445 - val_loss: 42646.3047 - val_root_mean_squared_error: 52973.3477\n",
            "Epoch 41/100\n",
            "25/25 [==============================] - 0s 4ms/step - loss: 35661.5039 - root_mean_squared_error: 44498.0234 - val_loss: 43768.8750 - val_root_mean_squared_error: 55138.7852\n",
            "Epoch 42/100\n",
            "25/25 [==============================] - 0s 3ms/step - loss: 40175.1758 - root_mean_squared_error: 50633.3750 - val_loss: 44293.1016 - val_root_mean_squared_error: 52711.6562\n",
            "Epoch 43/100\n",
            "25/25 [==============================] - 0s 4ms/step - loss: 37877.4531 - root_mean_squared_error: 47435.6367 - val_loss: 47373.1797 - val_root_mean_squared_error: 58148.9219\n",
            "Epoch 44/100\n",
            "25/25 [==============================] - 0s 3ms/step - loss: 37166.5430 - root_mean_squared_error: 46474.3633 - val_loss: 43028.7500 - val_root_mean_squared_error: 53569.8555\n",
            "Epoch 45/100\n",
            "25/25 [==============================] - 0s 4ms/step - loss: 35508.4961 - root_mean_squared_error: 43892.6562 - val_loss: 41060.5547 - val_root_mean_squared_error: 50676.3320\n",
            "Epoch 46/100\n",
            "25/25 [==============================] - 0s 3ms/step - loss: 41792.0195 - root_mean_squared_error: 52289.3242 - val_loss: 53946.6602 - val_root_mean_squared_error: 64707.6289\n",
            "Epoch 47/100\n",
            "25/25 [==============================] - 0s 4ms/step - loss: 41495.0820 - root_mean_squared_error: 51859.6523 - val_loss: 47670.5195 - val_root_mean_squared_error: 58455.2969\n",
            "Epoch 48/100\n",
            "25/25 [==============================] - 0s 3ms/step - loss: 38050.6758 - root_mean_squared_error: 46891.7109 - val_loss: 42699.8164 - val_root_mean_squared_error: 53243.8008\n",
            "Epoch 49/100\n",
            "25/25 [==============================] - 0s 4ms/step - loss: 36510.3789 - root_mean_squared_error: 45137.5781 - val_loss: 54836.6133 - val_root_mean_squared_error: 68379.1953\n",
            "Epoch 50/100\n",
            "25/25 [==============================] - 0s 3ms/step - loss: 39947.8398 - root_mean_squared_error: 49984.8750 - val_loss: 40838.1133 - val_root_mean_squared_error: 49330.2695\n",
            "Epoch 51/100\n",
            "25/25 [==============================] - 0s 3ms/step - loss: 35766.3984 - root_mean_squared_error: 44668.2031 - val_loss: 41798.7266 - val_root_mean_squared_error: 51093.1719\n",
            "Epoch 52/100\n",
            "25/25 [==============================] - 0s 5ms/step - loss: 38992.4805 - root_mean_squared_error: 48366.8477 - val_loss: 45797.2852 - val_root_mean_squared_error: 54835.1133\n",
            "Epoch 53/100\n",
            "25/25 [==============================] - 0s 5ms/step - loss: 36933.3906 - root_mean_squared_error: 45788.9922 - val_loss: 44589.7812 - val_root_mean_squared_error: 53843.6406\n",
            "Epoch 54/100\n",
            "25/25 [==============================] - 0s 5ms/step - loss: 35489.1602 - root_mean_squared_error: 43567.8398 - val_loss: 45491.1836 - val_root_mean_squared_error: 56114.6602\n",
            "Epoch 55/100\n",
            "25/25 [==============================] - 0s 5ms/step - loss: 37467.3438 - root_mean_squared_error: 46573.3477 - val_loss: 41428.2266 - val_root_mean_squared_error: 49808.1172\n",
            "Epoch 56/100\n",
            "25/25 [==============================] - 0s 5ms/step - loss: 36797.0859 - root_mean_squared_error: 45412.1328 - val_loss: 41851.3281 - val_root_mean_squared_error: 50886.6875\n",
            "Epoch 57/100\n",
            "25/25 [==============================] - 0s 5ms/step - loss: 37519.3359 - root_mean_squared_error: 47984.0195 - val_loss: 45551.7656 - val_root_mean_squared_error: 55826.6094\n",
            "Epoch 58/100\n",
            "25/25 [==============================] - 0s 5ms/step - loss: 44216.0195 - root_mean_squared_error: 54744.5312 - val_loss: 42927.2109 - val_root_mean_squared_error: 53134.1250\n",
            "Epoch 59/100\n",
            "25/25 [==============================] - 0s 5ms/step - loss: 36692.1914 - root_mean_squared_error: 45636.4336 - val_loss: 40881.6328 - val_root_mean_squared_error: 49558.0117\n",
            "Epoch 60/100\n",
            "25/25 [==============================] - 0s 5ms/step - loss: 34359.4883 - root_mean_squared_error: 42599.2734 - val_loss: 42894.0859 - val_root_mean_squared_error: 53506.0547\n",
            "Epoch 61/100\n",
            "25/25 [==============================] - 0s 6ms/step - loss: 35278.1172 - root_mean_squared_error: 43988.3867 - val_loss: 45716.1797 - val_root_mean_squared_error: 55962.4609\n",
            "Epoch 62/100\n",
            "25/25 [==============================] - 0s 5ms/step - loss: 38321.7461 - root_mean_squared_error: 48611.8320 - val_loss: 45085.8906 - val_root_mean_squared_error: 55931.6914\n",
            "Epoch 63/100\n",
            "25/25 [==============================] - 0s 5ms/step - loss: 37026.4727 - root_mean_squared_error: 46623.3125 - val_loss: 39405.7188 - val_root_mean_squared_error: 48560.8477\n",
            "Epoch 64/100\n",
            "25/25 [==============================] - 0s 5ms/step - loss: 34980.3867 - root_mean_squared_error: 43205.1055 - val_loss: 40116.7109 - val_root_mean_squared_error: 48715.8164\n",
            "Epoch 65/100\n",
            "25/25 [==============================] - 0s 5ms/step - loss: 36657.0898 - root_mean_squared_error: 45116.6680 - val_loss: 41683.8828 - val_root_mean_squared_error: 51877.4102\n",
            "Epoch 66/100\n",
            "25/25 [==============================] - 0s 5ms/step - loss: 35418.9375 - root_mean_squared_error: 44438.3242 - val_loss: 40447.8594 - val_root_mean_squared_error: 49156.7969\n",
            "Epoch 67/100\n",
            "25/25 [==============================] - 0s 5ms/step - loss: 39223.6602 - root_mean_squared_error: 49136.9102 - val_loss: 41189.5938 - val_root_mean_squared_error: 51033.3555\n",
            "Epoch 68/100\n",
            "25/25 [==============================] - 0s 6ms/step - loss: 34401.7891 - root_mean_squared_error: 43318.3359 - val_loss: 46800.8516 - val_root_mean_squared_error: 57340.2266\n",
            "Epoch 69/100\n",
            "25/25 [==============================] - 0s 5ms/step - loss: 36378.3867 - root_mean_squared_error: 46455.5039 - val_loss: 45964.0664 - val_root_mean_squared_error: 55261.1211\n",
            "Epoch 70/100\n",
            "25/25 [==============================] - 0s 5ms/step - loss: 35091.2383 - root_mean_squared_error: 44117.1250 - val_loss: 45981.7891 - val_root_mean_squared_error: 54752.6523\n",
            "Epoch 71/100\n",
            "25/25 [==============================] - 0s 5ms/step - loss: 36150.1758 - root_mean_squared_error: 45311.8867 - val_loss: 53802.7305 - val_root_mean_squared_error: 66037.7812\n",
            "Epoch 72/100\n",
            "25/25 [==============================] - 0s 5ms/step - loss: 45210.4219 - root_mean_squared_error: 56282.3672 - val_loss: 45680.9102 - val_root_mean_squared_error: 54654.4375\n",
            "Epoch 73/100\n",
            "25/25 [==============================] - 0s 4ms/step - loss: 35195.6914 - root_mean_squared_error: 44270.1797 - val_loss: 39368.9375 - val_root_mean_squared_error: 48663.1367\n",
            "Epoch 74/100\n",
            "25/25 [==============================] - 0s 3ms/step - loss: 33411.8828 - root_mean_squared_error: 41567.5586 - val_loss: 41129.4609 - val_root_mean_squared_error: 50402.5469\n",
            "Epoch 75/100\n",
            "25/25 [==============================] - 0s 4ms/step - loss: 35144.3477 - root_mean_squared_error: 43582.6367 - val_loss: 52498.7188 - val_root_mean_squared_error: 64702.2695\n",
            "Epoch 76/100\n",
            "25/25 [==============================] - 0s 4ms/step - loss: 41660.2344 - root_mean_squared_error: 52306.4531 - val_loss: 39760.2383 - val_root_mean_squared_error: 48577.0859\n",
            "Epoch 77/100\n",
            "25/25 [==============================] - 0s 4ms/step - loss: 37661.1992 - root_mean_squared_error: 46682.5859 - val_loss: 41318.3594 - val_root_mean_squared_error: 50220.6836\n",
            "Epoch 78/100\n",
            "25/25 [==============================] - 0s 3ms/step - loss: 35105.3594 - root_mean_squared_error: 43515.4648 - val_loss: 41179.5234 - val_root_mean_squared_error: 52174.5859\n",
            "Epoch 79/100\n",
            "25/25 [==============================] - 0s 4ms/step - loss: 33766.0781 - root_mean_squared_error: 42333.0586 - val_loss: 44118.8711 - val_root_mean_squared_error: 53513.5742\n",
            "Epoch 80/100\n",
            "25/25 [==============================] - 0s 3ms/step - loss: 35059.6523 - root_mean_squared_error: 43413.5078 - val_loss: 41745.9141 - val_root_mean_squared_error: 51891.2305\n",
            "Epoch 81/100\n",
            "25/25 [==============================] - 0s 4ms/step - loss: 35523.0156 - root_mean_squared_error: 44434.3516 - val_loss: 43435.5859 - val_root_mean_squared_error: 53424.0156\n",
            "Epoch 82/100\n",
            "25/25 [==============================] - 0s 3ms/step - loss: 33610.6641 - root_mean_squared_error: 42151.8867 - val_loss: 41643.8008 - val_root_mean_squared_error: 51998.3945\n",
            "Epoch 83/100\n",
            "25/25 [==============================] - 0s 4ms/step - loss: 33975.4961 - root_mean_squared_error: 42383.0547 - val_loss: 41551.8320 - val_root_mean_squared_error: 51130.1016\n",
            "Epoch 84/100\n",
            "25/25 [==============================] - 0s 3ms/step - loss: 36502.7461 - root_mean_squared_error: 45536.8359 - val_loss: 52463.6602 - val_root_mean_squared_error: 64883.6719\n",
            "Epoch 85/100\n",
            "25/25 [==============================] - 0s 4ms/step - loss: 35727.4336 - root_mean_squared_error: 44552.1055 - val_loss: 40640.3477 - val_root_mean_squared_error: 49361.0742\n",
            "Epoch 86/100\n",
            "25/25 [==============================] - 0s 4ms/step - loss: 33657.2188 - root_mean_squared_error: 42416.7969 - val_loss: 40483.1992 - val_root_mean_squared_error: 49835.2812\n",
            "Epoch 87/100\n",
            "25/25 [==============================] - 0s 5ms/step - loss: 35554.1445 - root_mean_squared_error: 44837.6641 - val_loss: 42160.2344 - val_root_mean_squared_error: 51857.8867\n",
            "Epoch 88/100\n",
            "25/25 [==============================] - 0s 4ms/step - loss: 33325.6289 - root_mean_squared_error: 42253.0664 - val_loss: 40532.8242 - val_root_mean_squared_error: 50049.6758\n",
            "Epoch 89/100\n",
            "25/25 [==============================] - 0s 4ms/step - loss: 38398.7969 - root_mean_squared_error: 48309.2344 - val_loss: 42288.0859 - val_root_mean_squared_error: 52337.3516\n",
            "Epoch 90/100\n",
            "25/25 [==============================] - 0s 4ms/step - loss: 39702.7812 - root_mean_squared_error: 49963.5742 - val_loss: 50698.3203 - val_root_mean_squared_error: 63295.3750\n",
            "Epoch 91/100\n",
            "25/25 [==============================] - 0s 3ms/step - loss: 35626.0117 - root_mean_squared_error: 44648.1914 - val_loss: 42585.6914 - val_root_mean_squared_error: 52642.9180\n",
            "Epoch 92/100\n",
            "25/25 [==============================] - 0s 4ms/step - loss: 33289.8398 - root_mean_squared_error: 42112.0664 - val_loss: 41591.7188 - val_root_mean_squared_error: 52127.0820\n",
            "Epoch 93/100\n",
            "25/25 [==============================] - 0s 3ms/step - loss: 33690.0312 - root_mean_squared_error: 41681.2695 - val_loss: 42848.7812 - val_root_mean_squared_error: 53768.9414\n",
            "Epoch 94/100\n",
            "25/25 [==============================] - 0s 3ms/step - loss: 35117.0547 - root_mean_squared_error: 44216.5820 - val_loss: 41018.9531 - val_root_mean_squared_error: 51867.1172\n",
            "Epoch 95/100\n",
            "25/25 [==============================] - 0s 3ms/step - loss: 35910.5781 - root_mean_squared_error: 45112.5039 - val_loss: 44110.1133 - val_root_mean_squared_error: 54167.5898\n",
            "Epoch 96/100\n",
            "25/25 [==============================] - 0s 3ms/step - loss: 36781.6406 - root_mean_squared_error: 45628.7422 - val_loss: 40259.4922 - val_root_mean_squared_error: 49154.1055\n",
            "Epoch 97/100\n",
            "25/25 [==============================] - 0s 3ms/step - loss: 34016.8320 - root_mean_squared_error: 42211.7578 - val_loss: 48687.1055 - val_root_mean_squared_error: 60811.5508\n",
            "Epoch 98/100\n",
            "25/25 [==============================] - 0s 4ms/step - loss: 34534.9414 - root_mean_squared_error: 43127.7578 - val_loss: 39825.3359 - val_root_mean_squared_error: 49926.5312\n",
            "Epoch 99/100\n",
            "25/25 [==============================] - 0s 3ms/step - loss: 41099.0234 - root_mean_squared_error: 51597.8477 - val_loss: 42969.3555 - val_root_mean_squared_error: 52495.3750\n",
            "Epoch 100/100\n",
            "25/25 [==============================] - 0s 3ms/step - loss: 34281.0742 - root_mean_squared_error: 42649.5000 - val_loss: 42022.2148 - val_root_mean_squared_error: 50851.3555\n"
          ]
        }
      ]
    },
    {
      "cell_type": "code",
      "source": [
        "history.history"
      ],
      "metadata": {
        "id": "C8izVnuureUr",
        "outputId": "a3f2e215-6985-40f7-c9ad-49903ddd4684",
        "colab": {
          "base_uri": "https://localhost:8080/"
        }
      },
      "execution_count": null,
      "outputs": [
        {
          "output_type": "execute_result",
          "data": {
            "text/plain": [
              "{'loss': [100380.15625,\n",
              "  73648.4765625,\n",
              "  55049.41015625,\n",
              "  49073.55859375,\n",
              "  45029.39453125,\n",
              "  42924.8984375,\n",
              "  44806.44140625,\n",
              "  50627.8046875,\n",
              "  57780.60546875,\n",
              "  41145.95703125,\n",
              "  43392.4296875,\n",
              "  40448.48828125,\n",
              "  43304.2890625,\n",
              "  53220.78125,\n",
              "  53578.12109375,\n",
              "  51596.55859375,\n",
              "  40577.08203125,\n",
              "  44381.46875,\n",
              "  44661.3046875,\n",
              "  41196.14453125,\n",
              "  41054.4921875,\n",
              "  45552.28515625,\n",
              "  45066.10546875,\n",
              "  41459.93359375,\n",
              "  41125.81640625,\n",
              "  43756.8515625,\n",
              "  49342.1796875,\n",
              "  39714.5,\n",
              "  37006.70703125,\n",
              "  40151.40625,\n",
              "  39672.875,\n",
              "  36178.71484375,\n",
              "  36983.765625,\n",
              "  38766.02734375,\n",
              "  38014.953125,\n",
              "  38381.29296875,\n",
              "  35949.80078125,\n",
              "  39015.25,\n",
              "  38794.11328125,\n",
              "  36507.265625,\n",
              "  35661.50390625,\n",
              "  40175.17578125,\n",
              "  37877.453125,\n",
              "  37166.54296875,\n",
              "  35508.49609375,\n",
              "  41792.01953125,\n",
              "  41495.08203125,\n",
              "  38050.67578125,\n",
              "  36510.37890625,\n",
              "  39947.83984375,\n",
              "  35766.3984375,\n",
              "  38992.48046875,\n",
              "  36933.390625,\n",
              "  35489.16015625,\n",
              "  37467.34375,\n",
              "  36797.0859375,\n",
              "  37519.3359375,\n",
              "  44216.01953125,\n",
              "  36692.19140625,\n",
              "  34359.48828125,\n",
              "  35278.1171875,\n",
              "  38321.74609375,\n",
              "  37026.47265625,\n",
              "  34980.38671875,\n",
              "  36657.08984375,\n",
              "  35418.9375,\n",
              "  39223.66015625,\n",
              "  34401.7890625,\n",
              "  36378.38671875,\n",
              "  35091.23828125,\n",
              "  36150.17578125,\n",
              "  45210.421875,\n",
              "  35195.69140625,\n",
              "  33411.8828125,\n",
              "  35144.34765625,\n",
              "  41660.234375,\n",
              "  37661.19921875,\n",
              "  35105.359375,\n",
              "  33766.078125,\n",
              "  35059.65234375,\n",
              "  35523.015625,\n",
              "  33610.6640625,\n",
              "  33975.49609375,\n",
              "  36502.74609375,\n",
              "  35727.43359375,\n",
              "  33657.21875,\n",
              "  35554.14453125,\n",
              "  33325.62890625,\n",
              "  38398.796875,\n",
              "  39702.78125,\n",
              "  35626.01171875,\n",
              "  33289.83984375,\n",
              "  33690.03125,\n",
              "  35117.0546875,\n",
              "  35910.578125,\n",
              "  36781.640625,\n",
              "  34016.83203125,\n",
              "  34534.94140625,\n",
              "  41099.0234375,\n",
              "  34281.07421875],\n",
              " 'root_mean_squared_error': [132196.171875,\n",
              "  90614.8046875,\n",
              "  69004.5703125,\n",
              "  60389.42578125,\n",
              "  55174.41796875,\n",
              "  53724.734375,\n",
              "  55849.953125,\n",
              "  62806.41015625,\n",
              "  71729.9765625,\n",
              "  51282.82421875,\n",
              "  54273.765625,\n",
              "  50192.01953125,\n",
              "  53974.30859375,\n",
              "  65679.8125,\n",
              "  67342.5859375,\n",
              "  64672.65625,\n",
              "  50240.625,\n",
              "  55318.96484375,\n",
              "  56331.84765625,\n",
              "  51508.109375,\n",
              "  50816.671875,\n",
              "  57433.20703125,\n",
              "  56326.01171875,\n",
              "  52156.6796875,\n",
              "  50776.83984375,\n",
              "  54011.27734375,\n",
              "  62804.33984375,\n",
              "  49239.53125,\n",
              "  46299.85546875,\n",
              "  50383.79296875,\n",
              "  48686.26171875,\n",
              "  45286.40234375,\n",
              "  45514.52734375,\n",
              "  48431.32421875,\n",
              "  47527.3984375,\n",
              "  47247.77734375,\n",
              "  44740.11328125,\n",
              "  48509.23828125,\n",
              "  48647.64453125,\n",
              "  45475.14453125,\n",
              "  44498.0234375,\n",
              "  50633.375,\n",
              "  47435.63671875,\n",
              "  46474.36328125,\n",
              "  43892.65625,\n",
              "  52289.32421875,\n",
              "  51859.65234375,\n",
              "  46891.7109375,\n",
              "  45137.578125,\n",
              "  49984.875,\n",
              "  44668.203125,\n",
              "  48366.84765625,\n",
              "  45788.9921875,\n",
              "  43567.83984375,\n",
              "  46573.34765625,\n",
              "  45412.1328125,\n",
              "  47984.01953125,\n",
              "  54744.53125,\n",
              "  45636.43359375,\n",
              "  42599.2734375,\n",
              "  43988.38671875,\n",
              "  48611.83203125,\n",
              "  46623.3125,\n",
              "  43205.10546875,\n",
              "  45116.66796875,\n",
              "  44438.32421875,\n",
              "  49136.91015625,\n",
              "  43318.3359375,\n",
              "  46455.50390625,\n",
              "  44117.125,\n",
              "  45311.88671875,\n",
              "  56282.3671875,\n",
              "  44270.1796875,\n",
              "  41567.55859375,\n",
              "  43582.63671875,\n",
              "  52306.453125,\n",
              "  46682.5859375,\n",
              "  43515.46484375,\n",
              "  42333.05859375,\n",
              "  43413.5078125,\n",
              "  44434.3515625,\n",
              "  42151.88671875,\n",
              "  42383.0546875,\n",
              "  45536.8359375,\n",
              "  44552.10546875,\n",
              "  42416.796875,\n",
              "  44837.6640625,\n",
              "  42253.06640625,\n",
              "  48309.234375,\n",
              "  49963.57421875,\n",
              "  44648.19140625,\n",
              "  42112.06640625,\n",
              "  41681.26953125,\n",
              "  44216.58203125,\n",
              "  45112.50390625,\n",
              "  45628.7421875,\n",
              "  42211.7578125,\n",
              "  43127.7578125,\n",
              "  51597.84765625,\n",
              "  42649.5],\n",
              " 'val_loss': [88716.890625,\n",
              "  49143.87890625,\n",
              "  50196.56640625,\n",
              "  56080.109375,\n",
              "  43478.0,\n",
              "  43229.59375,\n",
              "  43167.85546875,\n",
              "  107133.3984375,\n",
              "  53120.78515625,\n",
              "  44257.37890625,\n",
              "  51005.62890625,\n",
              "  48176.34375,\n",
              "  78790.3515625,\n",
              "  56704.09375,\n",
              "  96874.3828125,\n",
              "  51418.84375,\n",
              "  45713.3359375,\n",
              "  51347.18359375,\n",
              "  45855.1953125,\n",
              "  48476.33984375,\n",
              "  67370.8125,\n",
              "  48334.61328125,\n",
              "  74109.25,\n",
              "  41820.54296875,\n",
              "  52129.56640625,\n",
              "  74452.96875,\n",
              "  42605.24609375,\n",
              "  42559.28125,\n",
              "  39552.13671875,\n",
              "  42678.98828125,\n",
              "  42290.76171875,\n",
              "  42029.53125,\n",
              "  42862.359375,\n",
              "  40723.91796875,\n",
              "  41187.28125,\n",
              "  41601.5546875,\n",
              "  40044.8984375,\n",
              "  47149.9140625,\n",
              "  48233.67578125,\n",
              "  42646.3046875,\n",
              "  43768.875,\n",
              "  44293.1015625,\n",
              "  47373.1796875,\n",
              "  43028.75,\n",
              "  41060.5546875,\n",
              "  53946.66015625,\n",
              "  47670.51953125,\n",
              "  42699.81640625,\n",
              "  54836.61328125,\n",
              "  40838.11328125,\n",
              "  41798.7265625,\n",
              "  45797.28515625,\n",
              "  44589.78125,\n",
              "  45491.18359375,\n",
              "  41428.2265625,\n",
              "  41851.328125,\n",
              "  45551.765625,\n",
              "  42927.2109375,\n",
              "  40881.6328125,\n",
              "  42894.0859375,\n",
              "  45716.1796875,\n",
              "  45085.890625,\n",
              "  39405.71875,\n",
              "  40116.7109375,\n",
              "  41683.8828125,\n",
              "  40447.859375,\n",
              "  41189.59375,\n",
              "  46800.8515625,\n",
              "  45964.06640625,\n",
              "  45981.7890625,\n",
              "  53802.73046875,\n",
              "  45680.91015625,\n",
              "  39368.9375,\n",
              "  41129.4609375,\n",
              "  52498.71875,\n",
              "  39760.23828125,\n",
              "  41318.359375,\n",
              "  41179.5234375,\n",
              "  44118.87109375,\n",
              "  41745.9140625,\n",
              "  43435.5859375,\n",
              "  41643.80078125,\n",
              "  41551.83203125,\n",
              "  52463.66015625,\n",
              "  40640.34765625,\n",
              "  40483.19921875,\n",
              "  42160.234375,\n",
              "  40532.82421875,\n",
              "  42288.0859375,\n",
              "  50698.3203125,\n",
              "  42585.69140625,\n",
              "  41591.71875,\n",
              "  42848.78125,\n",
              "  41018.953125,\n",
              "  44110.11328125,\n",
              "  40259.4921875,\n",
              "  48687.10546875,\n",
              "  39825.3359375,\n",
              "  42969.35546875,\n",
              "  42022.21484375],\n",
              " 'val_root_mean_squared_error': [102012.1171875,\n",
              "  60809.48828125,\n",
              "  62686.1328125,\n",
              "  71681.9140625,\n",
              "  51297.58984375,\n",
              "  52973.4140625,\n",
              "  52697.19140625,\n",
              "  128712.265625,\n",
              "  63873.65625,\n",
              "  54652.109375,\n",
              "  64241.98828125,\n",
              "  56778.50390625,\n",
              "  96269.59375,\n",
              "  68528.2421875,\n",
              "  112060.0625,\n",
              "  62972.0234375,\n",
              "  55661.24609375,\n",
              "  62199.203125,\n",
              "  55375.96875,\n",
              "  59471.0859375,\n",
              "  82331.65625,\n",
              "  60502.3125,\n",
              "  92547.6484375,\n",
              "  50510.765625,\n",
              "  64809.76171875,\n",
              "  89446.296875,\n",
              "  52399.5703125,\n",
              "  51241.83203125,\n",
              "  48156.30859375,\n",
              "  51323.87109375,\n",
              "  52332.875,\n",
              "  50730.78515625,\n",
              "  51509.01953125,\n",
              "  50102.25,\n",
              "  50232.2265625,\n",
              "  50293.609375,\n",
              "  48879.453125,\n",
              "  56659.578125,\n",
              "  58350.88671875,\n",
              "  52973.34765625,\n",
              "  55138.78515625,\n",
              "  52711.65625,\n",
              "  58148.921875,\n",
              "  53569.85546875,\n",
              "  50676.33203125,\n",
              "  64707.62890625,\n",
              "  58455.296875,\n",
              "  53243.80078125,\n",
              "  68379.1953125,\n",
              "  49330.26953125,\n",
              "  51093.171875,\n",
              "  54835.11328125,\n",
              "  53843.640625,\n",
              "  56114.66015625,\n",
              "  49808.1171875,\n",
              "  50886.6875,\n",
              "  55826.609375,\n",
              "  53134.125,\n",
              "  49558.01171875,\n",
              "  53506.0546875,\n",
              "  55962.4609375,\n",
              "  55931.69140625,\n",
              "  48560.84765625,\n",
              "  48715.81640625,\n",
              "  51877.41015625,\n",
              "  49156.796875,\n",
              "  51033.35546875,\n",
              "  57340.2265625,\n",
              "  55261.12109375,\n",
              "  54752.65234375,\n",
              "  66037.78125,\n",
              "  54654.4375,\n",
              "  48663.13671875,\n",
              "  50402.546875,\n",
              "  64702.26953125,\n",
              "  48577.0859375,\n",
              "  50220.68359375,\n",
              "  52174.5859375,\n",
              "  53513.57421875,\n",
              "  51891.23046875,\n",
              "  53424.015625,\n",
              "  51998.39453125,\n",
              "  51130.1015625,\n",
              "  64883.671875,\n",
              "  49361.07421875,\n",
              "  49835.28125,\n",
              "  51857.88671875,\n",
              "  50049.67578125,\n",
              "  52337.3515625,\n",
              "  63295.375,\n",
              "  52642.91796875,\n",
              "  52127.08203125,\n",
              "  53768.94140625,\n",
              "  51867.1171875,\n",
              "  54167.58984375,\n",
              "  49154.10546875,\n",
              "  60811.55078125,\n",
              "  49926.53125,\n",
              "  52495.375,\n",
              "  50851.35546875]}"
            ]
          },
          "metadata": {},
          "execution_count": 131
        }
      ]
    },
    {
      "cell_type": "code",
      "source": [
        "plt.plot(history.history['loss'])\n",
        "plt.plot(history.history['val_loss'])\n",
        "plt.title('model loss')\n",
        "plt.ylabel('loss')\n",
        "plt.xlabel('epoch')\n",
        "plt.legend(['train', 'val_loss'])\n",
        "plt.show()"
      ],
      "metadata": {
        "id": "eNldCTRWriCn",
        "outputId": "d7bf032e-8acb-43bb-8ffe-32c17e666bce",
        "colab": {
          "base_uri": "https://localhost:8080/",
          "height": 472
        }
      },
      "execution_count": null,
      "outputs": [
        {
          "output_type": "display_data",
          "data": {
            "text/plain": [
              "<Figure size 640x480 with 1 Axes>"
            ],
            "image/png": "[encoded data removed]"
          },
          "metadata": {}
        }
      ]
    },
    {
      "cell_type": "code",
      "source": [
        "# We should divide our data between training and testing\n",
        "# like if small dataset then we should divide it in 70 : 30 and if big then 90 : 10\n",
        "\n",
        "# Also famous division is 80 : 20\n",
        "\n",
        "# We should ensure that model performs well on the data it is trained on!\n",
        "# We firstly shuffle our data set and validate our data\n",
        "# So now we also include validation set\n",
        "\n",
        "# 1000 data entries are divided into 800 training, 100 validation and 100 testing --> 8 : 1 : 1\n"
      ],
      "metadata": {
        "id": "6_pIup4lxptW"
      },
      "execution_count": null,
      "outputs": []
    },
    {
      "cell_type": "code",
      "source": [
        "TRAIN_RATIO = 0.8\n",
        "VAL_RATIO = 0.1\n",
        "TEST_RATIO = 0.1\n",
        "DATASET_SIZE = len(X)"
      ],
      "metadata": {
        "id": "TXvwTpt_ytLm"
      },
      "execution_count": null,
      "outputs": []
    },
    {
      "cell_type": "code",
      "source": [
        "X_train = X[:int(DATASET_SIZE*TRAIN_RATIO)]\n",
        "y_train = y[:int(DATASET_SIZE*TRAIN_RATIO)]\n",
        "\n",
        "print(X_train.shape)\n",
        "print(y_train.shape)"
      ],
      "metadata": {
        "colab": {
          "base_uri": "https://localhost:8080/"
        },
        "id": "i4luu-s0yzo3",
        "outputId": "eb426a6f-d9df-4159-f934-0ac5f14b6689"
      },
      "execution_count": null,
      "outputs": [
        {
          "output_type": "stream",
          "name": "stdout",
          "text": [
            "(800, 8)\n",
            "(800, 1)\n"
          ]
        }
      ]
    },
    {
      "cell_type": "code",
      "source": [
        "# Using Tensorflow DATA API\n",
        "\n",
        "train_dataset = tf.data.Dataset.from_tensor_slices((X_train, y_train))\n",
        "train_dataset = train_dataset.shuffle(buffer_size = 8, reshuffle_each_iteration = True).batch(32).prefetch(tf.data.AUTOTUNE) # prefetch allows later elements to be prepared while current elements are being processed\n",
        "\n",
        "# buffersize is used for shuffling\n",
        "# When you call train_dataset.shuffle(buffer_size=8), TensorFlow will load the first 8 elements from train_dataset into a buffer.\n",
        "# It will then randomly select one element from the buffer and add it to the shuffled dataset. This process is repeated until the buffer is empty."
      ],
      "metadata": {
        "id": "khAwRtXD-VNk"
      },
      "execution_count": null,
      "outputs": []
    },
    {
      "cell_type": "code",
      "source": [
        "X_val = X[int(DATASET_SIZE*TRAIN_RATIO):int(DATASET_SIZE*(TRAIN_RATIO + VAL_RATIO))]\n",
        "y_val = y[int(DATASET_SIZE*TRAIN_RATIO):int(DATASET_SIZE*(TRAIN_RATIO + VAL_RATIO))]\n",
        "\n",
        "print(X_val.shape)\n",
        "print(y_val.shape)"
      ],
      "metadata": {
        "colab": {
          "base_uri": "https://localhost:8080/"
        },
        "id": "3_KMEdWjzEGO",
        "outputId": "9335825b-60a6-462a-aa76-ff35017e59a8"
      },
      "execution_count": null,
      "outputs": [
        {
          "output_type": "stream",
          "name": "stdout",
          "text": [
            "(100, 8)\n",
            "(100, 1)\n"
          ]
        }
      ]
    },
    {
      "cell_type": "code",
      "source": [
        "val_dataset = tf.data.Dataset.from_tensor_slices((X_val, y_val))\n",
        "val_dataset = train_dataset.shuffle(buffer_size = 8, reshuffle_each_iteration = True).batch(32).prefetch(tf.data.AUTOTUNE)"
      ],
      "metadata": {
        "id": "wKk2fYCEAtw9"
      },
      "execution_count": null,
      "outputs": []
    },
    {
      "cell_type": "code",
      "source": [
        "X_test = X[int(DATASET_SIZE*(TRAIN_RATIO + VAL_RATIO)):]\n",
        "y_test = y[int(DATASET_SIZE*(TRAIN_RATIO + VAL_RATIO)):]\n",
        "\n",
        "print(X_test.shape)\n",
        "print(y_test.shape)"
      ],
      "metadata": {
        "colab": {
          "base_uri": "https://localhost:8080/"
        },
        "id": "xJtH1Bvjza5K",
        "outputId": "707e83d6-9377-47e8-a6b3-e9bda5056540"
      },
      "execution_count": null,
      "outputs": [
        {
          "output_type": "stream",
          "name": "stdout",
          "text": [
            "(100, 8)\n",
            "(100, 1)\n"
          ]
        }
      ]
    },
    {
      "cell_type": "code",
      "source": [
        "test_dataset = tf.data.Dataset.from_tensor_slices((X_test, y_test))\n",
        "test_dataset = train_dataset.shuffle(buffer_size = 8, reshuffle_each_iteration = True).batch(32).prefetch(tf.data.AUTOTUNE)"
      ],
      "metadata": {
        "id": "YtfQqzmRA1Yu"
      },
      "execution_count": null,
      "outputs": []
    },
    {
      "cell_type": "code",
      "source": [
        "normalizer = Normalization()\n",
        "normalizer.adapt(X_train)\n",
        "normalizer(X)[:5]"
      ],
      "metadata": {
        "colab": {
          "base_uri": "https://localhost:8080/"
        },
        "id": "u3bQ2n0kztpx",
        "outputId": "06e4449c-71af-434b-d864-dfa43f072f32"
      },
      "execution_count": null,
      "outputs": [
        {
          "output_type": "execute_result",
          "data": {
            "text/plain": [
              "<tf.Tensor: shape=(5, 8), dtype=float32, numpy=\n",
              "array([[-0.32518542, -0.06386562,  0.7147065 , -1.2572773 ,  1.0883944 ,\n",
              "        -0.35966212, -1.0071856 , -0.13561688],\n",
              "       [ 1.4246902 , -1.1543757 , -1.4240658 , -1.6114398 ,  0.18982375,\n",
              "        -1.6127013 ,  1.7881238 , -0.0879484 ],\n",
              "       [ 1.4246902 , -0.2018912 ,  0.7147065 , -1.2572773 , -1.6073176 ,\n",
              "         1.3632668 , -0.45810696, -0.85064405],\n",
              "       [-0.32518542, -1.7243888 ,  1.4276305 , -0.19478934, -1.1580322 ,\n",
              "        -0.98618174,  0.5901341 , -1.5656712 ],\n",
              "       [ 0.8413983 , -1.4683743 , -1.4240658 , -0.548952  , -1.6073176 ,\n",
              "         1.050007  , -0.25844198, -0.8983125 ]], dtype=float32)>"
            ]
          },
          "metadata": {},
          "execution_count": 141
        }
      ]
    },
    {
      "cell_type": "code",
      "source": [
        "# Performance Measurement\n",
        "\n",
        "model.evaluate(X, y)"
      ],
      "metadata": {
        "colab": {
          "base_uri": "https://localhost:8080/"
        },
        "id": "BtSP4GmI0eX1",
        "outputId": "6958be63-c9aa-49a8-c251-fa65410d8313"
      },
      "execution_count": null,
      "outputs": [
        {
          "output_type": "stream",
          "name": "stdout",
          "text": [
            "32/32 [==============================] - 0s 1ms/step - loss: 34089.9648 - root_mean_squared_error: 42186.7031\n"
          ]
        },
        {
          "output_type": "execute_result",
          "data": {
            "text/plain": [
              "[34089.96484375, 42186.703125]"
            ]
          },
          "metadata": {},
          "execution_count": 142
        }
      ]
    },
    {
      "cell_type": "code",
      "source": [
        "# We have trained our model!"
      ],
      "metadata": {
        "id": "_2wDiwIF1JIu"
      },
      "execution_count": null,
      "outputs": []
    },
    {
      "cell_type": "code",
      "source": [
        "X_test.shape"
      ],
      "metadata": {
        "colab": {
          "base_uri": "https://localhost:8080/"
        },
        "id": "mK5am8391O2w",
        "outputId": "dd63aa8e-d29f-484c-ac26-64ca1ed1f5c9"
      },
      "execution_count": null,
      "outputs": [
        {
          "output_type": "execute_result",
          "data": {
            "text/plain": [
              "TensorShape([100, 8])"
            ]
          },
          "metadata": {},
          "execution_count": 144
        }
      ]
    },
    {
      "cell_type": "code",
      "source": [
        "model.predict(X_test)"
      ],
      "metadata": {
        "colab": {
          "base_uri": "https://localhost:8080/"
        },
        "id": "vxOC-FrE1SpD",
        "outputId": "f55df84b-a873-4b9a-fff2-a2f6148db46d"
      },
      "execution_count": null,
      "outputs": [
        {
          "output_type": "stream",
          "name": "stdout",
          "text": [
            "4/4 [==============================] - 0s 3ms/step\n"
          ]
        },
        {
          "output_type": "execute_result",
          "data": {
            "text/plain": [
              "array([[365430.6  ],\n",
              "       [381537.3  ],\n",
              "       [320404.72 ],\n",
              "       [241750.1  ],\n",
              "       [211128.11 ],\n",
              "       [129154.69 ],\n",
              "       [198237.06 ],\n",
              "       [141655.3  ],\n",
              "       [313356.   ],\n",
              "       [200166.11 ],\n",
              "       [202757.73 ],\n",
              "       [ 98497.52 ],\n",
              "       [339891.78 ],\n",
              "       [179744.56 ],\n",
              "       [419152.16 ],\n",
              "       [464376.03 ],\n",
              "       [417825.38 ],\n",
              "       [104697.586],\n",
              "       [342007.75 ],\n",
              "       [176072.64 ],\n",
              "       [333684.8  ],\n",
              "       [241586.02 ],\n",
              "       [254001.08 ],\n",
              "       [481052.47 ],\n",
              "       [316430.22 ],\n",
              "       [211125.86 ],\n",
              "       [123686.91 ],\n",
              "       [431606.97 ],\n",
              "       [330813.28 ],\n",
              "       [161898.11 ],\n",
              "       [166148.72 ],\n",
              "       [323393.25 ],\n",
              "       [158823.53 ],\n",
              "       [340623.94 ],\n",
              "       [468473.75 ],\n",
              "       [204777.2  ],\n",
              "       [511633.34 ],\n",
              "       [329478.34 ],\n",
              "       [235341.39 ],\n",
              "       [488412.1  ],\n",
              "       [148442.14 ],\n",
              "       [418082.47 ],\n",
              "       [292507.97 ],\n",
              "       [ 82269.55 ],\n",
              "       [173331.75 ],\n",
              "       [190804.38 ],\n",
              "       [435829.94 ],\n",
              "       [324749.   ],\n",
              "       [253794.34 ],\n",
              "       [254942.55 ],\n",
              "       [325419.4  ],\n",
              "       [432582.03 ],\n",
              "       [189776.33 ],\n",
              "       [478926.1  ],\n",
              "       [547665.9  ],\n",
              "       [564906.8  ],\n",
              "       [309345.12 ],\n",
              "       [524726.2  ],\n",
              "       [142850.14 ],\n",
              "       [455608.5  ],\n",
              "       [237360.25 ],\n",
              "       [417104.25 ],\n",
              "       [140520.88 ],\n",
              "       [523093.2  ],\n",
              "       [481603.56 ],\n",
              "       [466123.9  ],\n",
              "       [222761.52 ],\n",
              "       [272928.28 ],\n",
              "       [478579.16 ],\n",
              "       [152678.61 ],\n",
              "       [461349.28 ],\n",
              "       [129918.5  ],\n",
              "       [533901.8  ],\n",
              "       [304765.25 ],\n",
              "       [473105.6  ],\n",
              "       [356177.4  ],\n",
              "       [193144.95 ],\n",
              "       [466866.5  ],\n",
              "       [152281.98 ],\n",
              "       [505157.25 ],\n",
              "       [345790.12 ],\n",
              "       [371604.16 ],\n",
              "       [420870.16 ],\n",
              "       [457470.66 ],\n",
              "       [ 84907.5  ],\n",
              "       [173761.14 ],\n",
              "       [410914.72 ],\n",
              "       [349710.9  ],\n",
              "       [129089.516],\n",
              "       [219324.55 ],\n",
              "       [350593.66 ],\n",
              "       [196248.9  ],\n",
              "       [148693.47 ],\n",
              "       [492179.84 ],\n",
              "       [373648.22 ],\n",
              "       [409636.4  ],\n",
              "       [420117.28 ],\n",
              "       [394604.38 ],\n",
              "       [226085.55 ],\n",
              "       [516742.3  ]], dtype=float32)"
            ]
          },
          "metadata": {},
          "execution_count": 145
        }
      ]
    },
    {
      "cell_type": "code",
      "source": [
        "model.predict(X_test[0])"
      ],
      "metadata": {
        "colab": {
          "base_uri": "https://localhost:8080/"
        },
        "id": "2kC8K0T_1VXh",
        "outputId": "b4264afc-9947-4639-c1c7-d01004a469ce"
      },
      "execution_count": null,
      "outputs": [
        {
          "output_type": "stream",
          "name": "stdout",
          "text": [
            "1/1 [==============================] - 0s 74ms/step\n"
          ]
        },
        {
          "output_type": "execute_result",
          "data": {
            "text/plain": [
              "array([[365430.6]], dtype=float32)"
            ]
          },
          "metadata": {},
          "execution_count": 146
        }
      ]
    },
    {
      "cell_type": "code",
      "source": [
        "y_test[0]"
      ],
      "metadata": {
        "colab": {
          "base_uri": "https://localhost:8080/"
        },
        "id": "LKhJcmrY1fjD",
        "outputId": "b1f05fa3-de61-4911-8751-808643f21533"
      },
      "execution_count": null,
      "outputs": [
        {
          "output_type": "execute_result",
          "data": {
            "text/plain": [
              "<tf.Tensor: shape=(1,), dtype=float32, numpy=array([413424.5], dtype=float32)>"
            ]
          },
          "metadata": {},
          "execution_count": 147
        }
      ]
    },
    {
      "cell_type": "code",
      "source": [
        "y_true = list(y_test[:, 0].numpy())"
      ],
      "metadata": {
        "id": "YaIcR5M82A7d"
      },
      "execution_count": null,
      "outputs": []
    },
    {
      "cell_type": "code",
      "source": [
        "y_pred = list(model.predict(X_test)[:, 0])\n",
        "y_pred"
      ],
      "metadata": {
        "colab": {
          "base_uri": "https://localhost:8080/"
        },
        "id": "xHeyRYNu2HB9",
        "outputId": "3a452fd1-641f-4ea5-e1ea-19984ace9580"
      },
      "execution_count": null,
      "outputs": [
        {
          "output_type": "stream",
          "name": "stdout",
          "text": [
            "4/4 [==============================] - 0s 3ms/step\n"
          ]
        },
        {
          "output_type": "execute_result",
          "data": {
            "text/plain": [
              "[365430.6,\n",
              " 381537.3,\n",
              " 320404.72,\n",
              " 241750.1,\n",
              " 211128.11,\n",
              " 129154.69,\n",
              " 198237.06,\n",
              " 141655.3,\n",
              " 313356.0,\n",
              " 200166.11,\n",
              " 202757.73,\n",
              " 98497.52,\n",
              " 339891.78,\n",
              " 179744.56,\n",
              " 419152.16,\n",
              " 464376.03,\n",
              " 417825.38,\n",
              " 104697.586,\n",
              " 342007.75,\n",
              " 176072.64,\n",
              " 333684.8,\n",
              " 241586.02,\n",
              " 254001.08,\n",
              " 481052.47,\n",
              " 316430.22,\n",
              " 211125.86,\n",
              " 123686.91,\n",
              " 431606.97,\n",
              " 330813.28,\n",
              " 161898.11,\n",
              " 166148.72,\n",
              " 323393.25,\n",
              " 158823.53,\n",
              " 340623.94,\n",
              " 468473.75,\n",
              " 204777.2,\n",
              " 511633.34,\n",
              " 329478.34,\n",
              " 235341.39,\n",
              " 488412.1,\n",
              " 148442.14,\n",
              " 418082.47,\n",
              " 292507.97,\n",
              " 82269.55,\n",
              " 173331.75,\n",
              " 190804.38,\n",
              " 435829.94,\n",
              " 324749.0,\n",
              " 253794.34,\n",
              " 254942.55,\n",
              " 325419.4,\n",
              " 432582.03,\n",
              " 189776.33,\n",
              " 478926.1,\n",
              " 547665.9,\n",
              " 564906.8,\n",
              " 309345.12,\n",
              " 524726.2,\n",
              " 142850.14,\n",
              " 455608.5,\n",
              " 237360.25,\n",
              " 417104.25,\n",
              " 140520.88,\n",
              " 523093.2,\n",
              " 481603.56,\n",
              " 466123.9,\n",
              " 222761.52,\n",
              " 272928.28,\n",
              " 478579.16,\n",
              " 152678.61,\n",
              " 461349.28,\n",
              " 129918.5,\n",
              " 533901.8,\n",
              " 304765.25,\n",
              " 473105.6,\n",
              " 356177.4,\n",
              " 193144.95,\n",
              " 466866.5,\n",
              " 152281.98,\n",
              " 505157.25,\n",
              " 345790.12,\n",
              " 371604.16,\n",
              " 420870.16,\n",
              " 457470.66,\n",
              " 84907.5,\n",
              " 173761.14,\n",
              " 410914.72,\n",
              " 349710.9,\n",
              " 129089.516,\n",
              " 219324.55,\n",
              " 350593.66,\n",
              " 196248.9,\n",
              " 148693.47,\n",
              " 492179.84,\n",
              " 373648.22,\n",
              " 409636.4,\n",
              " 420117.28,\n",
              " 394604.38,\n",
              " 226085.55,\n",
              " 516742.3]"
            ]
          },
          "metadata": {},
          "execution_count": 149
        }
      ]
    },
    {
      "cell_type": "code",
      "source": [
        "import numpy as np\n",
        "ind = np.arange(100)\n",
        "plt.figure(figsize = (40, 12))\n",
        "\n",
        "width = 0.4\n",
        "\n",
        "plt.bar(ind, y_pred, width, label = \"Predicted Car Price\")\n",
        "plt.bar(ind + width, y_true, width, label = \"Actual Car Price\")\n",
        "\n",
        "plt.xlabel(\"Actual vs Predicted Prices\")\n",
        "plt.ylabel(\"Car Price Prices\")   # Blue is predicted and orange is actual"
      ],
      "metadata": {
        "colab": {
          "base_uri": "https://localhost:8080/",
          "height": 494
        },
        "id": "Y5GjJZUo2NtZ",
        "outputId": "80289542-9ca3-47e1-d466-aad79af19e65"
      },
      "execution_count": null,
      "outputs": [
        {
          "output_type": "execute_result",
          "data": {
            "text/plain": [
              "Text(0, 0.5, 'Car Price Prices')"
            ]
          },
          "metadata": {},
          "execution_count": 150
        },
        {
          "output_type": "display_data",
          "data": {
            "text/plain": [
              "<Figure size 4000x1200 with 1 Axes>"
            ],
            "image/png": "[encoded data removed]"
          },
          "metadata": {}
        }
      ]
    },
    {
      "cell_type": "code",
      "source": [
        "# Model is performing very poorly\n",
        "\n",
        "# validation loss should be above the training loss but in some cases\n",
        "# If training loss is above validation loss then we call it underfeeding\n",
        "\n",
        "# Our aim is to reduce the error\n",
        "\n",
        "# Improving Technique\n",
        "# Hidden layers are the layers of neurons between the input and output layers in a neural network. They are called\n",
        "# \"hidden\" because their outputs are not directly observed or used in the final prediction; instead, they play a crucial role in learning and extracting features from the input data.\n",
        "\n",
        "# Inputs -> Multiple Hidden Layers to improve prediction -> Dense Layer\n",
        "# We need to mention the activation function since we put non-linear functions which add even more complexity to the model\n",
        "# common activation functions - Sigmoid, relu, tensh, rectified linear unit and leaky relu\n",
        "\n",
        "# Each hidden layer in a neural network can have its own activation function. In fact, it's a common practice to use\n",
        "# different activation functions for different layers based on the nature of the problem you're trying to solve and the characteristics of the data.\n",
        "\n"
      ],
      "metadata": {
        "id": "EmQHgk152ioW"
      },
      "execution_count": null,
      "outputs": []
    }
  ]
}