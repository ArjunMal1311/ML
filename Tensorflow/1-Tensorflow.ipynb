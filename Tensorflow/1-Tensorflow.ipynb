{
  "nbformat": 4,
  "nbformat_minor": 0,
  "metadata": {
    "colab": {
      "provenance": [],
      "authorship_tag": "ABX9TyN2uWYzqedmembb2z0hm2ld",
      "include_colab_link": true
    },
    "kernelspec": {
      "name": "python3",
      "display_name": "Python 3"
    },
    "language_info": {
      "name": "python"
    }
  },
  "cells": [
    {
      "cell_type": "markdown",
      "metadata": {
        "id": "view-in-github",
        "colab_type": "text"
      },
      "source": [
        "<a href=\"https://colab.research.google.com/github/ArjunMal1311/ML/blob/main/Tensorflow/1-Tensorflow.ipynb\" target=\"_parent\"><img src=\"https://colab.research.google.com/assets/colab-badge.svg\" alt=\"Open In Colab\"/></a>"
      ]
    },
    {
      "cell_type": "code",
      "execution_count": null,
      "metadata": {
        "id": "NlWwSrpPQXzB"
      },
      "outputs": [],
      "source": [
        "# We have several neural network lanes or stacks also known as mathematical functions\n",
        "\n",
        "# 2 parameters are considered -> weight and bias\n",
        "# In a neural network, weights are the learnable parameters that determine the strength of connections between neurons in different layers. Each connection between two neurons has an associated weight.\n",
        "# Biases are another set of learnable parameters in a neural network. They are added to the weighted sum of neuron inputs to introduce flexibility and shift the activation function.\n",
        "\n",
        "\n",
        "# Imagine you have a recipe, and the ingredients have different weights. Some ingredients, like salt, may need a smaller amount (weight) to make the dish taste good, while others, like sugar, may need a larger amount (weight).\n",
        "# Picture a see-saw. The bias is like the position at which the see-saw starts. If it starts tilted to one side (positive bias), it will naturally lean in that direction, and if it starts level (zero bias), it will stay balanced.\n",
        "\n",
        "# Layer 1 -> Layer2 -> Layer3 ...... -> Layer n\n",
        "# So x1 be the input to layer1 produces y1 which will be input to layer2\n",
        "# Our aim is to obtain the value of w and b     wX + b = Y\n",
        "\n",
        "# To train we use inputs and outputs, multi dimensional arrays are known as tensors\n"
      ]
    },
    {
      "cell_type": "code",
      "source": [
        "# [8] 0-D Tensor, Single element\n",
        "# [2 0 -3] 1-D  Tensor which consist of multiple 0-D Tensors\n",
        "\n",
        "# [1 2  0] # 2-D Array consisting of multiple 1D Tensors\n",
        "# [3 5 -1]\n",
        "# [3 4  5]\n",
        "\n",
        "# 3-D Tensor consist of multiple 2-D Arrays [1-3DTensor.jpg]"
      ],
      "metadata": {
        "id": "TlJE9K1rk0Yv"
      },
      "execution_count": null,
      "outputs": []
    },
    {
      "cell_type": "code",
      "source": [
        "import tensorflow as tf"
      ],
      "metadata": {
        "id": "MdD7pZznmGKu"
      },
      "execution_count": 1,
      "outputs": []
    },
    {
      "cell_type": "code",
      "source": [
        "tensor_zero_d = tf.constant(4)\n",
        "tensor_zero_d"
      ],
      "metadata": {
        "colab": {
          "base_uri": "https://localhost:8080/"
        },
        "id": "bgcQOXpXmJJ-",
        "outputId": "07dd0912-1d27-4624-eb93-e1a77b5b5f86"
      },
      "execution_count": 2,
      "outputs": [
        {
          "output_type": "execute_result",
          "data": {
            "text/plain": [
              "<tf.Tensor: shape=(), dtype=int32, numpy=4>"
            ]
          },
          "metadata": {},
          "execution_count": 2
        }
      ]
    },
    {
      "cell_type": "code",
      "source": [
        "ten_one_d = tf.constant([2, 0, -3]) # We can also have float, even one float then dtype changes to float\n",
        "ten_one_d"
      ],
      "metadata": {
        "colab": {
          "base_uri": "https://localhost:8080/"
        },
        "id": "OuxAOBKPmS1l",
        "outputId": "c481a542-96b3-43dd-a538-2413686c8c6b"
      },
      "execution_count": 3,
      "outputs": [
        {
          "output_type": "execute_result",
          "data": {
            "text/plain": [
              "<tf.Tensor: shape=(3,), dtype=int32, numpy=array([ 2,  0, -3], dtype=int32)>"
            ]
          },
          "metadata": {},
          "execution_count": 3
        }
      ]
    },
    {
      "cell_type": "code",
      "source": [
        "tensor_two_d = tf.constant([\n",
        "    [1, 2, 0],\n",
        "    [3, 5, -1],\n",
        "    [1, 5, 6],\n",
        "    [2, 3, 8]\n",
        "])\n",
        "tensor_two_d"
      ],
      "metadata": {
        "colab": {
          "base_uri": "https://localhost:8080/"
        },
        "id": "UWLWiIpZmZsL",
        "outputId": "7b682f93-3371-4235-b459-875aa46833b2"
      },
      "execution_count": 5,
      "outputs": [
        {
          "output_type": "execute_result",
          "data": {
            "text/plain": [
              "<tf.Tensor: shape=(4, 3), dtype=int32, numpy=\n",
              "array([[ 1,  2,  0],\n",
              "       [ 3,  5, -1],\n",
              "       [ 1,  5,  6],\n",
              "       [ 2,  3,  8]], dtype=int32)>"
            ]
          },
          "metadata": {},
          "execution_count": 5
        }
      ]
    },
    {
      "cell_type": "code",
      "source": [
        "tensor_three_d = tf.constant([\n",
        "    [[1, 2, 0],\n",
        "     [3, 5, -1]],\n",
        "\n",
        "    [[10, 2, 0],\n",
        "     [1, 0, 2]],\n",
        "\n",
        "    [[2, 1, 9],\n",
        "     [4, -2, 32]],\n",
        "\n",
        "])\n",
        "\n",
        "tensor_three_d"
      ],
      "metadata": {
        "colab": {
          "base_uri": "https://localhost:8080/"
        },
        "id": "NRCU8SOBmsXA",
        "outputId": "99bc70ab-90e6-4fa6-f0f8-48d4257358ce"
      },
      "execution_count": 6,
      "outputs": [
        {
          "output_type": "execute_result",
          "data": {
            "text/plain": [
              "<tf.Tensor: shape=(3, 2, 3), dtype=int32, numpy=\n",
              "array([[[ 1,  2,  0],\n",
              "        [ 3,  5, -1]],\n",
              "\n",
              "       [[10,  2,  0],\n",
              "        [ 1,  0,  2]],\n",
              "\n",
              "       [[ 2,  1,  9],\n",
              "        [ 4, -2, 32]]], dtype=int32)>"
            ]
          },
          "metadata": {},
          "execution_count": 6
        }
      ]
    },
    {
      "cell_type": "code",
      "source": [],
      "metadata": {
        "id": "yXGp-yqNnYlA"
      },
      "execution_count": null,
      "outputs": []
    }
  ]
}