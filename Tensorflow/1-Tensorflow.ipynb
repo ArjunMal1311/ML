{
  "nbformat": 4,
  "nbformat_minor": 0,
  "metadata": {
    "colab": {
      "provenance": [],
      "authorship_tag": "ABX9TyP4pCEnshW4wE71oz3/C8Hs",
      "include_colab_link": true
    },
    "kernelspec": {
      "name": "python3",
      "display_name": "Python 3"
    },
    "language_info": {
      "name": "python"
    }
  },
  "cells": [
    {
      "cell_type": "markdown",
      "metadata": {
        "id": "view-in-github",
        "colab_type": "text"
      },
      "source": [
        "<a href=\"https://colab.research.google.com/github/ArjunMal1311/ML/blob/main/Tensorflow/1-Tensorflow.ipynb\" target=\"_parent\"><img src=\"https://colab.research.google.com/assets/colab-badge.svg\" alt=\"Open In Colab\"/></a>"
      ]
    },
    {
      "cell_type": "code",
      "execution_count": null,
      "metadata": {
        "id": "NlWwSrpPQXzB"
      },
      "outputs": [],
      "source": [
        "# We have several neural network lanes or stacks also known as mathematical functions\n",
        "\n",
        "# 2 parameters are considered -> weight and bias\n",
        "# In a neural network, weights are the learnable parameters that determine the strength of connections between neurons in different layers. Each connection between two neurons has an associated weight.\n",
        "# Biases are another set of learnable parameters in a neural network. They are added to the weighted sum of neuron inputs to introduce flexibility and shift the activation function.\n",
        "\n",
        "\n",
        "# Imagine you have a recipe, and the ingredients have different weights. Some ingredients, like salt, may need a smaller amount (weight) to make the dish taste good, while others, like sugar, may need a larger amount (weight).\n",
        "# Picture a see-saw. The bias is like the position at which the see-saw starts. If it starts tilted to one side (positive bias), it will naturally lean in that direction, and if it starts level (zero bias), it will stay balanced.\n",
        "\n",
        "# Layer 1 -> Layer2 -> Layer3 ...... -> Layer n\n",
        "# So x1 be the input to layer1 produces y1 which will be input to layer2\n",
        "# Our aim is to obtain the value of w and b     wX + b = Y\n",
        "\n",
        "# To train we use inputs and outputs, multi dimensional arrays are known as tensors\n"
      ]
    },
    {
      "cell_type": "code",
      "source": [
        "# [8] 0-D Tensor, Single element\n",
        "# [2 0 -3] 1-D  Tensor which consist of multiple 0-D Tensors\n",
        "\n",
        "# [1 2  0] # 2-D Array consisting of multiple 1D Tensors\n",
        "# [3 5 -1]\n",
        "# [3 4  5]\n",
        "\n",
        "# 3-D Tensor consist of multiple 2-D Arrays [1-3DTensor.jpg]"
      ],
      "metadata": {
        "id": "TlJE9K1rk0Yv"
      },
      "execution_count": null,
      "outputs": []
    },
    {
      "cell_type": "code",
      "source": [
        "import tensorflow as tf"
      ],
      "metadata": {
        "id": "MdD7pZznmGKu"
      },
      "execution_count": 2,
      "outputs": []
    },
    {
      "cell_type": "code",
      "source": [
        "tensor_zero_d = tf.constant(4)\n",
        "tensor_zero_d"
      ],
      "metadata": {
        "colab": {
          "base_uri": "https://localhost:8080/"
        },
        "id": "bgcQOXpXmJJ-",
        "outputId": "07dd0912-1d27-4624-eb93-e1a77b5b5f86"
      },
      "execution_count": null,
      "outputs": [
        {
          "output_type": "execute_result",
          "data": {
            "text/plain": [
              "<tf.Tensor: shape=(), dtype=int32, numpy=4>"
            ]
          },
          "metadata": {},
          "execution_count": 2
        }
      ]
    },
    {
      "cell_type": "code",
      "source": [
        "ten_one_d = tf.constant([2, 0, -3]) # We can also have float, even one float then dtype changes to float\n",
        "ten_one_d"
      ],
      "metadata": {
        "colab": {
          "base_uri": "https://localhost:8080/"
        },
        "id": "OuxAOBKPmS1l",
        "outputId": "c481a542-96b3-43dd-a538-2413686c8c6b"
      },
      "execution_count": null,
      "outputs": [
        {
          "output_type": "execute_result",
          "data": {
            "text/plain": [
              "<tf.Tensor: shape=(3,), dtype=int32, numpy=array([ 2,  0, -3], dtype=int32)>"
            ]
          },
          "metadata": {},
          "execution_count": 3
        }
      ]
    },
    {
      "cell_type": "code",
      "source": [
        "tensor_two_d = tf.constant([\n",
        "    [1, 2, 0],\n",
        "    [3, 5, -1],\n",
        "    [1, 5, 6],\n",
        "    [2, 3, 8]\n",
        "])\n",
        "tensor_two_d"
      ],
      "metadata": {
        "colab": {
          "base_uri": "https://localhost:8080/"
        },
        "id": "UWLWiIpZmZsL",
        "outputId": "7b682f93-3371-4235-b459-875aa46833b2"
      },
      "execution_count": null,
      "outputs": [
        {
          "output_type": "execute_result",
          "data": {
            "text/plain": [
              "<tf.Tensor: shape=(4, 3), dtype=int32, numpy=\n",
              "array([[ 1,  2,  0],\n",
              "       [ 3,  5, -1],\n",
              "       [ 1,  5,  6],\n",
              "       [ 2,  3,  8]], dtype=int32)>"
            ]
          },
          "metadata": {},
          "execution_count": 5
        }
      ]
    },
    {
      "cell_type": "code",
      "source": [
        "tensor_three_d = tf.constant([\n",
        "    [[1, 2, 0],\n",
        "     [3, 5, -1]],\n",
        "\n",
        "    [[10, 2, 0],\n",
        "     [1, 0, 2]],\n",
        "\n",
        "    [[2, 1, 9],\n",
        "     [4, -2, 32]],\n",
        "\n",
        "])\n",
        "\n",
        "tensor_three_d"
      ],
      "metadata": {
        "colab": {
          "base_uri": "https://localhost:8080/"
        },
        "id": "NRCU8SOBmsXA",
        "outputId": "99bc70ab-90e6-4fa6-f0f8-48d4257358ce"
      },
      "execution_count": null,
      "outputs": [
        {
          "output_type": "execute_result",
          "data": {
            "text/plain": [
              "<tf.Tensor: shape=(3, 2, 3), dtype=int32, numpy=\n",
              "array([[[ 1,  2,  0],\n",
              "        [ 3,  5, -1]],\n",
              "\n",
              "       [[10,  2,  0],\n",
              "        [ 1,  0,  2]],\n",
              "\n",
              "       [[ 2,  1,  9],\n",
              "        [ 4, -2, 32]]], dtype=int32)>"
            ]
          },
          "metadata": {},
          "execution_count": 6
        }
      ]
    },
    {
      "cell_type": "code",
      "source": [
        "eye_tensor = tf.eye(\n",
        "    num_rows = 4,\n",
        "    num_columns = 3,\n",
        "    batch_shape = [2, ],\n",
        "    dtype = tf.dtypes.float32,\n",
        "    name = None\n",
        ")\n",
        "print(eye_tensor)\n",
        "eye_tensor.shape"
      ],
      "metadata": {
        "id": "yXGp-yqNnYlA",
        "colab": {
          "base_uri": "https://localhost:8080/"
        },
        "outputId": "87fad1f8-6c37-437d-88d4-bdc181890708"
      },
      "execution_count": 9,
      "outputs": [
        {
          "output_type": "stream",
          "name": "stdout",
          "text": [
            "tf.Tensor(\n",
            "[[[1. 0. 0.]\n",
            "  [0. 1. 0.]\n",
            "  [0. 0. 1.]\n",
            "  [0. 0. 0.]]\n",
            "\n",
            " [[1. 0. 0.]\n",
            "  [0. 1. 0.]\n",
            "  [0. 0. 1.]\n",
            "  [0. 0. 0.]]], shape=(2, 4, 3), dtype=float32)\n"
          ]
        },
        {
          "output_type": "execute_result",
          "data": {
            "text/plain": [
              "TensorShape([2, 4, 3])"
            ]
          },
          "metadata": {},
          "execution_count": 9
        }
      ]
    },
    {
      "cell_type": "code",
      "source": [
        "ones_tensor = tf.ones(\n",
        "    [5, 3, 2],\n",
        "    dtype = tf.dtypes.float32,\n",
        "    name = None\n",
        ")\n",
        "print(ones_tensor)"
      ],
      "metadata": {
        "colab": {
          "base_uri": "https://localhost:8080/"
        },
        "id": "EXQ1-_qtVHOc",
        "outputId": "2a12a0f4-cf84-4f15-ad42-f323012565e5"
      },
      "execution_count": 10,
      "outputs": [
        {
          "output_type": "stream",
          "name": "stdout",
          "text": [
            "tf.Tensor(\n",
            "[[[1. 1.]\n",
            "  [1. 1.]\n",
            "  [1. 1.]]\n",
            "\n",
            " [[1. 1.]\n",
            "  [1. 1.]\n",
            "  [1. 1.]]\n",
            "\n",
            " [[1. 1.]\n",
            "  [1. 1.]\n",
            "  [1. 1.]]\n",
            "\n",
            " [[1. 1.]\n",
            "  [1. 1.]\n",
            "  [1. 1.]]\n",
            "\n",
            " [[1. 1.]\n",
            "  [1. 1.]\n",
            "  [1. 1.]]], shape=(5, 3, 2), dtype=float32)\n"
          ]
        }
      ]
    },
    {
      "cell_type": "code",
      "source": [
        "# Now we have one_like\n",
        "# Creates the tensor of all ones\n",
        "# like we have 2*3 matrix\n",
        "# [12 1 3]\n",
        "# [5 7 2]\n",
        "\n",
        "# Now when we input this into one_like we will obtain\n",
        "# [1 1 1]\n",
        "# [1 1 1]  one_like takes in shape and output all 1's in that shape\n",
        "\n",
        "# similar to ones we have zeros\n",
        "zeros_tensor = tf.zeros(\n",
        "    [3, 2],\n",
        "    dtype= tf.dtypes.int32,\n",
        "    name = None\n",
        ")\n",
        "zeros_tensor"
      ],
      "metadata": {
        "colab": {
          "base_uri": "https://localhost:8080/"
        },
        "id": "SH4LPBQjWfLH",
        "outputId": "9f01a01a-f8ab-4af9-93c2-f0bd9a4c2383"
      },
      "execution_count": 13,
      "outputs": [
        {
          "output_type": "execute_result",
          "data": {
            "text/plain": [
              "<tf.Tensor: shape=(3, 2), dtype=int32, numpy=\n",
              "array([[0, 0],\n",
              "       [0, 0],\n",
              "       [0, 0]], dtype=int32)>"
            ]
          },
          "metadata": {},
          "execution_count": 13
        }
      ]
    },
    {
      "cell_type": "code",
      "source": [
        "# Rank ->\n",
        "# shape of tensor 't' is [2, 2, 3]\n",
        "t = tf.constant([[\n",
        "                      [1, 1, 1],\n",
        "                       [2, 2, 2]\n",
        "                  ]\n",
        "                 ,\n",
        "                  [\n",
        "                      [3, 3, 3],\n",
        "                       [4, 4, 4]\n",
        "                  ]\n",
        "                 ])\n",
        "tf.rank(t)  # 3 dimensional"
      ],
      "metadata": {
        "colab": {
          "base_uri": "https://localhost:8080/"
        },
        "id": "zOoO9_LCWs28",
        "outputId": "b65eb4dd-90ce-4192-b799-12dd0368aebb"
      },
      "execution_count": 14,
      "outputs": [
        {
          "output_type": "execute_result",
          "data": {
            "text/plain": [
              "<tf.Tensor: shape=(), dtype=int32, numpy=3>"
            ]
          },
          "metadata": {},
          "execution_count": 14
        }
      ]
    },
    {
      "cell_type": "code",
      "source": [
        "tf.size(t) # Number of elements in the tensor"
      ],
      "metadata": {
        "colab": {
          "base_uri": "https://localhost:8080/"
        },
        "id": "4wBVtQ1AX1Us",
        "outputId": "fc93c5b2-8a5f-4806-f492-e7885c891e72"
      },
      "execution_count": 15,
      "outputs": [
        {
          "output_type": "execute_result",
          "data": {
            "text/plain": [
              "<tf.Tensor: shape=(), dtype=int32, numpy=12>"
            ]
          },
          "metadata": {},
          "execution_count": 15
        }
      ]
    },
    {
      "cell_type": "code",
      "source": [
        "# Random normal tensor\n",
        "\n",
        "random_tensor = tf.random.normal( # Random Distribution\n",
        "    [3, 2],\n",
        "    mean = 100.0,\n",
        "    stddev = 1.0,\n",
        "    name = None\n",
        ")\n",
        "\n",
        "random_tensor"
      ],
      "metadata": {
        "colab": {
          "base_uri": "https://localhost:8080/"
        },
        "id": "i_7IidiXYemq",
        "outputId": "bab2c0d6-4cf2-426c-f362-1d553d4b5ad0"
      },
      "execution_count": 18,
      "outputs": [
        {
          "output_type": "execute_result",
          "data": {
            "text/plain": [
              "<tf.Tensor: shape=(3, 2), dtype=float32, numpy=\n",
              "array([[101.044464, 100.942   ],\n",
              "       [100.64783 , 101.08344 ],\n",
              "       [100.29241 , 100.30865 ]], dtype=float32)>"
            ]
          },
          "metadata": {},
          "execution_count": 18
        }
      ]
    },
    {
      "cell_type": "code",
      "source": [
        "random_tensor = tf.random.uniform( # Uniform distribution\n",
        "    [3, 2],\n",
        "    minval = 0,\n",
        "    maxval = 50,\n",
        "    dtype = tf.dtypes.int32,\n",
        "    name = None\n",
        ")\n",
        "\n",
        "random_tensor"
      ],
      "metadata": {
        "colab": {
          "base_uri": "https://localhost:8080/"
        },
        "id": "t44DmwedZOeT",
        "outputId": "fb23f550-d9e7-439f-ca3d-1561be3fd08c"
      },
      "execution_count": 24,
      "outputs": [
        {
          "output_type": "execute_result",
          "data": {
            "text/plain": [
              "<tf.Tensor: shape=(3, 2), dtype=int32, numpy=\n",
              "array([[22, 24],\n",
              "       [30, 36],\n",
              "       [21, 48]], dtype=int32)>"
            ]
          },
          "metadata": {},
          "execution_count": 24
        }
      ]
    },
    {
      "cell_type": "code",
      "source": [
        "import numpy as np\n",
        "# Set a seed for TensorFlow\n",
        "tf.random.set_seed(42)\n",
        "\n",
        "# Generate random numbers using TensorFlow\n",
        "rand_nums = tf.random.uniform(shape=(3, 3))\n",
        "print(rand_nums.numpy())  # This will produce the same random numbers every time\n",
        "\n",
        "# Set a seed for NumPy\n",
        "np.random.seed(42)\n",
        "\n",
        "# Generate random numbers using NumPy\n",
        "rand_nums_np = np.random.uniform(size=(3, 3))\n",
        "print(rand_nums_np)  # This will produce the same random numbers every time"
      ],
      "metadata": {
        "colab": {
          "base_uri": "https://localhost:8080/"
        },
        "id": "-3aL2xe4aUJO",
        "outputId": "ae1c928a-4aad-45e1-ab12-1e972f6e0d6b"
      },
      "execution_count": 26,
      "outputs": [
        {
          "output_type": "stream",
          "name": "stdout",
          "text": [
            "[[0.6645621  0.44100678 0.3528825 ]\n",
            " [0.46448255 0.03366041 0.68467236]\n",
            " [0.74011743 0.8724445  0.22632635]]\n",
            "[[0.37454012 0.95071431 0.73199394]\n",
            " [0.59865848 0.15601864 0.15599452]\n",
            " [0.05808361 0.86617615 0.60111501]]\n"
          ]
        }
      ]
    },
    {
      "cell_type": "code",
      "source": [
        "tf.random.set_seed(4)\n",
        "\n",
        "random_tensor = tf.random.uniform( # Uniform distribution\n",
        "    [3, 2],\n",
        "    minval = 0,\n",
        "    maxval = 50,\n",
        "    dtype = tf.dtypes.int32,\n",
        "    name = None,\n",
        "    seed = 2\n",
        ")\n",
        "\n",
        "# This is the seed for the random number generator. Setting a seed ensures that the random values generated are reproducible. If you run this code multiple times with the same seed (seed=20), you will get the same random tensor each time.\n",
        "\n",
        "random_tensor"
      ],
      "metadata": {
        "colab": {
          "base_uri": "https://localhost:8080/"
        },
        "id": "UiPbMdC9bRy_",
        "outputId": "a4d7b185-a8d4-4b35-b437-650ff52292b6"
      },
      "execution_count": 51,
      "outputs": [
        {
          "output_type": "execute_result",
          "data": {
            "text/plain": [
              "<tf.Tensor: shape=(3, 2), dtype=int32, numpy=\n",
              "array([[31, 18],\n",
              "       [22, 48],\n",
              "       [36, 24]], dtype=int32)>"
            ]
          },
          "metadata": {},
          "execution_count": 51
        }
      ]
    },
    {
      "cell_type": "code",
      "source": [
        "tensor_indexed= tf.constant([10, 20, 30, 40, 50, 60])\n",
        "print(tensor_indexed[1:4])\n",
        "print(tensor_indexed[3:-1])\n",
        "print(tensor_indexed[3:-2])"
      ],
      "metadata": {
        "colab": {
          "base_uri": "https://localhost:8080/"
        },
        "id": "wwZQa6cTbtPj",
        "outputId": "7529b593-c5a5-48b6-c3d5-d4b80aeadc70"
      },
      "execution_count": 55,
      "outputs": [
        {
          "output_type": "stream",
          "name": "stdout",
          "text": [
            "tf.Tensor([20 30 40], shape=(3,), dtype=int32)\n",
            "tf.Tensor([40 50], shape=(2,), dtype=int32)\n",
            "tf.Tensor([40], shape=(1,), dtype=int32)\n"
          ]
        }
      ]
    },
    {
      "cell_type": "code",
      "source": [
        "tensor_two_d = tf.constant([[1, 2, 0],\n",
        "                           [3, 5, -1],\n",
        "                           [1, 5, 6],\n",
        "                           [2, 3, 8]])\n",
        "\n",
        "print(tensor_two_d[0:3, 0:2])\n",
        "print(\"\")\n",
        "print(tensor_two_d[0:3, :])\n",
        "print(\"\")\n",
        "print(tensor_two_d[:, :2])\n",
        "print(\"\")\n",
        "print(tensor_two_d[:, 1])\n",
        "print(\"\")\n",
        "print(tensor_two_d[..., 1]) # Pick up everything\n"
      ],
      "metadata": {
        "colab": {
          "base_uri": "https://localhost:8080/"
        },
        "id": "kWMFCFVict-4",
        "outputId": "cf23cfce-2f94-4e9b-dfa5-2a7380581e6e"
      },
      "execution_count": 63,
      "outputs": [
        {
          "output_type": "stream",
          "name": "stdout",
          "text": [
            "tf.Tensor(\n",
            "[[1 2]\n",
            " [3 5]\n",
            " [1 5]], shape=(3, 2), dtype=int32)\n",
            "\n",
            "tf.Tensor(\n",
            "[[ 1  2  0]\n",
            " [ 3  5 -1]\n",
            " [ 1  5  6]], shape=(3, 3), dtype=int32)\n",
            "\n",
            "tf.Tensor(\n",
            "[[1 2]\n",
            " [3 5]\n",
            " [1 5]\n",
            " [2 3]], shape=(4, 2), dtype=int32)\n",
            "\n",
            "tf.Tensor([2 5 5 3], shape=(4,), dtype=int32)\n",
            "\n",
            "tf.Tensor([2 5 5 3], shape=(4,), dtype=int32)\n"
          ]
        }
      ]
    },
    {
      "cell_type": "code",
      "source": [
        "tensor_three_d = tf.constant([\n",
        "\n",
        "                              [[1, 2, 0],\n",
        "                               [3, 5, -1]],\n",
        "\n",
        "                              [[10, 2, 0],\n",
        "                               [1, 0, 2]],\n",
        "\n",
        "                              [[5, 8, 0],\n",
        "                               [2, 7, 0]],\n",
        "\n",
        "                              [[2, 1, 9],\n",
        "                               [4, -3, 32]]])\n",
        "\n",
        "print(tensor_three_d[0, :, :])\n",
        "print(\"\")\n",
        "print(\"LINE\")\n",
        "print(\"\")\n",
        "print(tensor_three_d[0:2, :, 2])\n",
        "print(\"\")\n",
        "print(\"----------\")\n",
        "print(\"\")\n",
        "print(tensor_three_d[0, ..., :])\n",
        "print(\"\")\n",
        "print(\"----------\")\n",
        "print(\"\")\n",
        "print(tensor_three_d[..., :, :])\n",
        "print(\"\")\n",
        "print(\"----------\")\n",
        "print(\"\")\n",
        "print(tensor_three_d[2:4, 1:2, 2])"
      ],
      "metadata": {
        "colab": {
          "base_uri": "https://localhost:8080/"
        },
        "id": "XDK4Oxu4d0sH",
        "outputId": "2f45fdd1-405e-4b5d-b1c4-0e5dde6f7544"
      },
      "execution_count": 70,
      "outputs": [
        {
          "output_type": "stream",
          "name": "stdout",
          "text": [
            "tf.Tensor(\n",
            "[[ 1  2  0]\n",
            " [ 3  5 -1]], shape=(2, 3), dtype=int32)\n",
            "\n",
            "LINE\n",
            "\n",
            "tf.Tensor(\n",
            "[[ 0 -1]\n",
            " [ 0  2]], shape=(2, 2), dtype=int32)\n",
            "\n",
            "----------\n",
            "\n",
            "tf.Tensor(\n",
            "[[ 1  2  0]\n",
            " [ 3  5 -1]], shape=(2, 3), dtype=int32)\n",
            "\n",
            "----------\n",
            "\n",
            "tf.Tensor(\n",
            "[[[ 1  2  0]\n",
            "  [ 3  5 -1]]\n",
            "\n",
            " [[10  2  0]\n",
            "  [ 1  0  2]]\n",
            "\n",
            " [[ 5  8  0]\n",
            "  [ 2  7  0]]\n",
            "\n",
            " [[ 2  1  9]\n",
            "  [ 4 -3 32]]], shape=(4, 2, 3), dtype=int32)\n",
            "\n",
            "----------\n",
            "\n",
            "tf.Tensor(\n",
            "[[ 0]\n",
            " [32]], shape=(2, 1), dtype=int32)\n",
            "\n",
            "----------\n",
            "\n"
          ]
        }
      ]
    },
    {
      "cell_type": "code",
      "source": [],
      "metadata": {
        "id": "bE6gm4_6e9NB"
      },
      "execution_count": null,
      "outputs": []
    }
  ]
}