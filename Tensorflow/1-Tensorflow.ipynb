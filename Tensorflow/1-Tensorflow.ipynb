{
  "nbformat": 4,
  "nbformat_minor": 0,
  "metadata": {
    "colab": {
      "provenance": [],
      "authorship_tag": "ABX9TyNEb8FjQk53lhpVnlTGJcBd",
      "include_colab_link": true
    },
    "kernelspec": {
      "name": "python3",
      "display_name": "Python 3"
    },
    "language_info": {
      "name": "python"
    }
  },
  "cells": [
    {
      "cell_type": "markdown",
      "metadata": {
        "id": "view-in-github",
        "colab_type": "text"
      },
      "source": [
        "<a href=\"https://colab.research.google.com/github/ArjunMal1311/ML/blob/main/Tensorflow/1-Tensorflow.ipynb\" target=\"_parent\"><img src=\"https://colab.research.google.com/assets/colab-badge.svg\" alt=\"Open In Colab\"/></a>"
      ]
    },
    {
      "cell_type": "code",
      "execution_count": null,
      "metadata": {
        "id": "NlWwSrpPQXzB"
      },
      "outputs": [],
      "source": [
        "# We have several neural network lanes or stacks also known as mathematical functions\n",
        "\n",
        "# 2 parameters are considered -> weight and bias\n",
        "# In a neural network, weights are the learnable parameters that determine the strength of connections between neurons in different layers. Each connection between two neurons has an associated weight.\n",
        "# Biases are another set of learnable parameters in a neural network. They are added to the weighted sum of neuron inputs to introduce flexibility and shift the activation function.\n",
        "\n",
        "\n",
        "# Imagine you have a recipe, and the ingredients have different weights. Some ingredients, like salt, may need a smaller amount (weight) to make the dish taste good, while others, like sugar, may need a larger amount (weight).\n",
        "# Picture a see-saw. The bias is like the position at which the see-saw starts. If it starts tilted to one side (positive bias), it will naturally lean in that direction, and if it starts level (zero bias), it will stay balanced.\n",
        "\n",
        "# Layer 1 -> Layer2 -> Layer3 ...... -> Layer n\n",
        "# So x1 be the input to layer1 produces y1 which will be input to layer2\n",
        "# Our aim is to obtain the value of w and b     wX + b = Y\n",
        "\n",
        "# To train we use inputs and outputs, multi dimensional arrays are known as tensors\n"
      ]
    },
    {
      "cell_type": "code",
      "source": [
        "# [8] 0-D Tensor, Single element\n",
        "# [2 0 -3] 1-D  Tensor which consist of multiple 0-D Tensors\n",
        "\n",
        "# [1 2  0] # 2-D Array consisting of multiple 1D Tensors\n",
        "# [3 5 -1]\n",
        "# [3 4  5]\n",
        "\n",
        "# 3-D Tensor consist of multiple 2-D Arrays [1-3DTensor.jpg]"
      ],
      "metadata": {
        "id": "TlJE9K1rk0Yv"
      },
      "execution_count": null,
      "outputs": []
    },
    {
      "cell_type": "code",
      "source": [
        "import tensorflow as tf"
      ],
      "metadata": {
        "id": "MdD7pZznmGKu"
      },
      "execution_count": 2,
      "outputs": []
    },
    {
      "cell_type": "code",
      "source": [
        "tensor_zero_d = tf.constant(4)\n",
        "tensor_zero_d"
      ],
      "metadata": {
        "colab": {
          "base_uri": "https://localhost:8080/"
        },
        "id": "bgcQOXpXmJJ-",
        "outputId": "07dd0912-1d27-4624-eb93-e1a77b5b5f86"
      },
      "execution_count": null,
      "outputs": [
        {
          "output_type": "execute_result",
          "data": {
            "text/plain": [
              "<tf.Tensor: shape=(), dtype=int32, numpy=4>"
            ]
          },
          "metadata": {},
          "execution_count": 2
        }
      ]
    },
    {
      "cell_type": "code",
      "source": [
        "ten_one_d = tf.constant([2, 0, -3]) # We can also have float, even one float then dtype changes to float\n",
        "ten_one_d"
      ],
      "metadata": {
        "colab": {
          "base_uri": "https://localhost:8080/"
        },
        "id": "OuxAOBKPmS1l",
        "outputId": "c481a542-96b3-43dd-a538-2413686c8c6b"
      },
      "execution_count": null,
      "outputs": [
        {
          "output_type": "execute_result",
          "data": {
            "text/plain": [
              "<tf.Tensor: shape=(3,), dtype=int32, numpy=array([ 2,  0, -3], dtype=int32)>"
            ]
          },
          "metadata": {},
          "execution_count": 3
        }
      ]
    },
    {
      "cell_type": "code",
      "source": [
        "tensor_two_d = tf.constant([\n",
        "    [1, 2, 0],\n",
        "    [3, 5, -1],\n",
        "    [1, 5, 6],\n",
        "    [2, 3, 8]\n",
        "])\n",
        "tensor_two_d"
      ],
      "metadata": {
        "colab": {
          "base_uri": "https://localhost:8080/"
        },
        "id": "UWLWiIpZmZsL",
        "outputId": "7b682f93-3371-4235-b459-875aa46833b2"
      },
      "execution_count": null,
      "outputs": [
        {
          "output_type": "execute_result",
          "data": {
            "text/plain": [
              "<tf.Tensor: shape=(4, 3), dtype=int32, numpy=\n",
              "array([[ 1,  2,  0],\n",
              "       [ 3,  5, -1],\n",
              "       [ 1,  5,  6],\n",
              "       [ 2,  3,  8]], dtype=int32)>"
            ]
          },
          "metadata": {},
          "execution_count": 5
        }
      ]
    },
    {
      "cell_type": "code",
      "source": [
        "tensor_three_d = tf.constant([\n",
        "    [[1, 2, 0],\n",
        "     [3, 5, -1]],\n",
        "\n",
        "    [[10, 2, 0],\n",
        "     [1, 0, 2]],\n",
        "\n",
        "    [[2, 1, 9],\n",
        "     [4, -2, 32]],\n",
        "\n",
        "])\n",
        "\n",
        "tensor_three_d"
      ],
      "metadata": {
        "colab": {
          "base_uri": "https://localhost:8080/"
        },
        "id": "NRCU8SOBmsXA",
        "outputId": "99bc70ab-90e6-4fa6-f0f8-48d4257358ce"
      },
      "execution_count": null,
      "outputs": [
        {
          "output_type": "execute_result",
          "data": {
            "text/plain": [
              "<tf.Tensor: shape=(3, 2, 3), dtype=int32, numpy=\n",
              "array([[[ 1,  2,  0],\n",
              "        [ 3,  5, -1]],\n",
              "\n",
              "       [[10,  2,  0],\n",
              "        [ 1,  0,  2]],\n",
              "\n",
              "       [[ 2,  1,  9],\n",
              "        [ 4, -2, 32]]], dtype=int32)>"
            ]
          },
          "metadata": {},
          "execution_count": 6
        }
      ]
    },
    {
      "cell_type": "code",
      "source": [
        "eye_tensor = tf.eye(\n",
        "    num_rows = 4,\n",
        "    num_columns = 3,\n",
        "    batch_shape = [2, ],\n",
        "    dtype = tf.dtypes.float32,\n",
        "    name = None\n",
        ")\n",
        "print(eye_tensor)\n",
        "eye_tensor.shape"
      ],
      "metadata": {
        "id": "yXGp-yqNnYlA",
        "colab": {
          "base_uri": "https://localhost:8080/"
        },
        "outputId": "87fad1f8-6c37-437d-88d4-bdc181890708"
      },
      "execution_count": null,
      "outputs": [
        {
          "output_type": "stream",
          "name": "stdout",
          "text": [
            "tf.Tensor(\n",
            "[[[1. 0. 0.]\n",
            "  [0. 1. 0.]\n",
            "  [0. 0. 1.]\n",
            "  [0. 0. 0.]]\n",
            "\n",
            " [[1. 0. 0.]\n",
            "  [0. 1. 0.]\n",
            "  [0. 0. 1.]\n",
            "  [0. 0. 0.]]], shape=(2, 4, 3), dtype=float32)\n"
          ]
        },
        {
          "output_type": "execute_result",
          "data": {
            "text/plain": [
              "TensorShape([2, 4, 3])"
            ]
          },
          "metadata": {},
          "execution_count": 9
        }
      ]
    },
    {
      "cell_type": "code",
      "source": [
        "ones_tensor = tf.ones(\n",
        "    [5, 3, 2],\n",
        "    dtype = tf.dtypes.float32,\n",
        "    name = None\n",
        ")\n",
        "print(ones_tensor)"
      ],
      "metadata": {
        "colab": {
          "base_uri": "https://localhost:8080/"
        },
        "id": "EXQ1-_qtVHOc",
        "outputId": "2a12a0f4-cf84-4f15-ad42-f323012565e5"
      },
      "execution_count": null,
      "outputs": [
        {
          "output_type": "stream",
          "name": "stdout",
          "text": [
            "tf.Tensor(\n",
            "[[[1. 1.]\n",
            "  [1. 1.]\n",
            "  [1. 1.]]\n",
            "\n",
            " [[1. 1.]\n",
            "  [1. 1.]\n",
            "  [1. 1.]]\n",
            "\n",
            " [[1. 1.]\n",
            "  [1. 1.]\n",
            "  [1. 1.]]\n",
            "\n",
            " [[1. 1.]\n",
            "  [1. 1.]\n",
            "  [1. 1.]]\n",
            "\n",
            " [[1. 1.]\n",
            "  [1. 1.]\n",
            "  [1. 1.]]], shape=(5, 3, 2), dtype=float32)\n"
          ]
        }
      ]
    },
    {
      "cell_type": "code",
      "source": [
        "# Now we have one_like\n",
        "# Creates the tensor of all ones\n",
        "# like we have 2*3 matrix\n",
        "# [12 1 3]\n",
        "# [5 7 2]\n",
        "\n",
        "# Now when we input this into one_like we will obtain\n",
        "# [1 1 1]\n",
        "# [1 1 1]  one_like takes in shape and output all 1's in that shape\n",
        "\n",
        "# similar to ones we have zeros\n",
        "zeros_tensor = tf.zeros(\n",
        "    [3, 2],\n",
        "    dtype= tf.dtypes.int32,\n",
        "    name = None\n",
        ")\n",
        "zeros_tensor"
      ],
      "metadata": {
        "colab": {
          "base_uri": "https://localhost:8080/"
        },
        "id": "SH4LPBQjWfLH",
        "outputId": "9f01a01a-f8ab-4af9-93c2-f0bd9a4c2383"
      },
      "execution_count": null,
      "outputs": [
        {
          "output_type": "execute_result",
          "data": {
            "text/plain": [
              "<tf.Tensor: shape=(3, 2), dtype=int32, numpy=\n",
              "array([[0, 0],\n",
              "       [0, 0],\n",
              "       [0, 0]], dtype=int32)>"
            ]
          },
          "metadata": {},
          "execution_count": 13
        }
      ]
    },
    {
      "cell_type": "code",
      "source": [
        "# Rank ->\n",
        "# shape of tensor 't' is [2, 2, 3]\n",
        "t = tf.constant([[\n",
        "                      [1, 1, 1],\n",
        "                       [2, 2, 2]\n",
        "                  ]\n",
        "                 ,\n",
        "                  [\n",
        "                      [3, 3, 3],\n",
        "                       [4, 4, 4]\n",
        "                  ]\n",
        "                 ])\n",
        "tf.rank(t)  # 3 dimensional"
      ],
      "metadata": {
        "colab": {
          "base_uri": "https://localhost:8080/"
        },
        "id": "zOoO9_LCWs28",
        "outputId": "b65eb4dd-90ce-4192-b799-12dd0368aebb"
      },
      "execution_count": null,
      "outputs": [
        {
          "output_type": "execute_result",
          "data": {
            "text/plain": [
              "<tf.Tensor: shape=(), dtype=int32, numpy=3>"
            ]
          },
          "metadata": {},
          "execution_count": 14
        }
      ]
    },
    {
      "cell_type": "code",
      "source": [
        "tf.size(t) # Number of elements in the tensor"
      ],
      "metadata": {
        "colab": {
          "base_uri": "https://localhost:8080/"
        },
        "id": "4wBVtQ1AX1Us",
        "outputId": "fc93c5b2-8a5f-4806-f492-e7885c891e72"
      },
      "execution_count": null,
      "outputs": [
        {
          "output_type": "execute_result",
          "data": {
            "text/plain": [
              "<tf.Tensor: shape=(), dtype=int32, numpy=12>"
            ]
          },
          "metadata": {},
          "execution_count": 15
        }
      ]
    },
    {
      "cell_type": "code",
      "source": [
        "# Random normal tensor\n",
        "\n",
        "random_tensor = tf.random.normal( # Random Distribution\n",
        "    [3, 2],\n",
        "    mean = 100.0,\n",
        "    stddev = 1.0,\n",
        "    name = None\n",
        ")\n",
        "\n",
        "random_tensor"
      ],
      "metadata": {
        "colab": {
          "base_uri": "https://localhost:8080/"
        },
        "id": "i_7IidiXYemq",
        "outputId": "bab2c0d6-4cf2-426c-f362-1d553d4b5ad0"
      },
      "execution_count": null,
      "outputs": [
        {
          "output_type": "execute_result",
          "data": {
            "text/plain": [
              "<tf.Tensor: shape=(3, 2), dtype=float32, numpy=\n",
              "array([[101.044464, 100.942   ],\n",
              "       [100.64783 , 101.08344 ],\n",
              "       [100.29241 , 100.30865 ]], dtype=float32)>"
            ]
          },
          "metadata": {},
          "execution_count": 18
        }
      ]
    },
    {
      "cell_type": "code",
      "source": [
        "random_tensor = tf.random.uniform( # Uniform distribution\n",
        "    [3, 2],\n",
        "    minval = 0,\n",
        "    maxval = 50,\n",
        "    dtype = tf.dtypes.int32,\n",
        "    name = None\n",
        ")\n",
        "\n",
        "random_tensor"
      ],
      "metadata": {
        "colab": {
          "base_uri": "https://localhost:8080/"
        },
        "id": "t44DmwedZOeT",
        "outputId": "fb23f550-d9e7-439f-ca3d-1561be3fd08c"
      },
      "execution_count": null,
      "outputs": [
        {
          "output_type": "execute_result",
          "data": {
            "text/plain": [
              "<tf.Tensor: shape=(3, 2), dtype=int32, numpy=\n",
              "array([[22, 24],\n",
              "       [30, 36],\n",
              "       [21, 48]], dtype=int32)>"
            ]
          },
          "metadata": {},
          "execution_count": 24
        }
      ]
    },
    {
      "cell_type": "code",
      "source": [
        "import numpy as np\n",
        "# Set a seed for TensorFlow\n",
        "tf.random.set_seed(42)\n",
        "\n",
        "# Generate random numbers using TensorFlow\n",
        "rand_nums = tf.random.uniform(shape=(3, 3))\n",
        "print(rand_nums.numpy())  # This will produce the same random numbers every time\n",
        "\n",
        "# Set a seed for NumPy\n",
        "np.random.seed(42)\n",
        "\n",
        "# Generate random numbers using NumPy\n",
        "rand_nums_np = np.random.uniform(size=(3, 3))\n",
        "print(rand_nums_np)  # This will produce the same random numbers every time"
      ],
      "metadata": {
        "colab": {
          "base_uri": "https://localhost:8080/"
        },
        "id": "-3aL2xe4aUJO",
        "outputId": "ae1c928a-4aad-45e1-ab12-1e972f6e0d6b"
      },
      "execution_count": null,
      "outputs": [
        {
          "output_type": "stream",
          "name": "stdout",
          "text": [
            "[[0.6645621  0.44100678 0.3528825 ]\n",
            " [0.46448255 0.03366041 0.68467236]\n",
            " [0.74011743 0.8724445  0.22632635]]\n",
            "[[0.37454012 0.95071431 0.73199394]\n",
            " [0.59865848 0.15601864 0.15599452]\n",
            " [0.05808361 0.86617615 0.60111501]]\n"
          ]
        }
      ]
    },
    {
      "cell_type": "code",
      "source": [
        "tf.random.set_seed(4)\n",
        "\n",
        "random_tensor = tf.random.uniform( # Uniform distribution\n",
        "    [3, 2],\n",
        "    minval = 0,\n",
        "    maxval = 50,\n",
        "    dtype = tf.dtypes.int32,\n",
        "    name = None,\n",
        "    seed = 2\n",
        ")\n",
        "\n",
        "# This is the seed for the random number generator. Setting a seed ensures that the random values generated are reproducible. If you run this code multiple times with the same seed (seed=20), you will get the same random tensor each time.\n",
        "\n",
        "random_tensor"
      ],
      "metadata": {
        "colab": {
          "base_uri": "https://localhost:8080/"
        },
        "id": "UiPbMdC9bRy_",
        "outputId": "a4d7b185-a8d4-4b35-b437-650ff52292b6"
      },
      "execution_count": null,
      "outputs": [
        {
          "output_type": "execute_result",
          "data": {
            "text/plain": [
              "<tf.Tensor: shape=(3, 2), dtype=int32, numpy=\n",
              "array([[31, 18],\n",
              "       [22, 48],\n",
              "       [36, 24]], dtype=int32)>"
            ]
          },
          "metadata": {},
          "execution_count": 51
        }
      ]
    },
    {
      "cell_type": "code",
      "source": [
        "tensor_indexed= tf.constant([10, 20, 30, 40, 50, 60])\n",
        "print(tensor_indexed[1:4])\n",
        "print(tensor_indexed[3:-1])\n",
        "print(tensor_indexed[3:-2])"
      ],
      "metadata": {
        "colab": {
          "base_uri": "https://localhost:8080/"
        },
        "id": "wwZQa6cTbtPj",
        "outputId": "7529b593-c5a5-48b6-c3d5-d4b80aeadc70"
      },
      "execution_count": null,
      "outputs": [
        {
          "output_type": "stream",
          "name": "stdout",
          "text": [
            "tf.Tensor([20 30 40], shape=(3,), dtype=int32)\n",
            "tf.Tensor([40 50], shape=(2,), dtype=int32)\n",
            "tf.Tensor([40], shape=(1,), dtype=int32)\n"
          ]
        }
      ]
    },
    {
      "cell_type": "code",
      "source": [
        "tensor_two_d = tf.constant([[1, 2, 0],\n",
        "                           [3, 5, -1],\n",
        "                           [1, 5, 6],\n",
        "                           [2, 3, 8]])\n",
        "\n",
        "print(tensor_two_d[0:3, 0:2])\n",
        "print(\"\")\n",
        "print(tensor_two_d[0:3, :])\n",
        "print(\"\")\n",
        "print(tensor_two_d[:, :2])\n",
        "print(\"\")\n",
        "print(tensor_two_d[:, 1])\n",
        "print(\"\")\n",
        "print(tensor_two_d[..., 1]) # Pick up everything\n"
      ],
      "metadata": {
        "colab": {
          "base_uri": "https://localhost:8080/"
        },
        "id": "kWMFCFVict-4",
        "outputId": "cf23cfce-2f94-4e9b-dfa5-2a7380581e6e"
      },
      "execution_count": null,
      "outputs": [
        {
          "output_type": "stream",
          "name": "stdout",
          "text": [
            "tf.Tensor(\n",
            "[[1 2]\n",
            " [3 5]\n",
            " [1 5]], shape=(3, 2), dtype=int32)\n",
            "\n",
            "tf.Tensor(\n",
            "[[ 1  2  0]\n",
            " [ 3  5 -1]\n",
            " [ 1  5  6]], shape=(3, 3), dtype=int32)\n",
            "\n",
            "tf.Tensor(\n",
            "[[1 2]\n",
            " [3 5]\n",
            " [1 5]\n",
            " [2 3]], shape=(4, 2), dtype=int32)\n",
            "\n",
            "tf.Tensor([2 5 5 3], shape=(4,), dtype=int32)\n",
            "\n",
            "tf.Tensor([2 5 5 3], shape=(4,), dtype=int32)\n"
          ]
        }
      ]
    },
    {
      "cell_type": "code",
      "source": [
        "tensor_three_d = tf.constant([\n",
        "\n",
        "                              [[1, 2, 0],\n",
        "                               [3, 5, -1]],\n",
        "\n",
        "                              [[10, 2, 0],\n",
        "                               [1, 0, 2]],\n",
        "\n",
        "                              [[5, 8, 0],\n",
        "                               [2, 7, 0]],\n",
        "\n",
        "                              [[2, 1, 9],\n",
        "                               [4, -3, 32]]])\n",
        "\n",
        "print(tensor_three_d[0, :, :])\n",
        "print(\"\")\n",
        "print(\"LINE\")\n",
        "print(\"\")\n",
        "print(tensor_three_d[0:2, :, 2])\n",
        "print(\"\")\n",
        "print(\"----------\")\n",
        "print(\"\")\n",
        "print(tensor_three_d[0, ..., :])\n",
        "print(\"\")\n",
        "print(\"----------\")\n",
        "print(\"\")\n",
        "print(tensor_three_d[..., :, :])\n",
        "print(\"\")\n",
        "print(\"----------\")\n",
        "print(\"\")\n",
        "print(tensor_three_d[2:4, 1:2, 2])"
      ],
      "metadata": {
        "colab": {
          "base_uri": "https://localhost:8080/"
        },
        "id": "XDK4Oxu4d0sH",
        "outputId": "2f45fdd1-405e-4b5d-b1c4-0e5dde6f7544"
      },
      "execution_count": null,
      "outputs": [
        {
          "output_type": "stream",
          "name": "stdout",
          "text": [
            "tf.Tensor(\n",
            "[[ 1  2  0]\n",
            " [ 3  5 -1]], shape=(2, 3), dtype=int32)\n",
            "\n",
            "LINE\n",
            "\n",
            "tf.Tensor(\n",
            "[[ 0 -1]\n",
            " [ 0  2]], shape=(2, 2), dtype=int32)\n",
            "\n",
            "----------\n",
            "\n",
            "tf.Tensor(\n",
            "[[ 1  2  0]\n",
            " [ 3  5 -1]], shape=(2, 3), dtype=int32)\n",
            "\n",
            "----------\n",
            "\n",
            "tf.Tensor(\n",
            "[[[ 1  2  0]\n",
            "  [ 3  5 -1]]\n",
            "\n",
            " [[10  2  0]\n",
            "  [ 1  0  2]]\n",
            "\n",
            " [[ 5  8  0]\n",
            "  [ 2  7  0]]\n",
            "\n",
            " [[ 2  1  9]\n",
            "  [ 4 -3 32]]], shape=(4, 2, 3), dtype=int32)\n",
            "\n",
            "----------\n",
            "\n",
            "tf.Tensor(\n",
            "[[ 0]\n",
            " [32]], shape=(2, 1), dtype=int32)\n",
            "\n",
            "----------\n",
            "\n"
          ]
        }
      ]
    },
    {
      "cell_type": "code",
      "source": [
        "# We have various mathematical functions\n",
        "# like\n",
        "\n",
        "x_abs = tf.constant([-2, 4])\n",
        "tf.abs(x_abs)\n",
        "\n",
        "x_complx = tf.constant([-2 + 5j, 4 - 4j])\n",
        "tf.abs(x_complx)"
      ],
      "metadata": {
        "colab": {
          "base_uri": "https://localhost:8080/"
        },
        "id": "bE6gm4_6e9NB",
        "outputId": "f7c6be3a-d92c-42d1-ed07-f86a45628537"
      },
      "execution_count": null,
      "outputs": [
        {
          "output_type": "execute_result",
          "data": {
            "text/plain": [
              "<tf.Tensor: shape=(2,), dtype=float64, numpy=array([5.38516481, 5.65685425])>"
            ]
          },
          "metadata": {},
          "execution_count": 72
        }
      ]
    },
    {
      "cell_type": "code",
      "source": [
        "x_1 = tf.constant([5, 3, 6, 6, 4, 6], dtype=tf.float32)\n",
        "x_2 = tf.constant([4, 3, 2, 1, 6, 2], dtype=tf.float32)\n",
        "\n",
        "# tf.divide(x_1, x_2)\n",
        "\n",
        "# what if x_2 contains a zero?\n",
        "tf.math.divide_no_nan(x_1, x_2)\n",
        "\n",
        "\n",
        "# We have similar methods for add, subtract\n",
        "tf.math.add(x_1, x_2)\n",
        "\n",
        "tf.math.multiply(x_1, x_2)"
      ],
      "metadata": {
        "colab": {
          "base_uri": "https://localhost:8080/"
        },
        "id": "wZMzyWuHlRyC",
        "outputId": "3250a096-d3f2-40e1-a877-10b028a3f714"
      },
      "execution_count": null,
      "outputs": [
        {
          "output_type": "execute_result",
          "data": {
            "text/plain": [
              "<tf.Tensor: shape=(6,), dtype=float32, numpy=array([20.,  9., 12.,  6., 24., 12.], dtype=float32)>"
            ]
          },
          "metadata": {},
          "execution_count": 77
        }
      ]
    },
    {
      "cell_type": "code",
      "source": [
        "x_1 = tf.constant([5, 3, 6, 6, 4, 6], dtype = tf.float32)\n",
        "x_2 = tf.constant([[7], [5], [3]], dtype = tf.float32)\n",
        "\n",
        "print(x_1.shape)\n",
        "print(x_2.shape)\n",
        "\n",
        "# ** This is not matrix multiplication **\n",
        "\n",
        "# x_1 will get change to 6x3\n",
        "# 5 3 6 6 4 6\n",
        "# 5 3 6 6 4 6\n",
        "# 5 3 6 6 4 6\n",
        "\n",
        "# and x_2 to  3x3\n",
        "# 7 7 7 7 7 7\n",
        "# 5 5 5 5 5 5\n",
        "# 3 3 3 3 3 3\n",
        "\n",
        "tf.math.multiply(x_1, x_2)\n"
      ],
      "metadata": {
        "colab": {
          "base_uri": "https://localhost:8080/"
        },
        "id": "ZFYApx8LmM0p",
        "outputId": "981e0572-4212-4058-e13e-745f14c5b127"
      },
      "execution_count": null,
      "outputs": [
        {
          "output_type": "stream",
          "name": "stdout",
          "text": [
            "(6,)\n",
            "(3, 1)\n"
          ]
        },
        {
          "output_type": "execute_result",
          "data": {
            "text/plain": [
              "<tf.Tensor: shape=(3, 6), dtype=float32, numpy=\n",
              "array([[35., 21., 42., 42., 28., 42.],\n",
              "       [25., 15., 30., 30., 20., 30.],\n",
              "       [15.,  9., 18., 18., 12., 18.]], dtype=float32)>"
            ]
          },
          "metadata": {},
          "execution_count": 79
        }
      ]
    },
    {
      "cell_type": "code",
      "source": [
        "tf.math.minimum(x_1, x_2)"
      ],
      "metadata": {
        "colab": {
          "base_uri": "https://localhost:8080/"
        },
        "id": "EL--ghC_na2L",
        "outputId": "5c9a84bc-a22f-44cb-b1c8-7d755b3fc11d"
      },
      "execution_count": null,
      "outputs": [
        {
          "output_type": "execute_result",
          "data": {
            "text/plain": [
              "<tf.Tensor: shape=(3, 6), dtype=float32, numpy=\n",
              "array([[5., 3., 6., 6., 4., 6.],\n",
              "       [5., 3., 5., 5., 4., 5.],\n",
              "       [3., 3., 3., 3., 3., 3.]], dtype=float32)>"
            ]
          },
          "metadata": {},
          "execution_count": 80
        }
      ]
    },
    {
      "cell_type": "code",
      "source": [
        "x_argmax = tf.constant([200, 120, 130, 3, 6])\n",
        "print(tf.math.argmax(x_argmax))\n",
        "\n",
        "# we get the index or position of the max value\n",
        "y_argmax = tf.constant([2, 3, 4, 7, 5, 6])\n",
        "print(tf.math.argmax(y_argmax))"
      ],
      "metadata": {
        "colab": {
          "base_uri": "https://localhost:8080/"
        },
        "id": "luCTnBpkorsc",
        "outputId": "18ba1ad6-9be5-4819-f1c1-2a5241538f97"
      },
      "execution_count": null,
      "outputs": [
        {
          "output_type": "stream",
          "name": "stdout",
          "text": [
            "tf.Tensor(0, shape=(), dtype=int64)\n",
            "tf.Tensor(3, shape=(), dtype=int64)\n"
          ]
        }
      ]
    },
    {
      "cell_type": "code",
      "source": [
        "x_argmax = tf.constant([[2, 20, 30, 3, 6],\n",
        "                        [3, 11, 16, 1, 8],\n",
        "                        [14, 45, 23, 5, 27]])\n",
        "\n",
        "print(x_argmax.shape)\n",
        "\n",
        "print(tf.math.argmax(x_argmax, 0)) # we specify axis 0 so it compares 2 3 14 and rest all columns\n",
        "\n",
        "\n",
        "\n",
        "\n",
        "print(tf.math.argmax(x_argmax, 1)) # we specify axis 1 so it compares 2 20 30 3 6 and rest all rows"
      ],
      "metadata": {
        "colab": {
          "base_uri": "https://localhost:8080/"
        },
        "id": "Nkq8BpY2pbiy",
        "outputId": "2440b0f8-0063-4588-b9a9-8d8310709b85"
      },
      "execution_count": null,
      "outputs": [
        {
          "output_type": "stream",
          "name": "stdout",
          "text": [
            "(3, 5)\n",
            "tf.Tensor([2 2 0 2 2], shape=(5,), dtype=int64)\n",
            "tf.Tensor([2 2 1], shape=(3,), dtype=int64)\n"
          ]
        }
      ]
    },
    {
      "cell_type": "code",
      "source": [
        "x = tf.constant([2, 4])\n",
        "y = tf.constant(2)\n",
        "\n",
        "tf.math.equal(x, y)"
      ],
      "metadata": {
        "colab": {
          "base_uri": "https://localhost:8080/"
        },
        "id": "khA-clXfpyiC",
        "outputId": "5299c634-6199-433b-d573-3d2a0b5ea683"
      },
      "execution_count": null,
      "outputs": [
        {
          "output_type": "execute_result",
          "data": {
            "text/plain": [
              "<tf.Tensor: shape=(2,), dtype=bool, numpy=array([ True, False])>"
            ]
          },
          "metadata": {},
          "execution_count": 86
        }
      ]
    },
    {
      "cell_type": "code",
      "source": [
        "tf.pow(tf.constant(2), tf.constant(3))"
      ],
      "metadata": {
        "colab": {
          "base_uri": "https://localhost:8080/"
        },
        "id": "syAbcD93qU4F",
        "outputId": "5c24a994-fb17-46c8-d3b3-a9e6be38c455"
      },
      "execution_count": null,
      "outputs": [
        {
          "output_type": "execute_result",
          "data": {
            "text/plain": [
              "<tf.Tensor: shape=(), dtype=int32, numpy=8>"
            ]
          },
          "metadata": {},
          "execution_count": 87
        }
      ]
    },
    {
      "cell_type": "code",
      "source": [
        "tensor_two_d = tf.constant([[1, 2, 0],\n",
        "                           [3, 5, -1],\n",
        "                           [1, 5, 6],\n",
        "                           [2, 3, 8]])\n",
        "\n",
        "tf.math.reduce_sum(    # 1+ 2+ 0 + 3+ 5+ (-1) ..... + 2+ 3+ 8\n",
        "    tensor_two_d,\n",
        "    axis = None,\n",
        "    keepdims=False,\n",
        "    name = None\n",
        ")\n"
      ],
      "metadata": {
        "colab": {
          "base_uri": "https://localhost:8080/"
        },
        "id": "Filkvv-Lr5pB",
        "outputId": "0c945fb7-6450-4619-a042-e36ad6784bb3"
      },
      "execution_count": null,
      "outputs": [
        {
          "output_type": "execute_result",
          "data": {
            "text/plain": [
              "<tf.Tensor: shape=(), dtype=int32, numpy=35>"
            ]
          },
          "metadata": {},
          "execution_count": 91
        }
      ]
    },
    {
      "cell_type": "code",
      "source": [
        "tf.math.reduce_max(  # Gets the max value, similarly we have reduce_min\n",
        "    tensor_two_d,\n",
        "    axis = None,\n",
        "    keepdims=False,\n",
        "    name = None\n",
        ")\n"
      ],
      "metadata": {
        "colab": {
          "base_uri": "https://localhost:8080/"
        },
        "id": "F-K7B8rOszhG",
        "outputId": "7750c642-33ab-4f22-ce9b-fa81bbe50110"
      },
      "execution_count": null,
      "outputs": [
        {
          "output_type": "execute_result",
          "data": {
            "text/plain": [
              "<tf.Tensor: shape=(), dtype=int32, numpy=8>"
            ]
          },
          "metadata": {},
          "execution_count": 92
        }
      ]
    },
    {
      "cell_type": "code",
      "source": [
        "# sigmoid(x) = y = 1/(1+exp(-x))"
      ],
      "metadata": {
        "id": "43pdK9DatJSW"
      },
      "execution_count": null,
      "outputs": []
    },
    {
      "cell_type": "code",
      "source": [
        "# matmux is matrix multiplication\n",
        "\n",
        "x_1 = tf.constant([[1, 2, 0],\n",
        "                  [3, 5, -1]])\n",
        "\n",
        "x_2 = tf.constant([[1, 2, 0],\n",
        "                   [3, 5, -1],\n",
        "                   [4, 5, 6]])\n",
        "\n",
        "tf.linalg.matmul(x_1, x_2)\n",
        "\n",
        "# we can have various more possibilities like transpose, adjoint, sparse"
      ],
      "metadata": {
        "colab": {
          "base_uri": "https://localhost:8080/"
        },
        "id": "JimVAmSAwoek",
        "outputId": "9a7821b8-d416-42ae-c977-4de28c92b2cb"
      },
      "execution_count": null,
      "outputs": [
        {
          "output_type": "execute_result",
          "data": {
            "text/plain": [
              "<tf.Tensor: shape=(2, 3), dtype=int32, numpy=\n",
              "array([[  7,  12,  -2],\n",
              "       [ 14,  26, -11]], dtype=int32)>"
            ]
          },
          "metadata": {},
          "execution_count": 95
        }
      ]
    },
    {
      "cell_type": "code",
      "source": [
        "tf.transpose(x_2)"
      ],
      "metadata": {
        "colab": {
          "base_uri": "https://localhost:8080/"
        },
        "id": "MJ2oIfjYxHkH",
        "outputId": "daa8b519-174d-4238-cf54-d3302b5a128b"
      },
      "execution_count": null,
      "outputs": [
        {
          "output_type": "execute_result",
          "data": {
            "text/plain": [
              "<tf.Tensor: shape=(3, 3), dtype=int32, numpy=\n",
              "array([[ 1,  3,  4],\n",
              "       [ 2,  5,  5],\n",
              "       [ 0, -1,  6]], dtype=int32)>"
            ]
          },
          "metadata": {},
          "execution_count": 96
        }
      ]
    },
    {
      "cell_type": "code",
      "source": [
        "tf.linalg.matmul( # Various properties we can pass\n",
        "    x_1,\n",
        "    x_2,\n",
        "    transpose_a=False, # a is x_1\n",
        "    transpose_b=False, # b is x_2\n",
        "    adjoint_a=False,\n",
        "    adjoint_b=False,\n",
        "    a_is_sparse=False,\n",
        "    b_is_sparse=False,\n",
        "    output_type=None,\n",
        "    name=None\n",
        ")"
      ],
      "metadata": {
        "colab": {
          "base_uri": "https://localhost:8080/"
        },
        "id": "bzb2Sr-ox7v8",
        "outputId": "4bd66955-78e3-4e1b-c644-4bbc03035fa5"
      },
      "execution_count": null,
      "outputs": [
        {
          "output_type": "execute_result",
          "data": {
            "text/plain": [
              "<tf.Tensor: shape=(2, 3), dtype=int32, numpy=\n",
              "array([[  7,  12,  -2],\n",
              "       [ 14,  26, -11]], dtype=int32)>"
            ]
          },
          "metadata": {},
          "execution_count": 97
        }
      ]
    },
    {
      "cell_type": "code",
      "source": [
        "x_3 = tf.constant([[1, 2, 0, 2],\n",
        "                   [3, 5, -1, 2]])\n",
        "\n",
        "x_1@x_2\n",
        "# @: This symbol represents matrix multiplication in TensorFlow when used between tensors."
      ],
      "metadata": {
        "colab": {
          "base_uri": "https://localhost:8080/"
        },
        "id": "t17tcnncyLmS",
        "outputId": "3b4b2318-1c6f-48f4-8eb0-934a81a8e1c5"
      },
      "execution_count": null,
      "outputs": [
        {
          "output_type": "execute_result",
          "data": {
            "text/plain": [
              "<tf.Tensor: shape=(2, 3), dtype=int32, numpy=\n",
              "array([[  7,  12,  -2],\n",
              "       [ 14,  26, -11]], dtype=int32)>"
            ]
          },
          "metadata": {},
          "execution_count": 101
        }
      ]
    },
    {
      "cell_type": "code",
      "source": [
        "\n",
        "input = tf.constant([[ 0,  1,  2, 3],\n",
        "               [-1,  0,  1, 2],\n",
        "               [-2, -1,  0, 1],\n",
        "               [-3, -2, -1, 0]])\n",
        "\n",
        "# The indicator function\n",
        "# in_band(m, n) = (num_lower < 0 || (m-n) <= num_lower)) && (num_upper < 0 || (n-m) <= num_upper)\n",
        "# m and n are indexes of the matrix\n",
        "\n",
        "tf.linalg.band_part(input, 1, -1)\n",
        "tf.linalg.band_part(input, 2, 1)\n",
        "\n",
        "# Some special cases\n",
        "#  tf.linalg.band_part(input, 0, -1) ==> Upper triangular matrix.\n",
        "#  tf.linalg.band_part(input, -1, 0) ==> Lower triangular matrix.\n",
        "#  tf.linalg.band_part(input, 0, 0) ==> Diagonal."
      ],
      "metadata": {
        "colab": {
          "base_uri": "https://localhost:8080/"
        },
        "id": "APfpBb4ny0Wy",
        "outputId": "b889fea6-641a-44b6-ef19-39068e3fe1c1"
      },
      "execution_count": null,
      "outputs": [
        {
          "output_type": "execute_result",
          "data": {
            "text/plain": [
              "<tf.Tensor: shape=(4, 4), dtype=int32, numpy=\n",
              "array([[ 0,  1,  0,  0],\n",
              "       [-1,  0,  1,  0],\n",
              "       [-2, -1,  0,  1],\n",
              "       [ 0, -2, -1,  0]], dtype=int32)>"
            ]
          },
          "metadata": {},
          "execution_count": 105
        }
      ]
    },
    {
      "cell_type": "code",
      "source": [
        "# tf.linalg.inv(\n",
        "#     input, adjoint=False, name=None\n",
        "# )\n",
        "\n",
        "# Finding inverse for the matrix"
      ],
      "metadata": {
        "id": "Bt3dUVoQAPxa"
      },
      "execution_count": null,
      "outputs": []
    },
    {
      "cell_type": "code",
      "source": [
        "# einsum is used to simplify the matrix equation\n",
        "# ij, jk -> ik\n",
        "\n",
        "\n",
        "# Matrix Multiplication\n",
        "\n",
        "m0 = tf.random.normal(shape=[2, 3])\n",
        "m1 = tf.random.normal(shape=[3, 5])\n",
        "e = tf.einsum('ij, jk -> ik', m0, m1)\n",
        "\n",
        "print(e.shape)\n"
      ],
      "metadata": {
        "colab": {
          "base_uri": "https://localhost:8080/"
        },
        "id": "dWK-OoXKCNfW",
        "outputId": "429e25e1-a566-4706-f628-f60e3554ddd9"
      },
      "execution_count": null,
      "outputs": [
        {
          "output_type": "stream",
          "name": "stdout",
          "text": [
            "(2, 5)\n"
          ]
        }
      ]
    },
    {
      "cell_type": "code",
      "source": [
        "# Dot Product\n",
        "u = tf.random.normal(shape=[5])\n",
        "v = tf.random.normal(shape=[5])\n",
        "\n",
        "e = tf.einsum('i,i->', u, v)\n",
        "print(e.shape)"
      ],
      "metadata": {
        "colab": {
          "base_uri": "https://localhost:8080/"
        },
        "id": "pWba_3par91u",
        "outputId": "3e3480cf-9c6c-4573-af54-6578b32dd690"
      },
      "execution_count": null,
      "outputs": [
        {
          "output_type": "stream",
          "name": "stdout",
          "text": [
            "()\n"
          ]
        }
      ]
    },
    {
      "cell_type": "code",
      "source": [
        "# Transpose\n",
        "m = tf.ones(2,3)\n",
        "e = tf.einsum('ij->ji', m0)\n",
        "print(e.shape)"
      ],
      "metadata": {
        "colab": {
          "base_uri": "https://localhost:8080/"
        },
        "id": "oMI-XJBTsvrY",
        "outputId": "285add05-0a6d-484b-aeb6-548f9cd615bb"
      },
      "execution_count": null,
      "outputs": [
        {
          "output_type": "stream",
          "name": "stdout",
          "text": [
            "(3, 2)\n"
          ]
        }
      ]
    },
    {
      "cell_type": "code",
      "source": [
        "# Batch Matrix Multiplication\n",
        "s = tf.random.normal(shape=[7,5,3])\n",
        "t = tf.random.normal(shape=[7,3,2])\n",
        "e = tf.einsum('bij,bjk->bik', s, t)\n",
        "\n",
        "print(e.shape)"
      ],
      "metadata": {
        "id": "y1AuNtZXtR9t"
      },
      "execution_count": null,
      "outputs": []
    },
    {
      "cell_type": "code",
      "source": [
        "x = tf.constant([2, 3, 4, 5])\n",
        "print(x.shape)\n",
        "print(\"----------------\")\n",
        "\n",
        "y = tf.expand_dims(x, axis=0)\n",
        "print(y)\n",
        "print(y.shape)\n",
        "# a negative axis counts from the end so axis=-1 adds an inner most dimension\n",
        "\n",
        "# like expansion we can also squeeze [removes dimensions of size 1]"
      ],
      "metadata": {
        "colab": {
          "base_uri": "https://localhost:8080/"
        },
        "id": "x4ykhkIgwTbW",
        "outputId": "0e41611d-7ae4-4261-fc83-1bc36e769b6f"
      },
      "execution_count": 45,
      "outputs": [
        {
          "output_type": "stream",
          "name": "stdout",
          "text": [
            "(4,)\n",
            "----------------\n",
            "tf.Tensor(\n",
            "[[2]\n",
            " [3]\n",
            " [4]\n",
            " [5]], shape=(4, 1), dtype=int32)\n",
            "(4, 1)\n"
          ]
        }
      ]
    },
    {
      "cell_type": "code",
      "source": [
        "x_reshape = tf.constant([[2, 5, 6, 6],\n",
        "                         [4, 6, 1, 2]])\n",
        "# tf.reshape(x_reshape, [8])\n",
        "tf.reshape(x_reshape, [4, 2])"
      ],
      "metadata": {
        "colab": {
          "base_uri": "https://localhost:8080/"
        },
        "id": "94epKKPFwTeI",
        "outputId": "7da2f4c7-4655-4cc4-d194-e29eb0a5a2aa"
      },
      "execution_count": 46,
      "outputs": [
        {
          "output_type": "execute_result",
          "data": {
            "text/plain": [
              "<tf.Tensor: shape=(4, 2), dtype=int32, numpy=\n",
              "array([[2, 5],\n",
              "       [6, 6],\n",
              "       [4, 6],\n",
              "       [1, 2]], dtype=int32)>"
            ]
          },
          "metadata": {},
          "execution_count": 46
        }
      ]
    },
    {
      "cell_type": "code",
      "source": [
        "tf.reshape(x_reshape, [-1])"
      ],
      "metadata": {
        "colab": {
          "base_uri": "https://localhost:8080/"
        },
        "id": "6mUwzEXDBhMW",
        "outputId": "131b908c-e8f4-498c-a91a-f6b4b13dc612"
      },
      "execution_count": 49,
      "outputs": [
        {
          "output_type": "execute_result",
          "data": {
            "text/plain": [
              "<tf.Tensor: shape=(8,), dtype=int32, numpy=array([2, 5, 6, 6, 4, 6, 1, 2], dtype=int32)>"
            ]
          },
          "metadata": {},
          "execution_count": 49
        }
      ]
    },
    {
      "cell_type": "code",
      "source": [
        "t1 = tf.constant([[1, 2, 3],\n",
        "                  [4, 5, 6]])\n",
        "t2 = tf.constant([[7, 8, 9],\n",
        "                  [10, 11, 12]])\n",
        "\n",
        "tf.concat([t1, t2], axis = 1)\n",
        "\n",
        "# shape1 = (1, 2, 3)\n",
        "# shape2 = (1, 2, 3)\n",
        "\n",
        "# axis = 0\n",
        "# new shape would be (2, 2, 3)\n",
        "\n",
        "# axis = 1\n",
        "# new shape would be (1, 4, 3)\n",
        "\n",
        "# axis = 2\n",
        "# new shape would be (1, 2, 6)"
      ],
      "metadata": {
        "colab": {
          "base_uri": "https://localhost:8080/"
        },
        "id": "lISjayRswThM",
        "outputId": "dbb3ca54-a969-4fde-b8e7-35167410ee79"
      },
      "execution_count": 52,
      "outputs": [
        {
          "output_type": "execute_result",
          "data": {
            "text/plain": [
              "<tf.Tensor: shape=(2, 6), dtype=int32, numpy=\n",
              "array([[ 1,  2,  3,  7,  8,  9],\n",
              "       [ 4,  5,  6, 10, 11, 12]], dtype=int32)>"
            ]
          },
          "metadata": {},
          "execution_count": 52
        }
      ]
    },
    {
      "cell_type": "code",
      "source": [
        "tf.concat([t1, t2], axis = 0)"
      ],
      "metadata": {
        "colab": {
          "base_uri": "https://localhost:8080/"
        },
        "id": "zhzCwgZ1wTj7",
        "outputId": "2a079af6-d92f-44c9-adc3-85a8ab915878"
      },
      "execution_count": 53,
      "outputs": [
        {
          "output_type": "execute_result",
          "data": {
            "text/plain": [
              "<tf.Tensor: shape=(4, 3), dtype=int32, numpy=\n",
              "array([[ 1,  2,  3],\n",
              "       [ 4,  5,  6],\n",
              "       [ 7,  8,  9],\n",
              "       [10, 11, 12]], dtype=int32)>"
            ]
          },
          "metadata": {},
          "execution_count": 53
        }
      ]
    },
    {
      "cell_type": "code",
      "source": [
        "x = tf.constant([1, 4])\n",
        "y = tf.constant([2, 5])\n",
        "z = tf.constant([3, 6])\n",
        "\n",
        "tf.stack([x, y, z], axis = 0)\n",
        "\n",
        "# if axis == 0 then the output tensor will have the shape (N, A, B, C). if axis == 1 then the output tensor will have the shape (A, N, B, C)."
      ],
      "metadata": {
        "colab": {
          "base_uri": "https://localhost:8080/"
        },
        "id": "XgKfW1KcEQ_O",
        "outputId": "d5ed58d9-888f-4a73-bef6-f868c74d8ac8"
      },
      "execution_count": 55,
      "outputs": [
        {
          "output_type": "execute_result",
          "data": {
            "text/plain": [
              "<tf.Tensor: shape=(3, 2), dtype=int32, numpy=\n",
              "array([[1, 4],\n",
              "       [2, 5],\n",
              "       [3, 6]], dtype=int32)>"
            ]
          },
          "metadata": {},
          "execution_count": 55
        }
      ]
    },
    {
      "cell_type": "code",
      "source": [
        "tf.stack([t1, t2], axis = 2)\n",
        "\n",
        "# shape - 2 tensors are there t1 and t2\n",
        "# so shape is -> 2 <-, 2, 3\n",
        "\n",
        "\n",
        "# 4, 3 + 4, 3 -> 2, 4, 3 --- axis = 0\n",
        "# 4, 3 + 4, 3 -> 4, 2, 3 --- axis = 1\n",
        "# 4, 3 + 4, 3 -> 4, 3, 2 --- axis = 2"
      ],
      "metadata": {
        "colab": {
          "base_uri": "https://localhost:8080/"
        },
        "id": "hYX_e-9FwTlz",
        "outputId": "da605ecb-2ae4-4bdb-b5ec-d875cd864d55"
      },
      "execution_count": 56,
      "outputs": [
        {
          "output_type": "execute_result",
          "data": {
            "text/plain": [
              "<tf.Tensor: shape=(2, 3, 2), dtype=int32, numpy=\n",
              "array([[[ 1,  7],\n",
              "        [ 2,  8],\n",
              "        [ 3,  9]],\n",
              "\n",
              "       [[ 4, 10],\n",
              "        [ 5, 11],\n",
              "        [ 6, 12]]], dtype=int32)>"
            ]
          },
          "metadata": {},
          "execution_count": 56
        }
      ]
    },
    {
      "cell_type": "code",
      "source": [
        "tf.stack([t1, t2], axis = 1)"
      ],
      "metadata": {
        "colab": {
          "base_uri": "https://localhost:8080/"
        },
        "id": "8F1ch4exwTpN",
        "outputId": "7f630a83-bc6e-4845-84b8-94423cee852c"
      },
      "execution_count": 15,
      "outputs": [
        {
          "output_type": "execute_result",
          "data": {
            "text/plain": [
              "<tf.Tensor: shape=(2, 2, 3), dtype=int32, numpy=\n",
              "array([[[ 1,  2,  3],\n",
              "        [ 7,  8,  9]],\n",
              "\n",
              "       [[ 4,  5,  6],\n",
              "        [10, 11, 12]]], dtype=int32)>"
            ]
          },
          "metadata": {},
          "execution_count": 15
        }
      ]
    },
    {
      "cell_type": "code",
      "source": [
        "t = tf.constant([[1, 2, 3], [4, 5, 6]])\n",
        "paddings = tf.constant([[1, 1], [2, 2]])  # 1 row above and 1 row below, 2 columns left and 2 columns right\n",
        "\n",
        "tf.pad(t, paddings)\n",
        "# tf.pad(t, paddings, constant_values = 3)"
      ],
      "metadata": {
        "colab": {
          "base_uri": "https://localhost:8080/"
        },
        "id": "-1kplP700m1n",
        "outputId": "61878489-d9da-4e3b-9947-8df3cbf59177"
      },
      "execution_count": 18,
      "outputs": [
        {
          "output_type": "execute_result",
          "data": {
            "text/plain": [
              "<tf.Tensor: shape=(4, 7), dtype=int32, numpy=\n",
              "array([[0, 0, 0, 0, 0, 0, 0],\n",
              "       [0, 0, 1, 2, 3, 0, 0],\n",
              "       [0, 0, 4, 5, 6, 0, 0],\n",
              "       [0, 0, 0, 0, 0, 0, 0]], dtype=int32)>"
            ]
          },
          "metadata": {},
          "execution_count": 18
        }
      ]
    },
    {
      "cell_type": "code",
      "source": [
        "params = tf.constant(['p0', 'p1', 'p2', 'p3', 'p4', 'p5'])\n",
        "print(params.shape)\n",
        "params[1:3+1]"
      ],
      "metadata": {
        "colab": {
          "base_uri": "https://localhost:8080/"
        },
        "id": "rn8RzIiV1hQu",
        "outputId": "2987f7f5-8456-4f32-bcf6-a90498c40c62"
      },
      "execution_count": 22,
      "outputs": [
        {
          "output_type": "stream",
          "name": "stdout",
          "text": [
            "(6,)\n"
          ]
        },
        {
          "output_type": "execute_result",
          "data": {
            "text/plain": [
              "<tf.Tensor: shape=(3,), dtype=string, numpy=array([b'p1', b'p2', b'p3'], dtype=object)>"
            ]
          },
          "metadata": {},
          "execution_count": 22
        }
      ]
    },
    {
      "cell_type": "code",
      "source": [
        "params = tf.constant([[0, 1.0, 2.0],\n",
        "                      [10.0, 11.0, 12.0],\n",
        "                      [20.0, 21.0, 22.0],\n",
        "                      [30.0, 31.0, 32.0]])\n",
        "print(params.shape)\n",
        "tf.gather(params, [0, 2, 3], axis = 0) # In this we are saying that we want 0th, 2nd and 3rd index"
      ],
      "metadata": {
        "colab": {
          "base_uri": "https://localhost:8080/"
        },
        "id": "RAMQr6DS6KqL",
        "outputId": "ac664471-13cb-4ccd-8909-3ae3359629a3"
      },
      "execution_count": 60,
      "outputs": [
        {
          "output_type": "stream",
          "name": "stdout",
          "text": [
            "(4, 3)\n"
          ]
        },
        {
          "output_type": "execute_result",
          "data": {
            "text/plain": [
              "<tf.Tensor: shape=(3, 3), dtype=float32, numpy=\n",
              "array([[ 0.,  1.,  2.],\n",
              "       [20., 21., 22.],\n",
              "       [30., 31., 32.]], dtype=float32)>"
            ]
          },
          "metadata": {},
          "execution_count": 60
        }
      ]
    },
    {
      "cell_type": "code",
      "source": [
        "params = tf.constant([[0, 1.0, 2.0],\n",
        "                      [10.0, 11.0, 12.0],\n",
        "                      [20.0, 21.0, 22.0],\n",
        "                      [30.0, 31.0, 32.0]])\n",
        "print(params.shape)\n",
        "tf.gather(params, [0, 2], axis = 1)"
      ],
      "metadata": {
        "colab": {
          "base_uri": "https://localhost:8080/"
        },
        "id": "flBJuy446ld6",
        "outputId": "c0ac4937-35e2-4fef-c369-cdb38b87b814"
      },
      "execution_count": 29,
      "outputs": [
        {
          "output_type": "stream",
          "name": "stdout",
          "text": [
            "(4, 3)\n"
          ]
        },
        {
          "output_type": "execute_result",
          "data": {
            "text/plain": [
              "<tf.Tensor: shape=(4, 2), dtype=float32, numpy=\n",
              "array([[ 0.,  2.],\n",
              "       [10., 12.],\n",
              "       [20., 22.],\n",
              "       [30., 32.]], dtype=float32)>"
            ]
          },
          "metadata": {},
          "execution_count": 29
        }
      ]
    },
    {
      "cell_type": "code",
      "source": [
        "# indices = [[0],\n",
        "#            [1]]\n",
        "\n",
        "indices = [1, 1]\n",
        "\n",
        "params = [['a', 'b'],\n",
        "          ['c', 'd']]\n",
        "\n",
        "tf.gather_nd(params, indices)"
      ],
      "metadata": {
        "colab": {
          "base_uri": "https://localhost:8080/"
        },
        "id": "8DGcWOim7GsO",
        "outputId": "74509092-d4be-43a0-e112-ce3829bb4163"
      },
      "execution_count": 5,
      "outputs": [
        {
          "output_type": "execute_result",
          "data": {
            "text/plain": [
              "<tf.Tensor: shape=(), dtype=string, numpy=b'd'>"
            ]
          },
          "metadata": {},
          "execution_count": 5
        }
      ]
    },
    {
      "cell_type": "code",
      "source": [
        "indices = [ [0, 1],\n",
        "            [1, 0]]\n",
        "\n",
        "params = [[['a0', 'b0'],\n",
        "           ['c0', 'd0']],\n",
        "\n",
        "          [['a1', 'b1'],\n",
        "           ['c1', 'd1']]]\n",
        "\n",
        "tf.gather_nd(params, indices)"
      ],
      "metadata": {
        "colab": {
          "base_uri": "https://localhost:8080/"
        },
        "id": "Ko5aKpGt55dZ",
        "outputId": "648f57df-8c47-4e4e-f0dc-1620faff1a38"
      },
      "execution_count": 6,
      "outputs": [
        {
          "output_type": "execute_result",
          "data": {
            "text/plain": [
              "<tf.Tensor: shape=(2, 2), dtype=string, numpy=\n",
              "array([[b'c0', b'd0'],\n",
              "       [b'a1', b'b1']], dtype=object)>"
            ]
          },
          "metadata": {},
          "execution_count": 6
        }
      ]
    },
    {
      "cell_type": "code",
      "source": [
        "indices = [ [[0, 1],\n",
        "            [1, 0]],\n",
        "\n",
        "            [[0, 0],\n",
        "            [1, 1]],\n",
        "\n",
        "            ]\n",
        "\n",
        "params = [[['a0', 'b0'],\n",
        "           ['c0', 'd0']],\n",
        "\n",
        "          [['a1', 'b1'],\n",
        "           ['c1', 'd1']]]\n",
        "\n",
        "tf.gather_nd(params, indices)"
      ],
      "metadata": {
        "colab": {
          "base_uri": "https://localhost:8080/"
        },
        "id": "E452aYfk6kHC",
        "outputId": "3fd571ec-8cad-480d-8d6f-925bb2196da1"
      },
      "execution_count": 7,
      "outputs": [
        {
          "output_type": "execute_result",
          "data": {
            "text/plain": [
              "<tf.Tensor: shape=(2, 2, 2), dtype=string, numpy=\n",
              "array([[[b'c0', b'd0'],\n",
              "        [b'a1', b'b1']],\n",
              "\n",
              "       [[b'a0', b'b0'],\n",
              "        [b'c1', b'd1']]], dtype=object)>"
            ]
          },
          "metadata": {},
          "execution_count": 7
        }
      ]
    },
    {
      "cell_type": "code",
      "source": [
        "indices = [ [0, 1],\n",
        "            [1, 0]]\n",
        "\n",
        "params = [[['a0', 'b0'],\n",
        "           ['c0', 'd0']],\n",
        "\n",
        "          [['a1', 'b1'],\n",
        "           ['c1', 'd1']]]\n",
        "\n",
        "tf.gather_nd(params, indices, batch_dims = 1) # Now batch is well aware that 1st block from a0 to d0 it belongs the [0, 1] and a1 to d1 it belongs to 1, 0\n",
        "# so it starts from 0 matching a0 b0 then 1 which is b0\n",
        "# similarly 1 0 -> c1 d1 then 0 which is c1"
      ],
      "metadata": {
        "colab": {
          "base_uri": "https://localhost:8080/"
        },
        "id": "Aaxo6f2l7M95",
        "outputId": "18005748-2d84-4d86-f01e-649ed869ee9f"
      },
      "execution_count": 8,
      "outputs": [
        {
          "output_type": "execute_result",
          "data": {
            "text/plain": [
              "<tf.Tensor: shape=(2,), dtype=string, numpy=array([b'b0', b'c1'], dtype=object)>"
            ]
          },
          "metadata": {},
          "execution_count": 8
        }
      ]
    },
    {
      "cell_type": "code",
      "source": [],
      "metadata": {
        "id": "UgEPnJwt8Xyo"
      },
      "execution_count": null,
      "outputs": []
    }
  ]
}